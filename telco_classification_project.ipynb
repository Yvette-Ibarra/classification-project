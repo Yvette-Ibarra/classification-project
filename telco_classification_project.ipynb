{
 "cells": [
  {
   "cell_type": "markdown",
   "id": "9515825c",
   "metadata": {},
   "source": [
    "# $Telco$ $Churn$"
   ]
  },
  {
   "cell_type": "markdown",
   "id": "fb2072b3",
   "metadata": {},
   "source": [
    "# Goals:"
   ]
  },
  {
   "cell_type": "markdown",
   "id": "36b6db03",
   "metadata": {},
   "source": [
    "* Discover the drivers of customer churn within the Telco company.\n",
    "\n",
    "* Use drivers to built models that can predict if a Telco customer will churn."
   ]
  },
  {
   "cell_type": "markdown",
   "id": "d7154eec",
   "metadata": {},
   "source": [
    "# Imports"
   ]
  },
  {
   "cell_type": "code",
   "execution_count": 12,
   "id": "6af02ca8",
   "metadata": {},
   "outputs": [],
   "source": [
    "import pandas as pd\n",
    "import numpy as np\n",
    "import wrangle as w"
   ]
  },
  {
   "cell_type": "markdown",
   "id": "1c348048",
   "metadata": {},
   "source": [
    "# Acquire"
   ]
  },
  {
   "cell_type": "markdown",
   "id": "77a02944",
   "metadata": {},
   "source": [
    "* Data acquire from Codeup Database\n",
    "\n",
    "* It contained  7043 rows and 24 columns before cleaning\n",
    "\n",
    "* Each row represents a Telco customers\n",
    "\n",
    "* Each column represents a feature related to the customer."
   ]
  },
  {
   "cell_type": "code",
   "execution_count": 13,
   "id": "ff0a4afa",
   "metadata": {},
   "outputs": [],
   "source": [
    "# acquire telco data \n",
    "df = w.get_telco_data()"
   ]
  },
  {
   "cell_type": "markdown",
   "id": "9547500c",
   "metadata": {},
   "source": [
    "# Prepare"
   ]
  },
  {
   "cell_type": "markdown",
   "id": "850ae246",
   "metadata": {},
   "source": [
    "prepare actions:"
   ]
  },
  {
   "cell_type": "markdown",
   "id": "ef154e00",
   "metadata": {},
   "source": [
    "* Removed columns that contain unuseful information.\n",
    "* Removed columns that contain redundant information.\n",
    "* Removed 11 observations with whitespace in total charges column.\n",
    "* Total charges column will be converted to a numeric column.\n",
    "* Encoded categorical variables\n",
    "* Split data into train, validate and test (approx... ), stratifying on 'churn'\n"
   ]
  },
  {
   "cell_type": "markdown",
   "id": "551a5b40",
   "metadata": {},
   "source": [
    "###                                                             Data Dictionary"
   ]
  },
  {
   "cell_type": "markdown",
   "id": "3c734b26",
   "metadata": {},
   "source": [
    "\n",
    "| Feature | Definition |\n",
    "| --- | --- |\n",
    "| Gender | Whether a customer is male or female |\n",
    "| Senior Citizen | Whether a customer is Senior Citizen (1) or not (0) |\n",
    "| Partner | Whether the customer has a partner or not |\n",
    "| Dependents | Whether the customer has dependents or not |\n",
    "| Tenure | Number of months the customer has stayed with the company |\n",
    "| PhoneService | Whether the customer has a phone service or not |\n",
    "| MultipleLines | Whether the customer has multiple lines or not (Yes, No, No phone service)|\n",
    "| InternetService | Customer’s internet service provider (DSL, Fiber optic, No internet srvice)|\n",
    "| OnlineSecurity | Whether the customer has online security or not (Yes, No, No internet service) |\n",
    "| Additional Features | Encoded and values for categorical data and scaled versions continuous data|"
   ]
  },
  {
   "cell_type": "code",
   "execution_count": 14,
   "id": "34373b5c",
   "metadata": {},
   "outputs": [],
   "source": [
    "# cleaning data\n",
    "df = w.prep_telco(df)"
   ]
  },
  {
   "cell_type": "code",
   "execution_count": null,
   "id": "ba1c98ae",
   "metadata": {},
   "outputs": [],
   "source": []
  },
  {
   "cell_type": "markdown",
   "id": "24306b7a",
   "metadata": {},
   "source": [
    "# Looking at the first rows of data"
   ]
  },
  {
   "cell_type": "code",
   "execution_count": 21,
   "id": "c8ebba09",
   "metadata": {
    "scrolled": true
   },
   "outputs": [
    {
     "ename": "NameError",
     "evalue": "name 'train' is not defined",
     "output_type": "error",
     "traceback": [
      "\u001b[0;31m---------------------------------------------------------------------------\u001b[0m",
      "\u001b[0;31mNameError\u001b[0m                                 Traceback (most recent call last)",
      "Input \u001b[0;32mIn [21]\u001b[0m, in \u001b[0;36m<cell line: 1>\u001b[0;34m()\u001b[0m\n\u001b[0;32m----> 1\u001b[0m \u001b[43mtrain\u001b[49m\u001b[38;5;241m.\u001b[39mhead(\u001b[38;5;241m10\u001b[39m)\n",
      "\u001b[0;31mNameError\u001b[0m: name 'train' is not defined"
     ]
    }
   ],
   "source": [
    "train.head(10)"
   ]
  },
  {
   "cell_type": "markdown",
   "id": "b441c6fe",
   "metadata": {},
   "source": [
    "# Data Summary"
   ]
  },
  {
   "cell_type": "code",
   "execution_count": 20,
   "id": "5e1396bc",
   "metadata": {},
   "outputs": [
    {
     "ename": "NameError",
     "evalue": "name 'train' is not defined",
     "output_type": "error",
     "traceback": [
      "\u001b[0;31m---------------------------------------------------------------------------\u001b[0m",
      "\u001b[0;31mNameError\u001b[0m                                 Traceback (most recent call last)",
      "Input \u001b[0;32mIn [20]\u001b[0m, in \u001b[0;36m<cell line: 1>\u001b[0;34m()\u001b[0m\n\u001b[0;32m----> 1\u001b[0m \u001b[43mtrain\u001b[49m\u001b[38;5;241m.\u001b[39mdescribe()\n",
      "\u001b[0;31mNameError\u001b[0m: name 'train' is not defined"
     ]
    }
   ],
   "source": [
    "train.describe()"
   ]
  },
  {
   "cell_type": "markdown",
   "id": "fb110b73",
   "metadata": {},
   "source": [
    "# Explore"
   ]
  },
  {
   "cell_type": "code",
   "execution_count": null,
   "id": "f9b35fc6",
   "metadata": {},
   "outputs": [],
   "source": []
  }
 ],
 "metadata": {
  "kernelspec": {
   "display_name": "Python 3 (ipykernel)",
   "language": "python",
   "name": "python3"
  },
  "language_info": {
   "codemirror_mode": {
    "name": "ipython",
    "version": 3
   },
   "file_extension": ".py",
   "mimetype": "text/x-python",
   "name": "python",
   "nbconvert_exporter": "python",
   "pygments_lexer": "ipython3",
   "version": "3.9.12"
  }
 },
 "nbformat": 4,
 "nbformat_minor": 5
}
