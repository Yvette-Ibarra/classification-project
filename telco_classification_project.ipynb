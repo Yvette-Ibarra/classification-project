{
 "cells": [
  {
   "cell_type": "markdown",
   "id": "9c9dc38f",
   "metadata": {},
   "source": [
    "# $Telco$ $Churn$"
   ]
  },
  {
   "cell_type": "markdown",
   "id": "488f2b75",
   "metadata": {},
   "source": [
    "# Goals:"
   ]
  },
  {
   "cell_type": "markdown",
   "id": "cf055c20",
   "metadata": {},
   "source": [
    "* Discover the drivers of customer churn within the Telco company.\n",
    "\n",
    "* Use drivers to built models that can predict if a Telco customer will churn."
   ]
  },
  {
   "cell_type": "markdown",
   "id": "73277dec",
   "metadata": {},
   "source": [
    "# Imports"
   ]
  },
  {
   "cell_type": "code",
   "execution_count": 1,
   "id": "63153a03",
   "metadata": {},
   "outputs": [],
   "source": [
    "import pandas as pd\n",
    "import numpy as np\n",
    "import wrangle as w"
   ]
  },
  {
   "cell_type": "markdown",
   "id": "e0008c6a",
   "metadata": {},
   "source": [
    "# Acquire"
   ]
  },
  {
   "cell_type": "markdown",
   "id": "ef247ab0",
   "metadata": {},
   "source": [
    "* Data acquire from Codeup Database\n",
    "\n",
    "* It contained  7043 rows and 24 columns before cleaning\n",
    "\n",
    "* Each row represents a Telco customers\n",
    "\n",
    "* Each column represents a feature related to the customer."
   ]
  },
  {
   "cell_type": "code",
   "execution_count": 2,
   "id": "2e3ec8f3",
   "metadata": {},
   "outputs": [],
   "source": [
    "# acquire telco data \n",
    "df = w.get_telco_data()"
   ]
  },
  {
   "cell_type": "markdown",
   "id": "65fb2fd0",
   "metadata": {},
   "source": [
    "# Prepare"
   ]
  },
  {
   "cell_type": "markdown",
   "id": "4e6928a6",
   "metadata": {},
   "source": [
    "prepare actions:"
   ]
  },
  {
   "cell_type": "markdown",
   "id": "101069dc",
   "metadata": {},
   "source": [
    "* Removed columns that contain unuseful information.\n",
    "* Removed columns that contain redundant information.\n",
    "* Removed 11 observations with whitespace in total charges column.\n",
    "* Total charges column will be converted to a numeric column.\n",
    "* Encoded categorical variables\n",
    "* Split data into train, validate and test (approx: train 56%, validate 24%, test 20%), stratifying on 'churn'\n",
    "* \n"
   ]
  },
  {
   "cell_type": "markdown",
   "id": "52a0c033",
   "metadata": {},
   "source": [
    "###                                                             Data Dictionary"
   ]
  },
  {
   "cell_type": "markdown",
   "id": "038094db",
   "metadata": {},
   "source": [
    "\n",
    "| Feature | Definition |\n",
    "| --- | --- |\n",
    "| Gender | Whether a customer is male or female |\n",
    "| Senior Citizen | Whether a customer is Senior Citizen (1) or not (0) |\n",
    "| Partner | Whether the customer has a partner or not |\n",
    "| Dependents | Whether the customer has dependents or not |\n",
    "| Tenure | Number of months the customer has stayed with the company |\n",
    "| PhoneService | Whether the customer has a phone service or not |\n",
    "| MultipleLines | Whether the customer has multiple lines or not (Yes, No, No phone service)|\n",
    "| InternetService | Customer’s internet service provider (DSL, Fiber optic, No internet srvice)|\n",
    "| OnlineSecurity | Whether the customer has online security or not (Yes, No, No internet service) |\n",
    "| Additional Features | Encoded and values for categorical data and scaled versions continuous data|"
   ]
  },
  {
   "cell_type": "code",
   "execution_count": 3,
   "id": "80f2fc9e",
   "metadata": {},
   "outputs": [],
   "source": [
    "# cleaning data\n",
    "df = w.prep_telco(df)"
   ]
  },
  {
   "cell_type": "code",
   "execution_count": null,
   "id": "dd0ea43e",
   "metadata": {},
   "outputs": [],
   "source": []
  },
  {
   "cell_type": "markdown",
   "id": "a8135f16",
   "metadata": {},
   "source": [
    "# Looking at the first rows of data"
   ]
  },
  {
   "cell_type": "code",
   "execution_count": 4,
   "id": "ef5e4949",
   "metadata": {
    "scrolled": true
   },
   "outputs": [
    {
     "ename": "NameError",
     "evalue": "name 'train' is not defined",
     "output_type": "error",
     "traceback": [
      "\u001b[0;31m---------------------------------------------------------------------------\u001b[0m",
      "\u001b[0;31mNameError\u001b[0m                                 Traceback (most recent call last)",
      "Input \u001b[0;32mIn [4]\u001b[0m, in \u001b[0;36m<cell line: 1>\u001b[0;34m()\u001b[0m\n\u001b[0;32m----> 1\u001b[0m \u001b[43mtrain\u001b[49m\u001b[38;5;241m.\u001b[39mhead(\u001b[38;5;241m10\u001b[39m)\n",
      "\u001b[0;31mNameError\u001b[0m: name 'train' is not defined"
     ]
    }
   ],
   "source": [
    "train.head(10)"
   ]
  },
  {
   "cell_type": "markdown",
   "id": "9588ea4e",
   "metadata": {},
   "source": [
    "# Data Summary"
   ]
  },
  {
   "cell_type": "code",
   "execution_count": null,
   "id": "a62fd28c",
   "metadata": {},
   "outputs": [],
   "source": [
    "train.describe()"
   ]
  },
  {
   "cell_type": "markdown",
   "id": "7213c770",
   "metadata": {},
   "source": [
    "# Explore"
   ]
  },
  {
   "cell_type": "code",
   "execution_count": null,
   "id": "fc04906c",
   "metadata": {},
   "outputs": [],
   "source": []
  },
  {
   "cell_type": "markdown",
   "id": "a7b04aea",
   "metadata": {},
   "source": [
    "# Exploration Summary"
   ]
  },
  {
   "cell_type": "code",
   "execution_count": null,
   "id": "f5f77c89",
   "metadata": {},
   "outputs": [],
   "source": []
  },
  {
   "cell_type": "markdown",
   "id": "299ac44a",
   "metadata": {},
   "source": [
    "# Features that will be included in my model"
   ]
  },
  {
   "cell_type": "code",
   "execution_count": null,
   "id": "eea1e408",
   "metadata": {},
   "outputs": [],
   "source": []
  },
  {
   "cell_type": "markdown",
   "id": "2fdc1a9e",
   "metadata": {},
   "source": [
    "# Features that will be not included in my model"
   ]
  },
  {
   "cell_type": "code",
   "execution_count": null,
   "id": "b6953c0e",
   "metadata": {},
   "outputs": [],
   "source": []
  },
  {
   "cell_type": "markdown",
   "id": "a436c78d",
   "metadata": {},
   "source": [
    "# Modeling"
   ]
  },
  {
   "cell_type": "code",
   "execution_count": null,
   "id": "35f5bf57",
   "metadata": {},
   "outputs": [],
   "source": []
  },
  {
   "cell_type": "markdown",
   "id": "0406b98b",
   "metadata": {},
   "source": [
    "# Decision Tree"
   ]
  },
  {
   "cell_type": "code",
   "execution_count": null,
   "id": "2d7fe4d2",
   "metadata": {},
   "outputs": [],
   "source": []
  },
  {
   "cell_type": "markdown",
   "id": "84c6715b",
   "metadata": {},
   "source": [
    "# Random Forest"
   ]
  }
 ],
 "metadata": {
  "kernelspec": {
   "display_name": "Python 3 (ipykernel)",
   "language": "python",
   "name": "python3"
  },
  "language_info": {
   "codemirror_mode": {
    "name": "ipython",
    "version": 3
   },
   "file_extension": ".py",
   "mimetype": "text/x-python",
   "name": "python",
   "nbconvert_exporter": "python",
   "pygments_lexer": "ipython3",
   "version": "3.9.12"
  }
 },
 "nbformat": 4,
 "nbformat_minor": 5
}
