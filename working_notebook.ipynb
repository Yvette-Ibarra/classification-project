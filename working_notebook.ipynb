{
 "cells": [
  {
   "cell_type": "markdown",
   "id": "f05608db",
   "metadata": {},
   "source": [
    "# $Telco Project Data$"
   ]
  },
  {
   "cell_type": "markdown",
   "id": "e7271d43",
   "metadata": {},
   "source": [
    "### Imports"
   ]
  },
  {
   "cell_type": "code",
   "execution_count": 1,
   "id": "8a2eddcb",
   "metadata": {},
   "outputs": [],
   "source": [
    "import pandas as pd\n",
    "import numpy as np\n",
    "import wrangle as w\n",
    "import matplotlib.pyplot as plt\n",
    "import scipy.stats as stats\n",
    "\n",
    "# to see all columns in wide datasets\n",
    "pd.set_option('display.max_columns', None)\n",
    "\n",
    "import seaborn as sns\n",
    "\n",
    "# train test split from sklearn\n",
    "from sklearn.model_selection import train_test_split\n"
   ]
  },
  {
   "cell_type": "code",
   "execution_count": 2,
   "id": "1d6c8daa",
   "metadata": {},
   "outputs": [],
   "source": [
    "# acquire telco data \n",
    "df = w.get_telco_data()"
   ]
  },
  {
   "cell_type": "code",
   "execution_count": 3,
   "id": "a5105c33",
   "metadata": {},
   "outputs": [
    {
     "data": {
      "text/plain": [
       "Index(['payment_type_id', 'internet_service_type_id', 'contract_type_id',\n",
       "       'customer_id', 'gender', 'senior_citizen', 'partner', 'dependents',\n",
       "       'tenure', 'phone_service', 'multiple_lines', 'online_security',\n",
       "       'online_backup', 'device_protection', 'tech_support', 'streaming_tv',\n",
       "       'streaming_movies', 'paperless_billing', 'monthly_charges',\n",
       "       'total_charges', 'churn', 'contract_type', 'internet_service_type',\n",
       "       'payment_type'],\n",
       "      dtype='object')"
      ]
     },
     "execution_count": 3,
     "metadata": {},
     "output_type": "execute_result"
    }
   ],
   "source": [
    "df.columns"
   ]
  },
  {
   "cell_type": "code",
   "execution_count": 4,
   "id": "2a271fd3",
   "metadata": {},
   "outputs": [
    {
     "data": {
      "text/plain": [
       "payment_type_id               int64\n",
       "internet_service_type_id      int64\n",
       "contract_type_id              int64\n",
       "customer_id                  object\n",
       "gender                       object\n",
       "senior_citizen                int64\n",
       "partner                      object\n",
       "dependents                   object\n",
       "tenure                        int64\n",
       "phone_service                object\n",
       "multiple_lines               object\n",
       "online_security              object\n",
       "online_backup                object\n",
       "device_protection            object\n",
       "tech_support                 object\n",
       "streaming_tv                 object\n",
       "streaming_movies             object\n",
       "paperless_billing            object\n",
       "monthly_charges             float64\n",
       "total_charges                object\n",
       "churn                        object\n",
       "contract_type                object\n",
       "internet_service_type        object\n",
       "payment_type                 object\n",
       "dtype: object"
      ]
     },
     "execution_count": 4,
     "metadata": {},
     "output_type": "execute_result"
    }
   ],
   "source": [
    "df.dtypes"
   ]
  },
  {
   "cell_type": "code",
   "execution_count": 5,
   "id": "291b102f",
   "metadata": {},
   "outputs": [
    {
     "data": {
      "text/plain": [
       "(7043, 24)"
      ]
     },
     "execution_count": 5,
     "metadata": {},
     "output_type": "execute_result"
    }
   ],
   "source": [
    "df.shape\n"
   ]
  },
  {
   "cell_type": "code",
   "execution_count": 6,
   "id": "3880ebd0",
   "metadata": {},
   "outputs": [
    {
     "data": {
      "text/plain": [
       "           11\n",
       "20.2       11\n",
       "19.75       9\n",
       "19.9        8\n",
       "20.05       8\n",
       "           ..\n",
       "2387.75     1\n",
       "6302.8      1\n",
       "2058.5      1\n",
       "829.55      1\n",
       "3707.6      1\n",
       "Name: total_charges, Length: 6531, dtype: int64"
      ]
     },
     "execution_count": 6,
     "metadata": {},
     "output_type": "execute_result"
    }
   ],
   "source": [
    "df.total_charges.value_counts()"
   ]
  },
  {
   "cell_type": "markdown",
   "id": "620ff5da",
   "metadata": {},
   "source": [
    "# prepare"
   ]
  },
  {
   "cell_type": "code",
   "execution_count": 7,
   "id": "dfd0b1f6",
   "metadata": {},
   "outputs": [],
   "source": [
    "# cleaning data\n",
    "df = w.prep_telco(df)"
   ]
  },
  {
   "cell_type": "code",
   "execution_count": 8,
   "id": "302fbcb9",
   "metadata": {
    "scrolled": true
   },
   "outputs": [
    {
     "data": {
      "text/html": [
       "<div>\n",
       "<style scoped>\n",
       "    .dataframe tbody tr th:only-of-type {\n",
       "        vertical-align: middle;\n",
       "    }\n",
       "\n",
       "    .dataframe tbody tr th {\n",
       "        vertical-align: top;\n",
       "    }\n",
       "\n",
       "    .dataframe thead th {\n",
       "        text-align: right;\n",
       "    }\n",
       "</style>\n",
       "<table border=\"1\" class=\"dataframe\">\n",
       "  <thead>\n",
       "    <tr style=\"text-align: right;\">\n",
       "      <th></th>\n",
       "      <th>gender</th>\n",
       "      <th>senior_citizen</th>\n",
       "      <th>partner</th>\n",
       "      <th>dependents</th>\n",
       "      <th>tenure</th>\n",
       "      <th>phone_service</th>\n",
       "      <th>multiple_lines</th>\n",
       "      <th>online_security</th>\n",
       "      <th>online_backup</th>\n",
       "      <th>device_protection</th>\n",
       "      <th>tech_support</th>\n",
       "      <th>streaming_tv</th>\n",
       "      <th>streaming_movies</th>\n",
       "      <th>paperless_billing</th>\n",
       "      <th>monthly_charges</th>\n",
       "      <th>total_charges</th>\n",
       "      <th>churn</th>\n",
       "      <th>contract_type</th>\n",
       "      <th>internet_service_type</th>\n",
       "      <th>payment_type</th>\n",
       "      <th>gender_Female</th>\n",
       "      <th>gender_Male</th>\n",
       "      <th>partner_No</th>\n",
       "      <th>partner_Yes</th>\n",
       "      <th>dependents_No</th>\n",
       "      <th>dependents_Yes</th>\n",
       "      <th>phone_service_No</th>\n",
       "      <th>phone_service_Yes</th>\n",
       "      <th>multiple_lines_No</th>\n",
       "      <th>multiple_lines_No phone service</th>\n",
       "      <th>multiple_lines_Yes</th>\n",
       "      <th>online_security_No</th>\n",
       "      <th>online_security_No internet service</th>\n",
       "      <th>online_security_Yes</th>\n",
       "      <th>online_backup_No</th>\n",
       "      <th>online_backup_No internet service</th>\n",
       "      <th>online_backup_Yes</th>\n",
       "      <th>device_protection_No</th>\n",
       "      <th>device_protection_No internet service</th>\n",
       "      <th>device_protection_Yes</th>\n",
       "      <th>tech_support_No</th>\n",
       "      <th>tech_support_No internet service</th>\n",
       "      <th>tech_support_Yes</th>\n",
       "      <th>streaming_tv_No</th>\n",
       "      <th>streaming_tv_No internet service</th>\n",
       "      <th>streaming_tv_Yes</th>\n",
       "      <th>streaming_movies_No</th>\n",
       "      <th>streaming_movies_No internet service</th>\n",
       "      <th>streaming_movies_Yes</th>\n",
       "      <th>paperless_billing_No</th>\n",
       "      <th>paperless_billing_Yes</th>\n",
       "      <th>contract_type_Month-to-month</th>\n",
       "      <th>contract_type_One year</th>\n",
       "      <th>contract_type_Two year</th>\n",
       "      <th>internet_service_type_DSL</th>\n",
       "      <th>internet_service_type_Fiber optic</th>\n",
       "      <th>internet_service_type_None</th>\n",
       "      <th>payment_type_Bank transfer (automatic)</th>\n",
       "      <th>payment_type_Credit card (automatic)</th>\n",
       "      <th>payment_type_Electronic check</th>\n",
       "      <th>payment_type_Mailed check</th>\n",
       "    </tr>\n",
       "  </thead>\n",
       "  <tbody>\n",
       "    <tr>\n",
       "      <th>0</th>\n",
       "      <td>Female</td>\n",
       "      <td>0</td>\n",
       "      <td>Yes</td>\n",
       "      <td>Yes</td>\n",
       "      <td>9</td>\n",
       "      <td>Yes</td>\n",
       "      <td>No</td>\n",
       "      <td>No</td>\n",
       "      <td>Yes</td>\n",
       "      <td>No</td>\n",
       "      <td>Yes</td>\n",
       "      <td>Yes</td>\n",
       "      <td>No</td>\n",
       "      <td>Yes</td>\n",
       "      <td>65.60</td>\n",
       "      <td>593.30</td>\n",
       "      <td>No</td>\n",
       "      <td>One year</td>\n",
       "      <td>DSL</td>\n",
       "      <td>Mailed check</td>\n",
       "      <td>1</td>\n",
       "      <td>0</td>\n",
       "      <td>0</td>\n",
       "      <td>1</td>\n",
       "      <td>0</td>\n",
       "      <td>1</td>\n",
       "      <td>0</td>\n",
       "      <td>1</td>\n",
       "      <td>1</td>\n",
       "      <td>0</td>\n",
       "      <td>0</td>\n",
       "      <td>1</td>\n",
       "      <td>0</td>\n",
       "      <td>0</td>\n",
       "      <td>0</td>\n",
       "      <td>0</td>\n",
       "      <td>1</td>\n",
       "      <td>1</td>\n",
       "      <td>0</td>\n",
       "      <td>0</td>\n",
       "      <td>0</td>\n",
       "      <td>0</td>\n",
       "      <td>1</td>\n",
       "      <td>0</td>\n",
       "      <td>0</td>\n",
       "      <td>1</td>\n",
       "      <td>1</td>\n",
       "      <td>0</td>\n",
       "      <td>0</td>\n",
       "      <td>0</td>\n",
       "      <td>1</td>\n",
       "      <td>0</td>\n",
       "      <td>1</td>\n",
       "      <td>0</td>\n",
       "      <td>1</td>\n",
       "      <td>0</td>\n",
       "      <td>0</td>\n",
       "      <td>0</td>\n",
       "      <td>0</td>\n",
       "      <td>0</td>\n",
       "      <td>1</td>\n",
       "    </tr>\n",
       "    <tr>\n",
       "      <th>1</th>\n",
       "      <td>Male</td>\n",
       "      <td>0</td>\n",
       "      <td>No</td>\n",
       "      <td>No</td>\n",
       "      <td>9</td>\n",
       "      <td>Yes</td>\n",
       "      <td>Yes</td>\n",
       "      <td>No</td>\n",
       "      <td>No</td>\n",
       "      <td>No</td>\n",
       "      <td>No</td>\n",
       "      <td>No</td>\n",
       "      <td>Yes</td>\n",
       "      <td>No</td>\n",
       "      <td>59.90</td>\n",
       "      <td>542.40</td>\n",
       "      <td>No</td>\n",
       "      <td>Month-to-month</td>\n",
       "      <td>DSL</td>\n",
       "      <td>Mailed check</td>\n",
       "      <td>0</td>\n",
       "      <td>1</td>\n",
       "      <td>1</td>\n",
       "      <td>0</td>\n",
       "      <td>1</td>\n",
       "      <td>0</td>\n",
       "      <td>0</td>\n",
       "      <td>1</td>\n",
       "      <td>0</td>\n",
       "      <td>0</td>\n",
       "      <td>1</td>\n",
       "      <td>1</td>\n",
       "      <td>0</td>\n",
       "      <td>0</td>\n",
       "      <td>1</td>\n",
       "      <td>0</td>\n",
       "      <td>0</td>\n",
       "      <td>1</td>\n",
       "      <td>0</td>\n",
       "      <td>0</td>\n",
       "      <td>1</td>\n",
       "      <td>0</td>\n",
       "      <td>0</td>\n",
       "      <td>1</td>\n",
       "      <td>0</td>\n",
       "      <td>0</td>\n",
       "      <td>0</td>\n",
       "      <td>0</td>\n",
       "      <td>1</td>\n",
       "      <td>1</td>\n",
       "      <td>0</td>\n",
       "      <td>1</td>\n",
       "      <td>0</td>\n",
       "      <td>0</td>\n",
       "      <td>1</td>\n",
       "      <td>0</td>\n",
       "      <td>0</td>\n",
       "      <td>0</td>\n",
       "      <td>0</td>\n",
       "      <td>0</td>\n",
       "      <td>1</td>\n",
       "    </tr>\n",
       "    <tr>\n",
       "      <th>2</th>\n",
       "      <td>Male</td>\n",
       "      <td>0</td>\n",
       "      <td>No</td>\n",
       "      <td>No</td>\n",
       "      <td>4</td>\n",
       "      <td>Yes</td>\n",
       "      <td>No</td>\n",
       "      <td>No</td>\n",
       "      <td>No</td>\n",
       "      <td>Yes</td>\n",
       "      <td>No</td>\n",
       "      <td>No</td>\n",
       "      <td>No</td>\n",
       "      <td>Yes</td>\n",
       "      <td>73.90</td>\n",
       "      <td>280.85</td>\n",
       "      <td>Yes</td>\n",
       "      <td>Month-to-month</td>\n",
       "      <td>Fiber optic</td>\n",
       "      <td>Electronic check</td>\n",
       "      <td>0</td>\n",
       "      <td>1</td>\n",
       "      <td>1</td>\n",
       "      <td>0</td>\n",
       "      <td>1</td>\n",
       "      <td>0</td>\n",
       "      <td>0</td>\n",
       "      <td>1</td>\n",
       "      <td>1</td>\n",
       "      <td>0</td>\n",
       "      <td>0</td>\n",
       "      <td>1</td>\n",
       "      <td>0</td>\n",
       "      <td>0</td>\n",
       "      <td>1</td>\n",
       "      <td>0</td>\n",
       "      <td>0</td>\n",
       "      <td>0</td>\n",
       "      <td>0</td>\n",
       "      <td>1</td>\n",
       "      <td>1</td>\n",
       "      <td>0</td>\n",
       "      <td>0</td>\n",
       "      <td>1</td>\n",
       "      <td>0</td>\n",
       "      <td>0</td>\n",
       "      <td>1</td>\n",
       "      <td>0</td>\n",
       "      <td>0</td>\n",
       "      <td>0</td>\n",
       "      <td>1</td>\n",
       "      <td>1</td>\n",
       "      <td>0</td>\n",
       "      <td>0</td>\n",
       "      <td>0</td>\n",
       "      <td>1</td>\n",
       "      <td>0</td>\n",
       "      <td>0</td>\n",
       "      <td>0</td>\n",
       "      <td>1</td>\n",
       "      <td>0</td>\n",
       "    </tr>\n",
       "    <tr>\n",
       "      <th>3</th>\n",
       "      <td>Male</td>\n",
       "      <td>1</td>\n",
       "      <td>Yes</td>\n",
       "      <td>No</td>\n",
       "      <td>13</td>\n",
       "      <td>Yes</td>\n",
       "      <td>No</td>\n",
       "      <td>No</td>\n",
       "      <td>Yes</td>\n",
       "      <td>Yes</td>\n",
       "      <td>No</td>\n",
       "      <td>Yes</td>\n",
       "      <td>Yes</td>\n",
       "      <td>Yes</td>\n",
       "      <td>98.00</td>\n",
       "      <td>1237.85</td>\n",
       "      <td>Yes</td>\n",
       "      <td>Month-to-month</td>\n",
       "      <td>Fiber optic</td>\n",
       "      <td>Electronic check</td>\n",
       "      <td>0</td>\n",
       "      <td>1</td>\n",
       "      <td>0</td>\n",
       "      <td>1</td>\n",
       "      <td>1</td>\n",
       "      <td>0</td>\n",
       "      <td>0</td>\n",
       "      <td>1</td>\n",
       "      <td>1</td>\n",
       "      <td>0</td>\n",
       "      <td>0</td>\n",
       "      <td>1</td>\n",
       "      <td>0</td>\n",
       "      <td>0</td>\n",
       "      <td>0</td>\n",
       "      <td>0</td>\n",
       "      <td>1</td>\n",
       "      <td>0</td>\n",
       "      <td>0</td>\n",
       "      <td>1</td>\n",
       "      <td>1</td>\n",
       "      <td>0</td>\n",
       "      <td>0</td>\n",
       "      <td>0</td>\n",
       "      <td>0</td>\n",
       "      <td>1</td>\n",
       "      <td>0</td>\n",
       "      <td>0</td>\n",
       "      <td>1</td>\n",
       "      <td>0</td>\n",
       "      <td>1</td>\n",
       "      <td>1</td>\n",
       "      <td>0</td>\n",
       "      <td>0</td>\n",
       "      <td>0</td>\n",
       "      <td>1</td>\n",
       "      <td>0</td>\n",
       "      <td>0</td>\n",
       "      <td>0</td>\n",
       "      <td>1</td>\n",
       "      <td>0</td>\n",
       "    </tr>\n",
       "    <tr>\n",
       "      <th>4</th>\n",
       "      <td>Female</td>\n",
       "      <td>1</td>\n",
       "      <td>Yes</td>\n",
       "      <td>No</td>\n",
       "      <td>3</td>\n",
       "      <td>Yes</td>\n",
       "      <td>No</td>\n",
       "      <td>No</td>\n",
       "      <td>No</td>\n",
       "      <td>No</td>\n",
       "      <td>Yes</td>\n",
       "      <td>Yes</td>\n",
       "      <td>No</td>\n",
       "      <td>Yes</td>\n",
       "      <td>83.90</td>\n",
       "      <td>267.40</td>\n",
       "      <td>Yes</td>\n",
       "      <td>Month-to-month</td>\n",
       "      <td>Fiber optic</td>\n",
       "      <td>Mailed check</td>\n",
       "      <td>1</td>\n",
       "      <td>0</td>\n",
       "      <td>0</td>\n",
       "      <td>1</td>\n",
       "      <td>1</td>\n",
       "      <td>0</td>\n",
       "      <td>0</td>\n",
       "      <td>1</td>\n",
       "      <td>1</td>\n",
       "      <td>0</td>\n",
       "      <td>0</td>\n",
       "      <td>1</td>\n",
       "      <td>0</td>\n",
       "      <td>0</td>\n",
       "      <td>1</td>\n",
       "      <td>0</td>\n",
       "      <td>0</td>\n",
       "      <td>1</td>\n",
       "      <td>0</td>\n",
       "      <td>0</td>\n",
       "      <td>0</td>\n",
       "      <td>0</td>\n",
       "      <td>1</td>\n",
       "      <td>0</td>\n",
       "      <td>0</td>\n",
       "      <td>1</td>\n",
       "      <td>1</td>\n",
       "      <td>0</td>\n",
       "      <td>0</td>\n",
       "      <td>0</td>\n",
       "      <td>1</td>\n",
       "      <td>1</td>\n",
       "      <td>0</td>\n",
       "      <td>0</td>\n",
       "      <td>0</td>\n",
       "      <td>1</td>\n",
       "      <td>0</td>\n",
       "      <td>0</td>\n",
       "      <td>0</td>\n",
       "      <td>0</td>\n",
       "      <td>1</td>\n",
       "    </tr>\n",
       "    <tr>\n",
       "      <th>...</th>\n",
       "      <td>...</td>\n",
       "      <td>...</td>\n",
       "      <td>...</td>\n",
       "      <td>...</td>\n",
       "      <td>...</td>\n",
       "      <td>...</td>\n",
       "      <td>...</td>\n",
       "      <td>...</td>\n",
       "      <td>...</td>\n",
       "      <td>...</td>\n",
       "      <td>...</td>\n",
       "      <td>...</td>\n",
       "      <td>...</td>\n",
       "      <td>...</td>\n",
       "      <td>...</td>\n",
       "      <td>...</td>\n",
       "      <td>...</td>\n",
       "      <td>...</td>\n",
       "      <td>...</td>\n",
       "      <td>...</td>\n",
       "      <td>...</td>\n",
       "      <td>...</td>\n",
       "      <td>...</td>\n",
       "      <td>...</td>\n",
       "      <td>...</td>\n",
       "      <td>...</td>\n",
       "      <td>...</td>\n",
       "      <td>...</td>\n",
       "      <td>...</td>\n",
       "      <td>...</td>\n",
       "      <td>...</td>\n",
       "      <td>...</td>\n",
       "      <td>...</td>\n",
       "      <td>...</td>\n",
       "      <td>...</td>\n",
       "      <td>...</td>\n",
       "      <td>...</td>\n",
       "      <td>...</td>\n",
       "      <td>...</td>\n",
       "      <td>...</td>\n",
       "      <td>...</td>\n",
       "      <td>...</td>\n",
       "      <td>...</td>\n",
       "      <td>...</td>\n",
       "      <td>...</td>\n",
       "      <td>...</td>\n",
       "      <td>...</td>\n",
       "      <td>...</td>\n",
       "      <td>...</td>\n",
       "      <td>...</td>\n",
       "      <td>...</td>\n",
       "      <td>...</td>\n",
       "      <td>...</td>\n",
       "      <td>...</td>\n",
       "      <td>...</td>\n",
       "      <td>...</td>\n",
       "      <td>...</td>\n",
       "      <td>...</td>\n",
       "      <td>...</td>\n",
       "      <td>...</td>\n",
       "      <td>...</td>\n",
       "    </tr>\n",
       "    <tr>\n",
       "      <th>7038</th>\n",
       "      <td>Female</td>\n",
       "      <td>0</td>\n",
       "      <td>No</td>\n",
       "      <td>No</td>\n",
       "      <td>13</td>\n",
       "      <td>Yes</td>\n",
       "      <td>No</td>\n",
       "      <td>Yes</td>\n",
       "      <td>No</td>\n",
       "      <td>No</td>\n",
       "      <td>Yes</td>\n",
       "      <td>No</td>\n",
       "      <td>No</td>\n",
       "      <td>No</td>\n",
       "      <td>55.15</td>\n",
       "      <td>742.90</td>\n",
       "      <td>No</td>\n",
       "      <td>One year</td>\n",
       "      <td>DSL</td>\n",
       "      <td>Mailed check</td>\n",
       "      <td>1</td>\n",
       "      <td>0</td>\n",
       "      <td>1</td>\n",
       "      <td>0</td>\n",
       "      <td>1</td>\n",
       "      <td>0</td>\n",
       "      <td>0</td>\n",
       "      <td>1</td>\n",
       "      <td>1</td>\n",
       "      <td>0</td>\n",
       "      <td>0</td>\n",
       "      <td>0</td>\n",
       "      <td>0</td>\n",
       "      <td>1</td>\n",
       "      <td>1</td>\n",
       "      <td>0</td>\n",
       "      <td>0</td>\n",
       "      <td>1</td>\n",
       "      <td>0</td>\n",
       "      <td>0</td>\n",
       "      <td>0</td>\n",
       "      <td>0</td>\n",
       "      <td>1</td>\n",
       "      <td>1</td>\n",
       "      <td>0</td>\n",
       "      <td>0</td>\n",
       "      <td>1</td>\n",
       "      <td>0</td>\n",
       "      <td>0</td>\n",
       "      <td>1</td>\n",
       "      <td>0</td>\n",
       "      <td>0</td>\n",
       "      <td>1</td>\n",
       "      <td>0</td>\n",
       "      <td>1</td>\n",
       "      <td>0</td>\n",
       "      <td>0</td>\n",
       "      <td>0</td>\n",
       "      <td>0</td>\n",
       "      <td>0</td>\n",
       "      <td>1</td>\n",
       "    </tr>\n",
       "    <tr>\n",
       "      <th>7039</th>\n",
       "      <td>Male</td>\n",
       "      <td>0</td>\n",
       "      <td>Yes</td>\n",
       "      <td>No</td>\n",
       "      <td>22</td>\n",
       "      <td>Yes</td>\n",
       "      <td>Yes</td>\n",
       "      <td>No</td>\n",
       "      <td>No</td>\n",
       "      <td>No</td>\n",
       "      <td>No</td>\n",
       "      <td>No</td>\n",
       "      <td>Yes</td>\n",
       "      <td>Yes</td>\n",
       "      <td>85.10</td>\n",
       "      <td>1873.70</td>\n",
       "      <td>Yes</td>\n",
       "      <td>Month-to-month</td>\n",
       "      <td>Fiber optic</td>\n",
       "      <td>Electronic check</td>\n",
       "      <td>0</td>\n",
       "      <td>1</td>\n",
       "      <td>0</td>\n",
       "      <td>1</td>\n",
       "      <td>1</td>\n",
       "      <td>0</td>\n",
       "      <td>0</td>\n",
       "      <td>1</td>\n",
       "      <td>0</td>\n",
       "      <td>0</td>\n",
       "      <td>1</td>\n",
       "      <td>1</td>\n",
       "      <td>0</td>\n",
       "      <td>0</td>\n",
       "      <td>1</td>\n",
       "      <td>0</td>\n",
       "      <td>0</td>\n",
       "      <td>1</td>\n",
       "      <td>0</td>\n",
       "      <td>0</td>\n",
       "      <td>1</td>\n",
       "      <td>0</td>\n",
       "      <td>0</td>\n",
       "      <td>1</td>\n",
       "      <td>0</td>\n",
       "      <td>0</td>\n",
       "      <td>0</td>\n",
       "      <td>0</td>\n",
       "      <td>1</td>\n",
       "      <td>0</td>\n",
       "      <td>1</td>\n",
       "      <td>1</td>\n",
       "      <td>0</td>\n",
       "      <td>0</td>\n",
       "      <td>0</td>\n",
       "      <td>1</td>\n",
       "      <td>0</td>\n",
       "      <td>0</td>\n",
       "      <td>0</td>\n",
       "      <td>1</td>\n",
       "      <td>0</td>\n",
       "    </tr>\n",
       "    <tr>\n",
       "      <th>7040</th>\n",
       "      <td>Male</td>\n",
       "      <td>0</td>\n",
       "      <td>No</td>\n",
       "      <td>No</td>\n",
       "      <td>2</td>\n",
       "      <td>Yes</td>\n",
       "      <td>No</td>\n",
       "      <td>No</td>\n",
       "      <td>Yes</td>\n",
       "      <td>No</td>\n",
       "      <td>No</td>\n",
       "      <td>No</td>\n",
       "      <td>No</td>\n",
       "      <td>Yes</td>\n",
       "      <td>50.30</td>\n",
       "      <td>92.75</td>\n",
       "      <td>No</td>\n",
       "      <td>Month-to-month</td>\n",
       "      <td>DSL</td>\n",
       "      <td>Mailed check</td>\n",
       "      <td>0</td>\n",
       "      <td>1</td>\n",
       "      <td>1</td>\n",
       "      <td>0</td>\n",
       "      <td>1</td>\n",
       "      <td>0</td>\n",
       "      <td>0</td>\n",
       "      <td>1</td>\n",
       "      <td>1</td>\n",
       "      <td>0</td>\n",
       "      <td>0</td>\n",
       "      <td>1</td>\n",
       "      <td>0</td>\n",
       "      <td>0</td>\n",
       "      <td>0</td>\n",
       "      <td>0</td>\n",
       "      <td>1</td>\n",
       "      <td>1</td>\n",
       "      <td>0</td>\n",
       "      <td>0</td>\n",
       "      <td>1</td>\n",
       "      <td>0</td>\n",
       "      <td>0</td>\n",
       "      <td>1</td>\n",
       "      <td>0</td>\n",
       "      <td>0</td>\n",
       "      <td>1</td>\n",
       "      <td>0</td>\n",
       "      <td>0</td>\n",
       "      <td>0</td>\n",
       "      <td>1</td>\n",
       "      <td>1</td>\n",
       "      <td>0</td>\n",
       "      <td>0</td>\n",
       "      <td>1</td>\n",
       "      <td>0</td>\n",
       "      <td>0</td>\n",
       "      <td>0</td>\n",
       "      <td>0</td>\n",
       "      <td>0</td>\n",
       "      <td>1</td>\n",
       "    </tr>\n",
       "    <tr>\n",
       "      <th>7041</th>\n",
       "      <td>Male</td>\n",
       "      <td>0</td>\n",
       "      <td>Yes</td>\n",
       "      <td>Yes</td>\n",
       "      <td>67</td>\n",
       "      <td>Yes</td>\n",
       "      <td>No</td>\n",
       "      <td>Yes</td>\n",
       "      <td>No</td>\n",
       "      <td>Yes</td>\n",
       "      <td>Yes</td>\n",
       "      <td>No</td>\n",
       "      <td>Yes</td>\n",
       "      <td>No</td>\n",
       "      <td>67.85</td>\n",
       "      <td>4627.65</td>\n",
       "      <td>No</td>\n",
       "      <td>Two year</td>\n",
       "      <td>DSL</td>\n",
       "      <td>Mailed check</td>\n",
       "      <td>0</td>\n",
       "      <td>1</td>\n",
       "      <td>0</td>\n",
       "      <td>1</td>\n",
       "      <td>0</td>\n",
       "      <td>1</td>\n",
       "      <td>0</td>\n",
       "      <td>1</td>\n",
       "      <td>1</td>\n",
       "      <td>0</td>\n",
       "      <td>0</td>\n",
       "      <td>0</td>\n",
       "      <td>0</td>\n",
       "      <td>1</td>\n",
       "      <td>1</td>\n",
       "      <td>0</td>\n",
       "      <td>0</td>\n",
       "      <td>0</td>\n",
       "      <td>0</td>\n",
       "      <td>1</td>\n",
       "      <td>0</td>\n",
       "      <td>0</td>\n",
       "      <td>1</td>\n",
       "      <td>1</td>\n",
       "      <td>0</td>\n",
       "      <td>0</td>\n",
       "      <td>0</td>\n",
       "      <td>0</td>\n",
       "      <td>1</td>\n",
       "      <td>1</td>\n",
       "      <td>0</td>\n",
       "      <td>0</td>\n",
       "      <td>0</td>\n",
       "      <td>1</td>\n",
       "      <td>1</td>\n",
       "      <td>0</td>\n",
       "      <td>0</td>\n",
       "      <td>0</td>\n",
       "      <td>0</td>\n",
       "      <td>0</td>\n",
       "      <td>1</td>\n",
       "    </tr>\n",
       "    <tr>\n",
       "      <th>7042</th>\n",
       "      <td>Male</td>\n",
       "      <td>0</td>\n",
       "      <td>Yes</td>\n",
       "      <td>Yes</td>\n",
       "      <td>63</td>\n",
       "      <td>No</td>\n",
       "      <td>No phone service</td>\n",
       "      <td>Yes</td>\n",
       "      <td>Yes</td>\n",
       "      <td>Yes</td>\n",
       "      <td>No</td>\n",
       "      <td>Yes</td>\n",
       "      <td>Yes</td>\n",
       "      <td>No</td>\n",
       "      <td>59.00</td>\n",
       "      <td>3707.60</td>\n",
       "      <td>No</td>\n",
       "      <td>Two year</td>\n",
       "      <td>DSL</td>\n",
       "      <td>Electronic check</td>\n",
       "      <td>0</td>\n",
       "      <td>1</td>\n",
       "      <td>0</td>\n",
       "      <td>1</td>\n",
       "      <td>0</td>\n",
       "      <td>1</td>\n",
       "      <td>1</td>\n",
       "      <td>0</td>\n",
       "      <td>0</td>\n",
       "      <td>1</td>\n",
       "      <td>0</td>\n",
       "      <td>0</td>\n",
       "      <td>0</td>\n",
       "      <td>1</td>\n",
       "      <td>0</td>\n",
       "      <td>0</td>\n",
       "      <td>1</td>\n",
       "      <td>0</td>\n",
       "      <td>0</td>\n",
       "      <td>1</td>\n",
       "      <td>1</td>\n",
       "      <td>0</td>\n",
       "      <td>0</td>\n",
       "      <td>0</td>\n",
       "      <td>0</td>\n",
       "      <td>1</td>\n",
       "      <td>0</td>\n",
       "      <td>0</td>\n",
       "      <td>1</td>\n",
       "      <td>1</td>\n",
       "      <td>0</td>\n",
       "      <td>0</td>\n",
       "      <td>0</td>\n",
       "      <td>1</td>\n",
       "      <td>1</td>\n",
       "      <td>0</td>\n",
       "      <td>0</td>\n",
       "      <td>0</td>\n",
       "      <td>0</td>\n",
       "      <td>1</td>\n",
       "      <td>0</td>\n",
       "    </tr>\n",
       "  </tbody>\n",
       "</table>\n",
       "<p>7032 rows × 61 columns</p>\n",
       "</div>"
      ],
      "text/plain": [
       "      gender  senior_citizen partner dependents  tenure phone_service  \\\n",
       "0     Female               0     Yes        Yes       9           Yes   \n",
       "1       Male               0      No         No       9           Yes   \n",
       "2       Male               0      No         No       4           Yes   \n",
       "3       Male               1     Yes         No      13           Yes   \n",
       "4     Female               1     Yes         No       3           Yes   \n",
       "...      ...             ...     ...        ...     ...           ...   \n",
       "7038  Female               0      No         No      13           Yes   \n",
       "7039    Male               0     Yes         No      22           Yes   \n",
       "7040    Male               0      No         No       2           Yes   \n",
       "7041    Male               0     Yes        Yes      67           Yes   \n",
       "7042    Male               0     Yes        Yes      63            No   \n",
       "\n",
       "        multiple_lines online_security online_backup device_protection  \\\n",
       "0                   No              No           Yes                No   \n",
       "1                  Yes              No            No                No   \n",
       "2                   No              No            No               Yes   \n",
       "3                   No              No           Yes               Yes   \n",
       "4                   No              No            No                No   \n",
       "...                ...             ...           ...               ...   \n",
       "7038                No             Yes            No                No   \n",
       "7039               Yes              No            No                No   \n",
       "7040                No              No           Yes                No   \n",
       "7041                No             Yes            No               Yes   \n",
       "7042  No phone service             Yes           Yes               Yes   \n",
       "\n",
       "     tech_support streaming_tv streaming_movies paperless_billing  \\\n",
       "0             Yes          Yes               No               Yes   \n",
       "1              No           No              Yes                No   \n",
       "2              No           No               No               Yes   \n",
       "3              No          Yes              Yes               Yes   \n",
       "4             Yes          Yes               No               Yes   \n",
       "...           ...          ...              ...               ...   \n",
       "7038          Yes           No               No                No   \n",
       "7039           No           No              Yes               Yes   \n",
       "7040           No           No               No               Yes   \n",
       "7041          Yes           No              Yes                No   \n",
       "7042           No          Yes              Yes                No   \n",
       "\n",
       "      monthly_charges  total_charges churn   contract_type  \\\n",
       "0               65.60         593.30    No        One year   \n",
       "1               59.90         542.40    No  Month-to-month   \n",
       "2               73.90         280.85   Yes  Month-to-month   \n",
       "3               98.00        1237.85   Yes  Month-to-month   \n",
       "4               83.90         267.40   Yes  Month-to-month   \n",
       "...               ...            ...   ...             ...   \n",
       "7038            55.15         742.90    No        One year   \n",
       "7039            85.10        1873.70   Yes  Month-to-month   \n",
       "7040            50.30          92.75    No  Month-to-month   \n",
       "7041            67.85        4627.65    No        Two year   \n",
       "7042            59.00        3707.60    No        Two year   \n",
       "\n",
       "     internet_service_type      payment_type  gender_Female  gender_Male  \\\n",
       "0                      DSL      Mailed check              1            0   \n",
       "1                      DSL      Mailed check              0            1   \n",
       "2              Fiber optic  Electronic check              0            1   \n",
       "3              Fiber optic  Electronic check              0            1   \n",
       "4              Fiber optic      Mailed check              1            0   \n",
       "...                    ...               ...            ...          ...   \n",
       "7038                   DSL      Mailed check              1            0   \n",
       "7039           Fiber optic  Electronic check              0            1   \n",
       "7040                   DSL      Mailed check              0            1   \n",
       "7041                   DSL      Mailed check              0            1   \n",
       "7042                   DSL  Electronic check              0            1   \n",
       "\n",
       "      partner_No  partner_Yes  dependents_No  dependents_Yes  \\\n",
       "0              0            1              0               1   \n",
       "1              1            0              1               0   \n",
       "2              1            0              1               0   \n",
       "3              0            1              1               0   \n",
       "4              0            1              1               0   \n",
       "...          ...          ...            ...             ...   \n",
       "7038           1            0              1               0   \n",
       "7039           0            1              1               0   \n",
       "7040           1            0              1               0   \n",
       "7041           0            1              0               1   \n",
       "7042           0            1              0               1   \n",
       "\n",
       "      phone_service_No  phone_service_Yes  multiple_lines_No  \\\n",
       "0                    0                  1                  1   \n",
       "1                    0                  1                  0   \n",
       "2                    0                  1                  1   \n",
       "3                    0                  1                  1   \n",
       "4                    0                  1                  1   \n",
       "...                ...                ...                ...   \n",
       "7038                 0                  1                  1   \n",
       "7039                 0                  1                  0   \n",
       "7040                 0                  1                  1   \n",
       "7041                 0                  1                  1   \n",
       "7042                 1                  0                  0   \n",
       "\n",
       "      multiple_lines_No phone service  multiple_lines_Yes  online_security_No  \\\n",
       "0                                   0                   0                   1   \n",
       "1                                   0                   1                   1   \n",
       "2                                   0                   0                   1   \n",
       "3                                   0                   0                   1   \n",
       "4                                   0                   0                   1   \n",
       "...                               ...                 ...                 ...   \n",
       "7038                                0                   0                   0   \n",
       "7039                                0                   1                   1   \n",
       "7040                                0                   0                   1   \n",
       "7041                                0                   0                   0   \n",
       "7042                                1                   0                   0   \n",
       "\n",
       "      online_security_No internet service  online_security_Yes  \\\n",
       "0                                       0                    0   \n",
       "1                                       0                    0   \n",
       "2                                       0                    0   \n",
       "3                                       0                    0   \n",
       "4                                       0                    0   \n",
       "...                                   ...                  ...   \n",
       "7038                                    0                    1   \n",
       "7039                                    0                    0   \n",
       "7040                                    0                    0   \n",
       "7041                                    0                    1   \n",
       "7042                                    0                    1   \n",
       "\n",
       "      online_backup_No  online_backup_No internet service  online_backup_Yes  \\\n",
       "0                    0                                  0                  1   \n",
       "1                    1                                  0                  0   \n",
       "2                    1                                  0                  0   \n",
       "3                    0                                  0                  1   \n",
       "4                    1                                  0                  0   \n",
       "...                ...                                ...                ...   \n",
       "7038                 1                                  0                  0   \n",
       "7039                 1                                  0                  0   \n",
       "7040                 0                                  0                  1   \n",
       "7041                 1                                  0                  0   \n",
       "7042                 0                                  0                  1   \n",
       "\n",
       "      device_protection_No  device_protection_No internet service  \\\n",
       "0                        1                                      0   \n",
       "1                        1                                      0   \n",
       "2                        0                                      0   \n",
       "3                        0                                      0   \n",
       "4                        1                                      0   \n",
       "...                    ...                                    ...   \n",
       "7038                     1                                      0   \n",
       "7039                     1                                      0   \n",
       "7040                     1                                      0   \n",
       "7041                     0                                      0   \n",
       "7042                     0                                      0   \n",
       "\n",
       "      device_protection_Yes  tech_support_No  \\\n",
       "0                         0                0   \n",
       "1                         0                1   \n",
       "2                         1                1   \n",
       "3                         1                1   \n",
       "4                         0                0   \n",
       "...                     ...              ...   \n",
       "7038                      0                0   \n",
       "7039                      0                1   \n",
       "7040                      0                1   \n",
       "7041                      1                0   \n",
       "7042                      1                1   \n",
       "\n",
       "      tech_support_No internet service  tech_support_Yes  streaming_tv_No  \\\n",
       "0                                    0                 1                0   \n",
       "1                                    0                 0                1   \n",
       "2                                    0                 0                1   \n",
       "3                                    0                 0                0   \n",
       "4                                    0                 1                0   \n",
       "...                                ...               ...              ...   \n",
       "7038                                 0                 1                1   \n",
       "7039                                 0                 0                1   \n",
       "7040                                 0                 0                1   \n",
       "7041                                 0                 1                1   \n",
       "7042                                 0                 0                0   \n",
       "\n",
       "      streaming_tv_No internet service  streaming_tv_Yes  streaming_movies_No  \\\n",
       "0                                    0                 1                    1   \n",
       "1                                    0                 0                    0   \n",
       "2                                    0                 0                    1   \n",
       "3                                    0                 1                    0   \n",
       "4                                    0                 1                    1   \n",
       "...                                ...               ...                  ...   \n",
       "7038                                 0                 0                    1   \n",
       "7039                                 0                 0                    0   \n",
       "7040                                 0                 0                    1   \n",
       "7041                                 0                 0                    0   \n",
       "7042                                 0                 1                    0   \n",
       "\n",
       "      streaming_movies_No internet service  streaming_movies_Yes  \\\n",
       "0                                        0                     0   \n",
       "1                                        0                     1   \n",
       "2                                        0                     0   \n",
       "3                                        0                     1   \n",
       "4                                        0                     0   \n",
       "...                                    ...                   ...   \n",
       "7038                                     0                     0   \n",
       "7039                                     0                     1   \n",
       "7040                                     0                     0   \n",
       "7041                                     0                     1   \n",
       "7042                                     0                     1   \n",
       "\n",
       "      paperless_billing_No  paperless_billing_Yes  \\\n",
       "0                        0                      1   \n",
       "1                        1                      0   \n",
       "2                        0                      1   \n",
       "3                        0                      1   \n",
       "4                        0                      1   \n",
       "...                    ...                    ...   \n",
       "7038                     1                      0   \n",
       "7039                     0                      1   \n",
       "7040                     0                      1   \n",
       "7041                     1                      0   \n",
       "7042                     1                      0   \n",
       "\n",
       "      contract_type_Month-to-month  contract_type_One year  \\\n",
       "0                                0                       1   \n",
       "1                                1                       0   \n",
       "2                                1                       0   \n",
       "3                                1                       0   \n",
       "4                                1                       0   \n",
       "...                            ...                     ...   \n",
       "7038                             0                       1   \n",
       "7039                             1                       0   \n",
       "7040                             1                       0   \n",
       "7041                             0                       0   \n",
       "7042                             0                       0   \n",
       "\n",
       "      contract_type_Two year  internet_service_type_DSL  \\\n",
       "0                          0                          1   \n",
       "1                          0                          1   \n",
       "2                          0                          0   \n",
       "3                          0                          0   \n",
       "4                          0                          0   \n",
       "...                      ...                        ...   \n",
       "7038                       0                          1   \n",
       "7039                       0                          0   \n",
       "7040                       0                          1   \n",
       "7041                       1                          1   \n",
       "7042                       1                          1   \n",
       "\n",
       "      internet_service_type_Fiber optic  internet_service_type_None  \\\n",
       "0                                     0                           0   \n",
       "1                                     0                           0   \n",
       "2                                     1                           0   \n",
       "3                                     1                           0   \n",
       "4                                     1                           0   \n",
       "...                                 ...                         ...   \n",
       "7038                                  0                           0   \n",
       "7039                                  1                           0   \n",
       "7040                                  0                           0   \n",
       "7041                                  0                           0   \n",
       "7042                                  0                           0   \n",
       "\n",
       "      payment_type_Bank transfer (automatic)  \\\n",
       "0                                          0   \n",
       "1                                          0   \n",
       "2                                          0   \n",
       "3                                          0   \n",
       "4                                          0   \n",
       "...                                      ...   \n",
       "7038                                       0   \n",
       "7039                                       0   \n",
       "7040                                       0   \n",
       "7041                                       0   \n",
       "7042                                       0   \n",
       "\n",
       "      payment_type_Credit card (automatic)  payment_type_Electronic check  \\\n",
       "0                                        0                              0   \n",
       "1                                        0                              0   \n",
       "2                                        0                              1   \n",
       "3                                        0                              1   \n",
       "4                                        0                              0   \n",
       "...                                    ...                            ...   \n",
       "7038                                     0                              0   \n",
       "7039                                     0                              1   \n",
       "7040                                     0                              0   \n",
       "7041                                     0                              0   \n",
       "7042                                     0                              1   \n",
       "\n",
       "      payment_type_Mailed check  \n",
       "0                             1  \n",
       "1                             1  \n",
       "2                             0  \n",
       "3                             0  \n",
       "4                             1  \n",
       "...                         ...  \n",
       "7038                          1  \n",
       "7039                          0  \n",
       "7040                          1  \n",
       "7041                          1  \n",
       "7042                          0  \n",
       "\n",
       "[7032 rows x 61 columns]"
      ]
     },
     "execution_count": 8,
     "metadata": {},
     "output_type": "execute_result"
    }
   ],
   "source": [
    "df"
   ]
  },
  {
   "cell_type": "markdown",
   "id": "313e8cad",
   "metadata": {},
   "source": [
    "\n",
    "df[df.contract_type != 'Month-to-month']"
   ]
  },
  {
   "cell_type": "code",
   "execution_count": 9,
   "id": "0be5ee57",
   "metadata": {},
   "outputs": [
    {
     "data": {
      "text/plain": [
       "(7032, 61)"
      ]
     },
     "execution_count": 9,
     "metadata": {},
     "output_type": "execute_result"
    }
   ],
   "source": [
    "df.shape"
   ]
  },
  {
   "cell_type": "code",
   "execution_count": 10,
   "id": "c6b2c0e4",
   "metadata": {},
   "outputs": [],
   "source": [
    "def split_telco_data(df):\n",
    "    '''\n",
    "    This function split telco data into train , validate, test and  stratifies on churn.\n",
    "    The split is 20% test 80% train/validate. Then 30% of 80% validate and 70% of 80% train.\n",
    "    Aproximately (train 56%, validate 24%, test 20%)\n",
    "    Returns train, validate, and test \n",
    "    '''\n",
    "    train_validate, test = train_test_split(df, test_size=.2, \n",
    "                                        random_state=123, \n",
    "                                        stratify=df.churn)\n",
    "    train, validate = train_test_split(train_validate, test_size=.3, \n",
    "                                   random_state=123, \n",
    "                                   stratify=train_validate.churn)\n",
    "    return train, validate, test"
   ]
  },
  {
   "cell_type": "code",
   "execution_count": 11,
   "id": "6a8a577a",
   "metadata": {},
   "outputs": [
    {
     "data": {
      "text/plain": [
       "((3937, 61), (1688, 61), (1407, 61))"
      ]
     },
     "execution_count": 11,
     "metadata": {},
     "output_type": "execute_result"
    }
   ],
   "source": [
    "# split data\n",
    "train, validate, test = split_telco_data(df)\n",
    "train.shape,validate.shape, test.shape\n",
    "\n"
   ]
  },
  {
   "cell_type": "markdown",
   "id": "93ba9eb1",
   "metadata": {},
   "source": [
    "# plt.title('Churn Mean')\n",
    "sns.barplot(x=len(train.churn_Yes), y = train.churn_Yes., data = train,ci=False,saturation=.9, palette=\"PuRd_r\")\n",
    "col_mean= train.churn.mean()\n",
    "plt.axhline(col_mean, label = 'Churn mean',color='maroon')\n",
    "plt.legend()\n",
    "plt.show()"
   ]
  },
  {
   "cell_type": "markdown",
   "id": "938d064e",
   "metadata": {},
   "source": [
    "# How often does churn occur?"
   ]
  },
  {
   "cell_type": "code",
   "execution_count": 12,
   "id": "d723aa65",
   "metadata": {},
   "outputs": [
    {
     "data": {
      "text/plain": [
       "1968.5"
      ]
     },
     "execution_count": 12,
     "metadata": {},
     "output_type": "execute_result"
    }
   ],
   "source": [
    "mean = train.churn.value_counts().mean()\n",
    "mean"
   ]
  },
  {
   "cell_type": "code",
   "execution_count": 13,
   "id": "b568705f",
   "metadata": {
    "scrolled": true
   },
   "outputs": [],
   "source": [
    "def get_churn_mean_bar(df): \n",
    "    mean = df.churn.value_counts().mean()\n",
    "    plt.title(f'Churn Mean : {mean}')\n",
    "    sns.countplot(df.churn)\n",
    "    col_mean= df.churn.value_counts().mean()\n",
    "    plt.axhline(col_mean, label = 'Churn mean',color='maroon')\n"
   ]
  },
  {
   "cell_type": "code",
   "execution_count": 14,
   "id": "a3653341",
   "metadata": {
    "scrolled": true
   },
   "outputs": [
    {
     "name": "stderr",
     "output_type": "stream",
     "text": [
      "/opt/homebrew/anaconda3/lib/python3.9/site-packages/seaborn/_decorators.py:36: FutureWarning: Pass the following variable as a keyword arg: x. From version 0.12, the only valid positional argument will be `data`, and passing other arguments without an explicit keyword will result in an error or misinterpretation.\n",
      "  warnings.warn(\n"
     ]
    },
    {
     "data": {
      "image/png": "[encoded data removed]",
      "text/plain": [
       "<Figure size 432x288 with 1 Axes>"
      ]
     },
     "metadata": {
      "needs_background": "light"
     },
     "output_type": "display_data"
    }
   ],
   "source": [
    "get_churn_mean_bar(train)"
   ]
  },
  {
   "cell_type": "code",
   "execution_count": 15,
   "id": "7c642406",
   "metadata": {},
   "outputs": [
    {
     "data": {
      "text/plain": [
       "No     0.734315\n",
       "Yes    0.265685\n",
       "Name: churn, dtype: float64"
      ]
     },
     "execution_count": 15,
     "metadata": {},
     "output_type": "execute_result"
    }
   ],
   "source": [
    "train.churn.value_counts(normalize=True)"
   ]
  },
  {
   "cell_type": "markdown",
   "id": "2b75d8cc",
   "metadata": {},
   "source": [
    "### It appears that about 26% of telco customers churn."
   ]
  },
  {
   "cell_type": "code",
   "execution_count": 16,
   "id": "d077cb39",
   "metadata": {},
   "outputs": [],
   "source": [
    "# Baseline????"
   ]
  },
  {
   "cell_type": "markdown",
   "id": "4659f82c",
   "metadata": {},
   "source": [
    "# Does having a high monthly charge affect churn?"
   ]
  },
  {
   "cell_type": "markdown",
   "id": "c2fbf00a",
   "metadata": {},
   "source": [
    "### I appears that monthly charges has some bearing on customer churn. Customers who have less monthly charges appear to have stayed with Telco.\n"
   ]
  },
  {
   "cell_type": "code",
   "execution_count": 17,
   "id": "7dd16ac1",
   "metadata": {
    "scrolled": false
   },
   "outputs": [
    {
     "data": {
      "text/plain": [
       "<AxesSubplot:title={'center':'Monthly Charges vs Churn'}, xlabel='monthly_charges', ylabel='Count'>"
      ]
     },
     "execution_count": 17,
     "metadata": {},
     "output_type": "execute_result"
    },
    {
     "data": {
      "image/png": "[encoded data removed]",
      "text/plain": [
       "<Figure size 432x288 with 1 Axes>"
      ]
     },
     "metadata": {
      "needs_background": "light"
     },
     "output_type": "display_data"
    }
   ],
   "source": [
    "plt.title('Monthly Charges vs Churn')\n",
    "sns.histplot(x='monthly_charges', data=train, hue='churn',multiple='dodge')"
   ]
  },
  {
   "cell_type": "code",
   "execution_count": 156,
   "id": "8f5bbd88",
   "metadata": {},
   "outputs": [
    {
     "data": {
      "text/plain": [
       "<AxesSubplot:title={'center':'Monthly Charges vs Churn'}, xlabel='churn', ylabel='monthly_charges'>"
      ]
     },
     "execution_count": 156,
     "metadata": {},
     "output_type": "execute_result"
    },
    {
     "data": {
      "image/png": "[encoded data removed]",
      "text/plain": [
       "<Figure size 432x288 with 1 Axes>"
      ]
     },
     "metadata": {
      "needs_background": "light"
     },
     "output_type": "display_data"
    }
   ],
   "source": [
    "plt.title('Monthly Charges vs Churn')\n",
    "sns.boxplot(y=train.monthly_charges, x=train.churn,\n",
    "            whis=np.inf\n",
    "           )"
   ]
  },
  {
   "cell_type": "markdown",
   "id": "8577e134",
   "metadata": {},
   "source": [
    "### Stat Test T-test"
   ]
  },
  {
   "cell_type": "code",
   "execution_count": 155,
   "id": "170e521d",
   "metadata": {},
   "outputs": [
    {
     "name": "stdout",
     "output_type": "stream",
     "text": [
      "inequal variance ==> set equl_var to False\n",
      " t-stat:17.342703226071816\n",
      " p-value:3.1878395780060806e-05\n",
      "we can reject H0 \n",
      "\n",
      "Because the p-value (nan) is less than alpha value (0.05), we reject the null hypothesis\n"
     ]
    }
   ],
   "source": [
    "'''\n",
    "Hypothesis \n",
    "Does monthly charges have a relationship with churn? \n",
    "\n",
    "Variables:\n",
    "* monthly charges (continuous)\n",
    "* churn(discrete)\n",
    "\n",
    "Test: T-test two tail one sample scipy.stats.ttest_ind\n",
    "\n",
    "$H_0$: Mean tenure of Telco customers who churn == mean tenure of Telco customers who do not churn.\n",
    "\n",
    "$H_a$: Tean tenure of Telco customers who churn != mean tenure of Telco customers who do not churn.\n",
    "'''\n",
    "\n",
    "subset_churn =train[train.churn==1]\n",
    "subset_notchurn = train[train.churn ==0]\n",
    "\n",
    "# # stats Levene test - returns p value. small p-value means unequal variances\n",
    "stats.levene(subset_churn.monthly_charges, subset_notchurn.monthly_charges)\n",
    "\n",
    "# high p-value suggests that the populations have equal variances\n",
    "\n",
    "if pval < 0.05:\n",
    "    print('inequal variance ==> set equl_var to False')\n",
    "pval\n",
    "\n",
    "alpha = 0.05\n",
    "\n",
    "t_stat, p_val = stats.ttest_ind(subset_churn.monthly_charges, subset_notchurn.monthly_charges, equal_var = False)\n",
    "print(f' t-stat:{stat}')\n",
    "print(f' p-value:{pval}')\n",
    "\n",
    "if pval/2 < 0.05:\n",
    "    print('we can reject H0 ')\n",
    "    \n",
    "print(f'''\n",
    "Because the p-value ({p_val}) is less than alpha value ({alpha}), we reject the null hypothesis''')"
   ]
  },
  {
   "cell_type": "markdown",
   "id": "89a9bc00",
   "metadata": {},
   "source": [
    "### REject null hypothesis there is significant difference between the means of of monthly charges of those who churn vs those who do not churn"
   ]
  },
  {
   "cell_type": "markdown",
   "id": "fc528acc",
   "metadata": {},
   "source": [
    "#  Do Senior Citizens churn more than non-Senior Citizens?"
   ]
  },
  {
   "cell_type": "code",
   "execution_count": 116,
   "id": "416f8039",
   "metadata": {},
   "outputs": [
    {
     "data": {
      "text/plain": [
       "<AxesSubplot:xlabel='senior_citizen', ylabel='Percent'>"
      ]
     },
     "execution_count": 116,
     "metadata": {},
     "output_type": "execute_result"
    },
    {
     "data": {
      "image/png": "[encoded data removed]",
      "text/plain": [
       "<Figure size 432x288 with 1 Axes>"
      ]
     },
     "metadata": {
      "needs_background": "light"
     },
     "output_type": "display_data"
    }
   ],
   "source": [
    "sns.histplot(data = train, x= train.senior_citizen, stat=\"percent\", multiple=\"dodge\", shrink=.8, hue='churn')\n",
    "# sns.histplot(data = train, x=train.senior_citizen == 0, stat=\"percent\")"
   ]
  },
  {
   "cell_type": "code",
   "execution_count": 117,
   "id": "d0d061d9",
   "metadata": {
    "scrolled": false
   },
   "outputs": [
    {
     "data": {
      "image/png": "[encoded data removed]",
      "text/plain": [
       "<Figure size 432x288 with 2 Axes>"
      ]
     },
     "metadata": {
      "needs_background": "light"
     },
     "output_type": "display_data"
    }
   ],
   "source": [
    "# (x='color', data=diamonds, hue='clarity'\n",
    "plt.title('Churn count of Senior Citizen vs Non-Senior citizen')\n",
    "\n",
    "plt.subplot(221)\n",
    "plt.title('Churn count of Senior Citizen vs Non-Senior citizen')\n",
    "sns.countplot(x=train.senior_citizen, data=train, hue = 'churn')\n",
    "\n",
    "\n",
    "plt.subplot(222)\n",
    "sns.countplot(x=train.senior_citizen, data=train, hue = 'churn',dodge=False)\n",
    "plt.show()"
   ]
  },
  {
   "cell_type": "markdown",
   "id": "8bd35dfa",
   "metadata": {},
   "source": [
    "### Stats Test Chi2 test"
   ]
  },
  {
   "cell_type": "markdown",
   "id": "2e1dae73",
   "metadata": {},
   "source": [
    "Do customers who are consider seniors churn more than customers who are not seniors?\n",
    "\n",
    "Variables:\n",
    "\n",
    "    * seniors (discrete)\n",
    "    * churn (discrete)\n",
    "    \n",
    "Test: chi^2\n",
    "\n",
    "$H_0$: There is **no** relationship between a customers with senior status and churn.\n",
    "\n",
    "$H_a$: There is a relationship between a customers senior status and churn."
   ]
  },
  {
   "cell_type": "code",
   "execution_count": 18,
   "id": "984a983e",
   "metadata": {},
   "outputs": [
    {
     "name": "stdout",
     "output_type": "stream",
     "text": [
      "Reject the null hypothesis\n"
     ]
    },
    {
     "data": {
      "text/plain": [
       "1.7561315684822695e-23"
      ]
     },
     "execution_count": 18,
     "metadata": {},
     "output_type": "execute_result"
    }
   ],
   "source": [
    "# Chi-Square test to compare two categorical variables (Sex and Survival)\n",
    "\n",
    "alpha = 0.05\n",
    "\n",
    "# Setup a crosstab of observed \n",
    "observed = pd.crosstab(train.senior_citizen==1, train.churn)\n",
    "\n",
    "chi2, p, degf, expected = stats.chi2_contingency(observed)\n",
    "\n",
    "if p < alpha:\n",
    "    print(\"Reject the null hypothesis\")\n",
    "    \n",
    "else:\n",
    "    print(\"Fail to reject the null\")\n",
    "    print(\"Insufficient evidence to reject the null\")\n",
    "p"
   ]
  },
  {
   "cell_type": "markdown",
   "id": "563c7e05",
   "metadata": {},
   "source": [
    "### Since we reject the null hypethesis there seems an significant association between customers who are senior citizens and churn."
   ]
  },
  {
   "cell_type": "markdown",
   "id": "f9eae1d8",
   "metadata": {},
   "source": [
    "# Does tenure affect churn?"
   ]
  },
  {
   "cell_type": "code",
   "execution_count": 85,
   "id": "6ae9d143",
   "metadata": {
    "scrolled": true
   },
   "outputs": [
    {
     "data": {
      "text/plain": [
       "<AxesSubplot:title={'center':'Tenure vs Churn'}, xlabel='churn', ylabel='tenure'>"
      ]
     },
     "execution_count": 85,
     "metadata": {},
     "output_type": "execute_result"
    },
    {
     "data": {
      "image/png": "[encoded data removed]",
      "text/plain": [
       "<Figure size 432x288 with 1 Axes>"
      ]
     },
     "metadata": {
      "needs_background": "light"
     },
     "output_type": "display_data"
    }
   ],
   "source": [
    "plt.title('Tenure vs Churn')\n",
    "sns.boxplot(y=train.tenure, x=train.churn,\n",
    "            whis=np.inf\n",
    "           )"
   ]
  },
  {
   "cell_type": "markdown",
   "id": "f34ed204",
   "metadata": {},
   "source": [
    "### Stats Test T-test"
   ]
  },
  {
   "cell_type": "code",
   "execution_count": 152,
   "id": "c161107f",
   "metadata": {},
   "outputs": [
    {
     "name": "stdout",
     "output_type": "stream",
     "text": [
      "inequal variance ==> set equl_var to False\n",
      " t-stat:17.342703226071816\n",
      " p-value:3.1878395780060806e-05\n",
      "we can reject H0 \n",
      "\n",
      "Because the p-value (nan) is less than alpha value (0.05), we reject the null hypothesis\n"
     ]
    },
    {
     "name": "stderr",
     "output_type": "stream",
     "text": [
      "/opt/homebrew/anaconda3/lib/python3.9/site-packages/numpy/core/fromnumeric.py:3440: RuntimeWarning: Mean of empty slice.\n",
      "  return _methods._mean(a, axis=axis, dtype=dtype,\n",
      "/opt/homebrew/anaconda3/lib/python3.9/site-packages/numpy/core/_methods.py:189: RuntimeWarning: invalid value encountered in double_scalars\n",
      "  ret = ret.dtype.type(ret / rcount)\n"
     ]
    }
   ],
   "source": [
    "'''\n",
    "Hypothesis \n",
    "Does tenure have a relationship with churn? \n",
    "\n",
    "Variables:\n",
    "* tenure (continuous)\n",
    "* churn(discrete)\n",
    "\n",
    "Test: T-test two tail one sample scipy.stats.ttest_ind\n",
    "\n",
    "$H_0$: Mean tenure of Telco customers who churn == mean tenure of Telco customers who do not churn.\n",
    "\n",
    "$H_a$: Tean tenure of Telco customers who churn != mean tenure of Telco customers who do not churn.\n",
    "'''\n",
    "subset_churn =train[train.churn==1]\n",
    "subset_notchurn = train[train.churn ==0]\n",
    "\n",
    "# # stats Levene test - returns p value. small p-value means unequal variances\n",
    "stats.levene(subset_churn.tenure, subset_notchurn.tenure)\n",
    "\n",
    "# high p-value suggests that the populations have equal variances\n",
    "\n",
    "if pval < 0.05:\n",
    "    print('inequal variance ==> set equl_var to False')\n",
    "pval\n",
    "\n",
    "alpha = 0.05\n",
    "\n",
    "t_stat, p_val = stats.ttest_ind(subset_churn.tenure, subset_notchurn.tenure, equal_var = False)\n",
    "print(f' t-stat:{stat}')\n",
    "print(f' p-value:{pval}')\n",
    "\n",
    "if pval/2 < 0.05:\n",
    "    print('we can reject H0 ')\n",
    "    \n",
    "print(f'''\n",
    "Because the p-value ({p_val}) is less than alpha value ({alpha}), we reject the null hypothesis''')"
   ]
  },
  {
   "cell_type": "markdown",
   "id": "ac05e6dd",
   "metadata": {},
   "source": [
    "### Since we reject the null hypothesis there appears to be a significant difference in the tenure means of customers who churn and those who do not churn"
   ]
  },
  {
   "cell_type": "markdown",
   "id": "32305012",
   "metadata": {},
   "source": [
    "# Does the contract type of customer affect churn?"
   ]
  },
  {
   "cell_type": "code",
   "execution_count": 101,
   "id": "90842d63",
   "metadata": {
    "scrolled": false
   },
   "outputs": [
    {
     "data": {
      "text/plain": [
       "<AxesSubplot:title={'center':'Contract Type vs Churn'}, xlabel='contract_type', ylabel='count'>"
      ]
     },
     "execution_count": 101,
     "metadata": {},
     "output_type": "execute_result"
    },
    {
     "data": {
      "image/png": "[encoded data removed]",
      "text/plain": [
       "<Figure size 432x288 with 1 Axes>"
      ]
     },
     "metadata": {
      "needs_background": "light"
     },
     "output_type": "display_data"
    }
   ],
   "source": [
    "plt.title('Contract Type vs Churn')\n",
    "sns.countplot(x=train.contract_type, data=train, hue = 'churn')\n"
   ]
  },
  {
   "cell_type": "code",
   "execution_count": 123,
   "id": "6a79d18f",
   "metadata": {
    "scrolled": true
   },
   "outputs": [
    {
     "data": {
      "text/plain": [
       "<AxesSubplot:xlabel='contract_type', ylabel='Percent'>"
      ]
     },
     "execution_count": 123,
     "metadata": {},
     "output_type": "execute_result"
    },
    {
     "data": {
      "image/png": "[encoded data removed]",
      "text/plain": [
       "<Figure size 432x288 with 1 Axes>"
      ]
     },
     "metadata": {
      "needs_background": "light"
     },
     "output_type": "display_data"
    }
   ],
   "source": [
    "sns.histplot(data = train, x=train.contract_type, stat=\"percent\", hue = 'churn', multiple = 'dodge')"
   ]
  },
  {
   "cell_type": "code",
   "execution_count": null,
   "id": "76e54502",
   "metadata": {},
   "outputs": [],
   "source": []
  },
  {
   "cell_type": "code",
   "execution_count": 94,
   "id": "40787a6e",
   "metadata": {
    "scrolled": false
   },
   "outputs": [
    {
     "data": {
      "text/plain": [
       "Month-to-month    2165\n",
       "Two year           957\n",
       "One year           815\n",
       "Name: contract_type, dtype: int64"
      ]
     },
     "execution_count": 94,
     "metadata": {},
     "output_type": "execute_result"
    }
   ],
   "source": [
    "train.contract_type.value_counts()"
   ]
  },
  {
   "cell_type": "code",
   "execution_count": 103,
   "id": "12baf56a",
   "metadata": {},
   "outputs": [
    {
     "data": {
      "text/html": [
       "<div>\n",
       "<style scoped>\n",
       "    .dataframe tbody tr th:only-of-type {\n",
       "        vertical-align: middle;\n",
       "    }\n",
       "\n",
       "    .dataframe tbody tr th {\n",
       "        vertical-align: top;\n",
       "    }\n",
       "\n",
       "    .dataframe thead th {\n",
       "        text-align: right;\n",
       "    }\n",
       "</style>\n",
       "<table border=\"1\" class=\"dataframe\">\n",
       "  <thead>\n",
       "    <tr style=\"text-align: right;\">\n",
       "      <th>churn</th>\n",
       "      <th>No</th>\n",
       "      <th>Yes</th>\n",
       "    </tr>\n",
       "    <tr>\n",
       "      <th>contract_type</th>\n",
       "      <th></th>\n",
       "      <th></th>\n",
       "    </tr>\n",
       "  </thead>\n",
       "  <tbody>\n",
       "    <tr>\n",
       "      <th>Month-to-month</th>\n",
       "      <td>1238</td>\n",
       "      <td>927</td>\n",
       "    </tr>\n",
       "    <tr>\n",
       "      <th>One year</th>\n",
       "      <td>726</td>\n",
       "      <td>89</td>\n",
       "    </tr>\n",
       "    <tr>\n",
       "      <th>Two year</th>\n",
       "      <td>927</td>\n",
       "      <td>30</td>\n",
       "    </tr>\n",
       "  </tbody>\n",
       "</table>\n",
       "</div>"
      ],
      "text/plain": [
       "churn             No  Yes\n",
       "contract_type            \n",
       "Month-to-month  1238  927\n",
       "One year         726   89\n",
       "Two year         927   30"
      ]
     },
     "execution_count": 103,
     "metadata": {},
     "output_type": "execute_result"
    }
   ],
   "source": [
    "pd.crosstab(train.contract_type, train.churn)"
   ]
  },
  {
   "cell_type": "markdown",
   "id": "503a924d",
   "metadata": {},
   "source": [
    "### Stats TEST Chi2"
   ]
  },
  {
   "cell_type": "code",
   "execution_count": 148,
   "id": "8ec2b164",
   "metadata": {},
   "outputs": [
    {
     "name": "stdout",
     "output_type": "stream",
     "text": [
      "Reject the null hypothesis\n"
     ]
    },
    {
     "data": {
      "text/plain": [
       "4.693667062132269e-145"
      ]
     },
     "execution_count": 148,
     "metadata": {},
     "output_type": "execute_result"
    }
   ],
   "source": [
    "# Chi-Square test to compare two categorical variables (Contract type vs Churn)\n",
    "\n",
    "alpha = 0.05\n",
    "\n",
    "# Setup a crosstab of observed \n",
    "observed = pd.crosstab(train.contract_type, train.churn)\n",
    "\n",
    "chi2, p, degf, expected = stats.chi2_contingency(observed)\n",
    "\n",
    "if p < alpha:\n",
    "    print(\"Reject the null hypothesis\")\n",
    "    \n",
    "else:\n",
    "    print(\"Fail to reject the null\")\n",
    "    print(\"Insufficient evidence to reject the null\")\n",
    "p"
   ]
  },
  {
   "cell_type": "markdown",
   "id": "2a142aab",
   "metadata": {},
   "source": [
    "### There appears to be a significant association between contract type and churn"
   ]
  },
  {
   "cell_type": "markdown",
   "id": "b1416ec3",
   "metadata": {},
   "source": [
    "# Do Senior Citizens pay more monthly charges that non Senior Citizens?"
   ]
  },
  {
   "cell_type": "code",
   "execution_count": 19,
   "id": "17370e93",
   "metadata": {
    "scrolled": true
   },
   "outputs": [
    {
     "data": {
      "text/plain": [
       "<AxesSubplot:title={'center':'High monthly charges Drive Senior Citizens to Churn'}, xlabel='senior_citizen', ylabel='monthly_charges'>"
      ]
     },
     "execution_count": 19,
     "metadata": {},
     "output_type": "execute_result"
    },
    {
     "data": {
      "image/png": "[encoded data removed]",
      "text/plain": [
       "<Figure size 432x288 with 1 Axes>"
      ]
     },
     "metadata": {
      "needs_background": "light"
     },
     "output_type": "display_data"
    }
   ],
   "source": [
    "plt.title('High monthly charges Drive Senior Citizens to Churn')\n",
    "sns.barplot(data= train, x='senior_citizen', y='monthly_charges', hue = 'churn')"
   ]
  },
  {
   "cell_type": "markdown",
   "id": "f886a251",
   "metadata": {},
   "source": [
    "Hypothesis for Senior citizens and Monthly charges\n",
    "Do customers who are consider seniors pay more monthly charges than customers who are not seniors? \n",
    "\n",
    "Variables:\n",
    "* seniors (discrete)\n",
    "* month charges(continuous)\n",
    "\n",
    "Test: two sample, one tail, scipy.stats.ttest_ind\n",
    "\n",
    "$H_0$: The mean monthly charges for senior citizens <= to the mean monthly charges of non senior citizens.\n",
    "\n",
    "$H_a$: The mean monthly charges for senior citizens <= to the mean monthly charges of non senior citizens."
   ]
  },
  {
   "cell_type": "code",
   "execution_count": 20,
   "id": "1e68747e",
   "metadata": {},
   "outputs": [],
   "source": [
    "total_charges_seniors = train[train.senior_citizen==1].total_charges\n",
    "total_charges_nonseniors = train[train.senior_citizen==0].total_charges"
   ]
  },
  {
   "cell_type": "code",
   "execution_count": 26,
   "id": "a5f46798",
   "metadata": {},
   "outputs": [
    {
     "data": {
      "text/plain": [
       "(5790251.037615047, 5042349.88999738)"
      ]
     },
     "execution_count": 26,
     "metadata": {},
     "output_type": "execute_result"
    }
   ],
   "source": [
    "total_charges_seniors.var(),total_charges_nonseniors.var()"
   ]
  },
  {
   "cell_type": "code",
   "execution_count": 23,
   "id": "4d1287de",
   "metadata": {},
   "outputs": [
    {
     "name": "stdout",
     "output_type": "stream",
     "text": [
      "inequal variance ==> set equal_var to False\n"
     ]
    },
    {
     "data": {
      "text/plain": [
       "3.1878395780060806e-05"
      ]
     },
     "execution_count": 23,
     "metadata": {},
     "output_type": "execute_result"
    }
   ],
   "source": [
    "# # stats Levene test - returns p value. small p-value means unequal variances\n",
    "stat, pval = stats.levene(total_charges_seniors, total_charges_nonseniors)\n",
    "\n",
    "# high p-value suggests that the populations have equal variances\n",
    "\n",
    "if pval < 0.05:\n",
    "    print('inequal variance ==> set equal_var to False')\n",
    "pval"
   ]
  },
  {
   "cell_type": "code",
   "execution_count": 27,
   "id": "87d4ed94",
   "metadata": {
    "scrolled": true
   },
   "outputs": [
    {
     "name": "stdout",
     "output_type": "stream",
     "text": [
      " t-stat:17.342703226071816\n",
      " p-value:3.1878395780060806e-05\n",
      "we can reject H0 \n",
      "\n",
      "Because the p-value (2.0722062265570932e-10) is less than alpha value (0.05), we reject the null hypothesis\n"
     ]
    }
   ],
   "source": [
    "alpha = 0.05\n",
    "\n",
    "t_stat, p_val = stats.ttest_ind(total_charges_seniors, total_charges_nonseniors, equal_var = False)\n",
    "print(f' t-stat:{stat}')\n",
    "print(f' p-value:{pval}')\n",
    "\n",
    "if pval/2 < 0.05:\n",
    "    print('we can reject H0 ')\n",
    "    \n",
    "print(f'''\n",
    "Because the p-value ({p_val}) is less than alpha value ({alpha}), we reject the null hypothesis''')"
   ]
  },
  {
   "cell_type": "markdown",
   "id": "50b76c4c",
   "metadata": {},
   "source": [
    "### Summary:\n",
    "### Since we reject the null hypothesis, there seems to be significant findings that senior citizens on average do pay more Monthly Charges than non senior citizens.m"
   ]
  },
  {
   "cell_type": "markdown",
   "id": "3e5e88e7",
   "metadata": {},
   "source": [
    "# Does gender influence churn?"
   ]
  },
  {
   "cell_type": "code",
   "execution_count": 144,
   "id": "47598539",
   "metadata": {
    "scrolled": true
   },
   "outputs": [
    {
     "data": {
      "image/png": "[encoded data removed]",
      "text/plain": [
       "<Figure size 432x288 with 1 Axes>"
      ]
     },
     "metadata": {
      "needs_background": "light"
     },
     "output_type": "display_data"
    }
   ],
   "source": [
    "plt.title('Gender Vs Churn')\n",
    "sns.countplot(x=train.gender, data=train, hue = 'churn')\n",
    "\n",
    "plt.legend()\n",
    "plt.show()"
   ]
  },
  {
   "cell_type": "markdown",
   "id": "0013e695",
   "metadata": {},
   "source": [
    "There does not seem to be a relationhip between churn and gender"
   ]
  },
  {
   "cell_type": "markdown",
   "id": "79922667",
   "metadata": {},
   "source": [
    "### Stats Test Chi2"
   ]
  },
  {
   "cell_type": "code",
   "execution_count": 157,
   "id": "845e2a27",
   "metadata": {
    "scrolled": true
   },
   "outputs": [
    {
     "name": "stdout",
     "output_type": "stream",
     "text": [
      "churn             No  Yes\n",
      "contract_type            \n",
      "Month-to-month  1238  927\n",
      "One year         726   89\n",
      "Two year         927   30\n",
      "Fail to reject the null\n",
      "Insufficient evidence to reject the null\n"
     ]
    },
    {
     "data": {
      "text/plain": [
       "1.0"
      ]
     },
     "execution_count": 157,
     "metadata": {},
     "output_type": "execute_result"
    }
   ],
   "source": [
    "'''\n",
    "Hypothesis \n",
    "Gender vs churn\n",
    "\n",
    "Variables:\n",
    "* gender(discrete)\n",
    "* churn(discrete)\n",
    "\n",
    "Test: \n",
    "\n",
    "$H_0$: There is **no** relationship between a customers and tenure.\n",
    "\n",
    "$H_a$: There is a relationship between a customers and tenure.\n",
    "'''\n",
    "    \n",
    "print (pd.crosstab(train.contract_type, train.churn))\n",
    "\n",
    "# Chi-Square test to compare two categorical variables (Sex and Survival)\n",
    "\n",
    "\n",
    "alpha = 0.05\n",
    "\n",
    "# Setup a crosstab of observed survival to pclass\n",
    "observed = pd.crosstab(train.gender, train.churn)\n",
    "\n",
    "chi2, p, degf, expected = stats.chi2_contingency(observed)\n",
    "\n",
    "if p < alpha:\n",
    "    print(\"Reject the null hypothesis\")\n",
    "    \n",
    "else:\n",
    "    print(\"Fail to reject the null\")\n",
    "    print(\"Insufficient evidence to reject the null\")\n",
    "p"
   ]
  },
  {
   "cell_type": "markdown",
   "id": "eec05bdc",
   "metadata": {},
   "source": [
    "WE fail to reject the null hypothesis so threre is no association between gender and churn"
   ]
  },
  {
   "cell_type": "markdown",
   "id": "0dafe974",
   "metadata": {},
   "source": [
    "### It does not appear like gender has and influence on churn"
   ]
  },
  {
   "cell_type": "markdown",
   "id": "07099555",
   "metadata": {},
   "source": [
    "# Does partner affect the churn?"
   ]
  },
  {
   "cell_type": "code",
   "execution_count": 145,
   "id": "67dc4dde",
   "metadata": {
    "scrolled": false
   },
   "outputs": [
    {
     "data": {
      "image/png": "[encoded data removed]",
      "text/plain": [
       "<Figure size 432x288 with 1 Axes>"
      ]
     },
     "metadata": {
      "needs_background": "light"
     },
     "output_type": "display_data"
    }
   ],
   "source": [
    "plt.title('Partner Vs Churn')\n",
    "sns.countplot(x=train.partner, data=train, hue = 'churn')\n",
    "\n",
    "plt.legend()\n",
    "plt.show()"
   ]
  },
  {
   "cell_type": "markdown",
   "id": "da326f9c",
   "metadata": {},
   "source": [
    "### There seems to be a relationship between partner and churn"
   ]
  },
  {
   "cell_type": "markdown",
   "id": "032c6601",
   "metadata": {},
   "source": [
    "# Stats Test Chi2"
   ]
  },
  {
   "cell_type": "code",
   "execution_count": 158,
   "id": "da26b015",
   "metadata": {},
   "outputs": [
    {
     "name": "stdout",
     "output_type": "stream",
     "text": [
      "churn      No  Yes\n",
      "partner           \n",
      "No       1364  663\n",
      "Yes      1527  383\n",
      "Reject the null hypothesis\n"
     ]
    },
    {
     "data": {
      "text/plain": [
       "3.578598859815084e-19"
      ]
     },
     "execution_count": 158,
     "metadata": {},
     "output_type": "execute_result"
    }
   ],
   "source": [
    "'''\n",
    "Hypothesis \n",
    "partner vs churn\n",
    "\n",
    "Variables:\n",
    "* partner(discrete)\n",
    "* churn(discrete)\n",
    "\n",
    "Test: \n",
    "\n",
    "$H_0$: There is **no** relationship between a customers and partner\n",
    "\n",
    "$H_a$: There is a relationship between a customers and partner.\n",
    "'''\n",
    "    \n",
    "print (pd.crosstab(train.partner, train.churn))\n",
    "\n",
    "# Chi-Square test to compare two categorical variables (Sex and Survival)\n",
    "\n",
    "\n",
    "alpha = 0.05\n",
    "\n",
    "# Setup a crosstab of observed survival to pclass\n",
    "observed = pd.crosstab(train.partner, train.churn)\n",
    "\n",
    "chi2, p, degf, expected = stats.chi2_contingency(observed)\n",
    "\n",
    "if p < alpha:\n",
    "    print(\"Reject the null hypothesis\")\n",
    "    \n",
    "else:\n",
    "    print(\"Fail to reject the null\")\n",
    "    print(\"Insufficient evidence to reject the null\")\n",
    "p"
   ]
  },
  {
   "cell_type": "markdown",
   "id": "bdb255b8",
   "metadata": {},
   "source": [
    "### WE reject the null hypothesis so there is an association between partner anc churn"
   ]
  },
  {
   "cell_type": "markdown",
   "id": "831b830e",
   "metadata": {},
   "source": [
    "# Exploration Summary\n",
    "* Monthly Charges is a driver of churn\n",
    "* Senior Citizen status is a driver of churn\n",
    "* Tenure is a driver of churn\n",
    "* Partner is a driver of churn\n",
    "* Gender is not a driver of churn\n"
   ]
  },
  {
   "cell_type": "markdown",
   "id": "00789f29",
   "metadata": {},
   "source": [
    "# Features that will be included in my model"
   ]
  },
  {
   "cell_type": "markdown",
   "id": "4b960caf",
   "metadata": {},
   "source": [
    "* Monthly charges  has a significant statitical relationship to churn\n",
    "* Senior Citizen  has a significant statitical relationship to churn\n",
    "* Tenure  has a significant statitical relationship to churn\n",
    "* Partner  has a significant statitical relationship to churn"
   ]
  },
  {
   "cell_type": "markdown",
   "id": "5689cc96",
   "metadata": {},
   "source": [
    "# Features that will not be included in my model"
   ]
  },
  {
   "cell_type": "markdown",
   "id": "866b1893",
   "metadata": {},
   "source": [
    "* Gender did not have a statistical significant relationship to churn.\n",
    "* Other features have unknow significance to churn at the moment\n",
    "    * given more time to I would determined significance to churn."
   ]
  },
  {
   "cell_type": "markdown",
   "id": "c60f60e0",
   "metadata": {},
   "source": [
    "# Modeling"
   ]
  },
  {
   "cell_type": "markdown",
   "id": "48ec442c",
   "metadata": {},
   "source": [
    "* Accuracy is the metric use in the models\n",
    "* Churn customers makeup 26.5% of the data \n",
    "* by guessing non-churn for every customer one could achieve an accuracy of 73.5%\n",
    "* 73.5% will be the baseline accuracy I use for this project \n",
    "\n",
    "* I will be evaluating models developed using four different model types and various hyperparameter configurations\n",
    "\n",
    "* Models will be evaluated on train and validate data\n",
    "\n",
    "* The model that performs the best will then be evaluated on test data"
   ]
  },
  {
   "cell_type": "code",
   "execution_count": null,
   "id": "65a5304b",
   "metadata": {},
   "outputs": [],
   "source": [
    "def model_prep()"
   ]
  },
  {
   "cell_type": "code",
   "execution_count": null,
   "id": "70bea74b",
   "metadata": {},
   "outputs": [],
   "source": [
    "# prep data for modeling\n"
   ]
  },
  {
   "cell_type": "code",
   "execution_count": null,
   "id": "d3b0cde8",
   "metadata": {},
   "outputs": [],
   "source": []
  },
  {
   "cell_type": "code",
   "execution_count": null,
   "id": "3a34c349",
   "metadata": {},
   "outputs": [],
   "source": []
  },
  {
   "cell_type": "code",
   "execution_count": null,
   "id": "32019b7e",
   "metadata": {},
   "outputs": [],
   "source": [
    "\n",
    "# prepare data\n",
    "telco_df = w.prep_telco(df)\n",
    "\n",
    "# drop columns\n",
    "telco_df =telco_df.drop(columns={'customer_id',\n",
    "                                    'dependents',\n",
    "                                    'phone_service',\n",
    "                                    'multiple_lines',\n",
    "                                    'online_security',\n",
    "                                    'online_backup',\n",
    "                                    'device_protection', \n",
    "                                    'tech_support',\n",
    "                                    'streaming_tv',\n",
    "                                    'streaming_movies',\n",
    "                                    'paperless_billing',\n",
    "                                     'gender',\n",
    "                                     'partner',\n",
    "            \n",
    "                                    'contract_type',\n",
    "                                    'internet_service_type',\n",
    "                                    'payment_type'})\n",
    "# split data\n",
    "telco_train, validate, test = w.split_telco_data(telco_df)\n",
    "telco_train.shape,validate.shape, test.shape\n",
    "\n",
    "#seperate target\n",
    "x_train = telco_train.drop(columns=['churn','churn_No','churn_Yes'])\n",
    "y_train = telco_train.churn_Yes\n",
    "\n",
    "x_validate = validate.drop(columns=['churn','churn_No','churn_Yes'])\n",
    "y_validate = validate.churn_Yes\n",
    "\n",
    "x_test = test.drop(columns=['churn','churn_No','churn_Yes'])\n",
    "y_test = test.churn_Yes\n",
    "\n",
    "x_train, x_validate, x_test = w.impute_mean_total_charges(x_train, x_validate, x_test)"
   ]
  },
  {
   "cell_type": "code",
   "execution_count": null,
   "id": "604325cf",
   "metadata": {},
   "outputs": [],
   "source": [
    "#seperate target\n",
    "x_train = telco_train.drop(columns=['churn','churn_No','churn_Yes'])\n",
    "y_train = telco_train.churn_Yes\n",
    "\n",
    "x_validate = validate.drop(columns=['churn','churn_No','churn_Yes'])\n",
    "y_validate = validate.churn_Yes\n",
    "\n",
    "x_test = test.drop(columns=['churn','churn_No','churn_Yes'])\n",
    "y_test = test.churn_Yes\n",
    "\n",
    "x_train, x_validate, x_test = w.impute_mean_total_charges(x_train, x_validate, x_test)"
   ]
  },
  {
   "cell_type": "code",
   "execution_count": null,
   "id": "671b3429",
   "metadata": {
    "scrolled": true
   },
   "outputs": [],
   "source": [
    "x_train.shape, x_validate.shape, x_test.shape"
   ]
  }
 ],
 "metadata": {
  "kernelspec": {
   "display_name": "Python 3 (ipykernel)",
   "language": "python",
   "name": "python3"
  },
  "language_info": {
   "codemirror_mode": {
    "name": "ipython",
    "version": 3
   },
   "file_extension": ".py",
   "mimetype": "text/x-python",
   "name": "python",
   "nbconvert_exporter": "python",
   "pygments_lexer": "ipython3",
   "version": "3.9.12"
  }
 },
 "nbformat": 4,
 "nbformat_minor": 5
}
