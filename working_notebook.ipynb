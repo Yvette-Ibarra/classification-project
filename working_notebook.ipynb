{
 "cells": [
  {
   "cell_type": "code",
   "execution_count": null,
   "id": "a943e923",
   "metadata": {},
   "outputs": [],
   "source": []
  },
  {
   "cell_type": "code",
   "execution_count": 1,
   "id": "13b57e03",
   "metadata": {},
   "outputs": [
    {
     "ename": "SyntaxError",
     "evalue": "invalid syntax (2478744600.py, line 1)",
     "output_type": "error",
     "traceback": [
      "\u001b[0;36m  Input \u001b[0;32mIn [1]\u001b[0;36m\u001b[0m\n\u001b[0;31m    In [21]:\u001b[0m\n\u001b[0m            ^\u001b[0m\n\u001b[0;31mSyntaxError\u001b[0m\u001b[0;31m:\u001b[0m invalid syntax\n"
     ]
    }
   ],
   "source": [
    "\n",
    "In [21]:\n",
    "# acquire data using \n",
    "df = acquire.get_telco_data()\n",
    "# prepare data\n",
    "telco_df = prepare.prep_telco(df)\n",
    "\n",
    "# drop columns\n",
    "telco_df =telco_df.drop(columns={'customer_id',\n",
    "                                    'dependents',\n",
    "                                    'phone_service',\n",
    "                                    'multiple_lines',\n",
    "                                    'online_security',\n",
    "                                    'online_backup',\n",
    "                                    'device_protection', \n",
    "                                    'tech_support',\n",
    "                                    'streaming_tv',\n",
    "                                    'streaming_movies',\n",
    "                                    'paperless_billing',\n",
    "                                     'gender',\n",
    "                                     'partner',\n",
    "            \n",
    "                                    'contract_type',\n",
    "                                    'internet_service_type',\n",
    "                                    'payment_type'})\n",
    "# split data\n",
    "telco_train, validate, test = prepare.split_telco_data(telco_df)\n",
    "telco_train.shape,validate.shape, test.shape\n",
    "\n",
    "#seperate target\n",
    "X_train = telco_train.drop(columns=['churn','churn_No','churn_Yes'])\n",
    "y_train = telco_train.churn_Yes\n",
    "\n",
    "X_validate = validate.drop(columns=['churn','churn_No','churn_Yes'])\n",
    "y_validate = validate.churn_Yes\n",
    "\n",
    "X_test = test.drop(columns=['churn','churn_No','churn_Yes'])\n",
    "y_test = test.churn_Yes\n",
    "\n",
    "X_train, X_validate, X_test = prepare.impute_mean_total_charges(X_train, X_validate, X_test)"
   ]
  },
  {
   "cell_type": "code",
   "execution_count": null,
   "id": "5c863cb1",
   "metadata": {},
   "outputs": [],
   "source": []
  }
 ],
 "metadata": {
  "kernelspec": {
   "display_name": "Python 3 (ipykernel)",
   "language": "python",
   "name": "python3"
  },
  "language_info": {
   "codemirror_mode": {
    "name": "ipython",
    "version": 3
   },
   "file_extension": ".py",
   "mimetype": "text/x-python",
   "name": "python",
   "nbconvert_exporter": "python",
   "pygments_lexer": "ipython3",
   "version": "3.9.12"
  }
 },
 "nbformat": 4,
 "nbformat_minor": 5
}
