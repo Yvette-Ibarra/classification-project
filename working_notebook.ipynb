{
 "cells": [
  {
   "cell_type": "markdown",
   "id": "582dedf2",
   "metadata": {},
   "source": [
    "# Working notebook 1st draft $Telco Project Data$"
   ]
  },
  {
   "cell_type": "markdown",
   "id": "b6011622",
   "metadata": {},
   "source": [
    "### Imports"
   ]
  },
  {
   "cell_type": "code",
   "execution_count": null,
   "id": "943cd6b9",
   "metadata": {},
   "outputs": [],
   "source": [
    "import pandas as pd\n",
    "import numpy as np\n",
    "import scipy.stats as stats\n",
    "import matplotlib.pyplot as plt\n",
    "import seaborn as sns\n",
    "\n",
    "from sklearn.tree import DecisionTreeClassifier, plot_tree\n",
    "from sklearn.ensemble import RandomForestClassifier\n",
    "from sklearn.metrics import classification_report\n",
    "from sklearn.metrics import confusion_matrix\n",
    "from sklearn.neighbors import KNeighborsClassifier\n",
    "from sklearn.linear_model import LogisticRegression\n",
    "from sklearn.model_selection import train_test_split\n",
    "\n",
    "import wrangle as w\n",
    "\n",
    "# to see all columns in wide datasets\n",
    "pd.set_option('display.max_columns', None)\n"
   ]
  },
  {
   "cell_type": "code",
   "execution_count": null,
   "id": "db8ac8ac",
   "metadata": {},
   "outputs": [],
   "source": [
    "# acquire telco data \n",
    "df = w.get_telco_data()"
   ]
  },
  {
   "cell_type": "code",
   "execution_count": null,
   "id": "a6c6f951",
   "metadata": {},
   "outputs": [],
   "source": [
    "df.columns"
   ]
  },
  {
   "cell_type": "code",
   "execution_count": null,
   "id": "6d225e71",
   "metadata": {},
   "outputs": [],
   "source": [
    "df.dtypes"
   ]
  },
  {
   "cell_type": "code",
   "execution_count": null,
   "id": "6aa78e07",
   "metadata": {},
   "outputs": [],
   "source": [
    "df.shape\n"
   ]
  },
  {
   "cell_type": "code",
   "execution_count": null,
   "id": "2453d09f",
   "metadata": {},
   "outputs": [],
   "source": [
    "df.total_charges.value_counts()"
   ]
  },
  {
   "cell_type": "markdown",
   "id": "8102c035",
   "metadata": {},
   "source": [
    "# prepare"
   ]
  },
  {
   "cell_type": "code",
   "execution_count": null,
   "id": "ea77d811",
   "metadata": {},
   "outputs": [],
   "source": [
    "# cleaning data\n",
    "df = w.prep_telco(df)"
   ]
  },
  {
   "cell_type": "code",
   "execution_count": null,
   "id": "9d448e01",
   "metadata": {
    "scrolled": true
   },
   "outputs": [],
   "source": [
    "df"
   ]
  },
  {
   "cell_type": "markdown",
   "id": "0ef8dda6",
   "metadata": {},
   "source": [
    "\n",
    "df[df.contract_type != 'Month-to-month']"
   ]
  },
  {
   "cell_type": "code",
   "execution_count": null,
   "id": "a210c512",
   "metadata": {},
   "outputs": [],
   "source": [
    "df.customer_id"
   ]
  },
  {
   "cell_type": "code",
   "execution_count": null,
   "id": "6d78e046",
   "metadata": {},
   "outputs": [],
   "source": [
    "df.churn"
   ]
  },
  {
   "cell_type": "code",
   "execution_count": null,
   "id": "769037f8",
   "metadata": {},
   "outputs": [],
   "source": [
    "df.shape"
   ]
  },
  {
   "cell_type": "code",
   "execution_count": null,
   "id": "a47ff875",
   "metadata": {},
   "outputs": [],
   "source": [
    "def split_telco_data(df):\n",
    "    '''\n",
    "    This function split telco data into train , validate, test and  stratifies on churn.\n",
    "    The split is 20% test 80% train/validate. Then 30% of 80% validate and 70% of 80% train.\n",
    "    Aproximately (train 56%, validate 24%, test 20%)\n",
    "    Returns train, validate, and test \n",
    "    '''\n",
    "    train_validate, test = train_test_split(df, test_size=.2, \n",
    "                                        random_state=123, \n",
    "                                        stratify=df.churn)\n",
    "    train, validate = train_test_split(train_validate, test_size=.3, \n",
    "                                   random_state=123, \n",
    "                                   stratify=train_validate.churn)\n",
    "    return train, validate, test"
   ]
  },
  {
   "cell_type": "code",
   "execution_count": null,
   "id": "0f232f85",
   "metadata": {},
   "outputs": [],
   "source": [
    "# split data\n",
    "train, validate, test = w.split_telco_data(df)\n",
    "train.shape,validate.shape, test.shape\n",
    "\n"
   ]
  },
  {
   "cell_type": "code",
   "execution_count": null,
   "id": "a303f28f",
   "metadata": {
    "scrolled": false
   },
   "outputs": [],
   "source": [
    "df_predictions = pd.DataFrame(test.customer_id)"
   ]
  },
  {
   "cell_type": "code",
   "execution_count": null,
   "id": "cb7fb375",
   "metadata": {},
   "outputs": [],
   "source": [
    "df_predictions"
   ]
  },
  {
   "cell_type": "code",
   "execution_count": null,
   "id": "094a48ad",
   "metadata": {
    "scrolled": true
   },
   "outputs": [],
   "source": [
    "train.churn"
   ]
  },
  {
   "cell_type": "markdown",
   "id": "0d4f518a",
   "metadata": {},
   "source": [
    "# Explore"
   ]
  },
  {
   "cell_type": "markdown",
   "id": "c225cf96",
   "metadata": {},
   "source": [
    "# How often does churn occur?"
   ]
  },
  {
   "cell_type": "code",
   "execution_count": null,
   "id": "c076ef78",
   "metadata": {},
   "outputs": [],
   "source": [
    "mean = train.churn.value_counts().mean()\n",
    "mean"
   ]
  },
  {
   "cell_type": "code",
   "execution_count": null,
   "id": "73306f87",
   "metadata": {},
   "outputs": [],
   "source": [
    "train.churn.value_counts()"
   ]
  },
  {
   "cell_type": "code",
   "execution_count": null,
   "id": "54007885",
   "metadata": {
    "scrolled": true
   },
   "outputs": [],
   "source": [
    "def get_churn_mean_bar1(df): \n",
    "    mean = df.churn.value_counts().mean()\n",
    "    plt.title(f'Churn Mean : {mean}')\n",
    "    sns.countplot(df.churn)\n",
    "    col_mean= df.churn.value_counts().mean()\n",
    "    plt.axhline(col_mean, label = 'Churn mean',color='maroon')\n"
   ]
  },
  {
   "cell_type": "code",
   "execution_count": null,
   "id": "bcaf408f",
   "metadata": {},
   "outputs": [],
   "source": [
    "def get_churn_mean_bar(df):\n",
    "    ''' This function takes in telco data frame and returns a histoplot that\n",
    "    graphs the percentage of Telco customer who have churn'''\n",
    "\n",
    "    sns.set_style('white')\n",
    "    \n",
    "\n",
    "    c_percent = round(df.churn.value_counts(normalize=True)[1],3)* 100\n",
    "    plt.title(f'Customers churn by {c_percent}%',fontsize=30,fontweight=100,color='midnightblue')\n",
    "    sns.histplot(data =df, x='churn',element='bars',stat='percent',hue='churn',palette='cubehelix',)\n",
    "    col_mean= round(df.churn.value_counts(normalize=True)[1],3)* 100\n",
    "    plt.axhline(col_mean, label = 'Churn Rate',color='midnightblue',linestyle='dashed')\n",
    "   \n",
    "    plt.show();\n",
    "get_churn_mean_bar(train)"
   ]
  },
  {
   "cell_type": "code",
   "execution_count": null,
   "id": "fcdd7460",
   "metadata": {
    "scrolled": true
   },
   "outputs": [],
   "source": [
    "get_churn_mean_bar(train)\n",
    "\n"
   ]
  },
  {
   "cell_type": "code",
   "execution_count": null,
   "id": "9a6b42b6",
   "metadata": {},
   "outputs": [],
   "source": [
    "train.churn.value_counts(normalize=True)[1]"
   ]
  },
  {
   "cell_type": "markdown",
   "id": "0f863f73",
   "metadata": {},
   "source": [
    "### It appears that about 26% of telco customers churn."
   ]
  },
  {
   "cell_type": "markdown",
   "id": "4d32087a",
   "metadata": {},
   "source": [
    "# Baseline"
   ]
  },
  {
   "cell_type": "code",
   "execution_count": null,
   "id": "735b5adf",
   "metadata": {},
   "outputs": [],
   "source": [
    "#Find Baseline\n",
    "train.churn.value_counts()\n",
    "#Baseline is 0, customer did not churn"
   ]
  },
  {
   "cell_type": "code",
   "execution_count": null,
   "id": "494a7fcc",
   "metadata": {},
   "outputs": [],
   "source": [
    "#Baseline Accuracy\n",
    "baseline = (train.churn == 'No').mean()\n",
    "baseline"
   ]
  },
  {
   "cell_type": "markdown",
   "id": "3b726125",
   "metadata": {},
   "source": [
    "# Does having a high monthly charge affect churn?"
   ]
  },
  {
   "cell_type": "markdown",
   "id": "5d2727a7",
   "metadata": {},
   "source": [
    "### I appears that monthly charges has some bearing on customer churn. Customers who have less monthly charges appear to have stayed with Telco.\n"
   ]
  },
  {
   "cell_type": "code",
   "execution_count": null,
   "id": "cc580e49",
   "metadata": {},
   "outputs": [],
   "source": [
    "train.monthly_charges.describe()"
   ]
  },
  {
   "cell_type": "code",
   "execution_count": null,
   "id": "8c57c226",
   "metadata": {
    "scrolled": true
   },
   "outputs": [],
   "source": [
    "plt.figure(figsize=(12,6))\n",
    "plt.title('Monthly Charges vs Churn')\n",
    "sns.histplot(x='monthly_charges', data=train, hue='churn',multiple='dodge', kde= True, bins = 6)"
   ]
  },
  {
   "cell_type": "code",
   "execution_count": null,
   "id": "987841a8",
   "metadata": {},
   "outputs": [],
   "source": [
    "print(sns.color_palette(\"cubehelix\").as_hex())"
   ]
  },
  {
   "cell_type": "code",
   "execution_count": null,
   "id": "cd6d136d",
   "metadata": {
    "scrolled": true
   },
   "outputs": [],
   "source": [
    "def get_monthly_charges(df):\n",
    "    plt.title('Monthly Charges vs Churn')\n",
    "    sns.boxplot(x=df.monthly_charges, y=df.churn,\n",
    "                whis=np.inf, palette='cubehelix');\n",
    "get_monthly_charges(train)"
   ]
  },
  {
   "cell_type": "markdown",
   "id": "db814c4e",
   "metadata": {},
   "source": [
    "### Stat Test T-test"
   ]
  },
  {
   "cell_type": "code",
   "execution_count": null,
   "id": "e09508fb",
   "metadata": {
    "scrolled": true
   },
   "outputs": [],
   "source": [
    "# Create an array with the colors you want to use\n",
    "colors = ['#98b49c', '#e7c7e2']\n",
    "# Set your custom color palette\n",
    "sns.set_palette(sns.color_palette(colors))\n",
    "get_monthly_charges(train)"
   ]
  },
  {
   "cell_type": "code",
   "execution_count": null,
   "id": "6e6688e6",
   "metadata": {},
   "outputs": [],
   "source": [
    "train.churn.value_counts()"
   ]
  },
  {
   "cell_type": "code",
   "execution_count": null,
   "id": "b6a7b135",
   "metadata": {
    "scrolled": true
   },
   "outputs": [],
   "source": [
    "train[train.churn == 'Yes']"
   ]
  },
  {
   "cell_type": "code",
   "execution_count": null,
   "id": "403500cf",
   "metadata": {},
   "outputs": [],
   "source": [
    "'''\n",
    "Hypothesis \n",
    "Does monthly charges have a relationship with churn? \n",
    "\n",
    "Variables:\n",
    "* monthly charges (continuous)\n",
    "* churn(discrete)\n",
    "\n",
    "Test: T-test two tail one sample scipy.stats.ttest_ind\n",
    "\n",
    "$H_0$: Mean tenure of Telco customers who churn == mean tenure of Telco customers who do not churn.\n",
    "\n",
    "$H_a$: Tean tenure of Telco customers who churn != mean tenure of Telco customers who do not churn.\n",
    "'''\n",
    "\n",
    "subset_churn =train[train.churn=='Yes']\n",
    "subset_notchurn = train[train.churn =='No']\n",
    "\n",
    "# # stats Levene test - returns p value. small p-value means unequal variances\n",
    "stat, pval =stats.levene(subset_churn.monthly_charges, subset_notchurn.monthly_charges)\n",
    "\n",
    "\n",
    "# high p-value suggests that the populations have equal variances\n",
    "\n",
    "if pval < 0.05:\n",
    "    print('inequal variance ==> set equl_var to False')\n",
    "pval\n",
    "\n",
    "alpha = 0.05\n",
    "\n",
    "t_stat, p_val = stats.ttest_ind(subset_churn.monthly_charges, subset_notchurn.monthly_charges, equal_var = False)\n",
    "print(f' t-stat:{stat}')\n",
    "print(f' p-value:{pval}')\n",
    "\n",
    "if pval/2 < 0.05:\n",
    "    print('we can reject H0 ')\n",
    "    \n",
    "print(f'''\n",
    "Because the p-value ({p_val}) is less than alpha value ({alpha}), we reject the null hypothesis''')"
   ]
  },
  {
   "cell_type": "code",
   "execution_count": null,
   "id": "6a1f7ece",
   "metadata": {},
   "outputs": [],
   "source": [
    "subset_churn.shape"
   ]
  },
  {
   "cell_type": "markdown",
   "id": "0ee3c2bf",
   "metadata": {},
   "source": [
    "## T TEST"
   ]
  },
  {
   "cell_type": "code",
   "execution_count": null,
   "id": "aae48bd8",
   "metadata": {},
   "outputs": [],
   "source": [
    "def get_ttest_monthly_charges(df):\n",
    "    \n",
    "    # create two independent sample group of customers: churn and not churn.\n",
    "    subset_churn =df[df.churn=='Yes']\n",
    "    subset_notchurn = df[df.churn =='No']\n",
    "\n",
    "    # # stats Levene test - returns p value. small p-value means unequal variances\n",
    "    stat, pval =stats.levene(subset_churn.monthly_charges, subset_notchurn.monthly_charges)\n",
    "\n",
    "\n",
    "    # high p-value suggests that the populations have equal variances\n",
    "    if pval < 0.05:\n",
    "        variance = True\n",
    "    else:\n",
    "        variance = False\n",
    "\n",
    " \n",
    "    alpha = 0.05\n",
    "\n",
    "    t_stat, p_val = stats.ttest_ind(subset_churn.monthly_charges, subset_notchurn.monthly_charges, equal_var = True,random_state=123)\n",
    "    t_stat = t_stat.round(4)\n",
    "    p_val = p_val.round(4)\n",
    "    print(f' t-stat:{t_stat}')\n",
    "    print(f' p-value:{p_val}')\n",
    "\n",
    "   \n",
    "\n",
    "get_ttest_monthly_charges(train)"
   ]
  },
  {
   "cell_type": "markdown",
   "id": "0120dd08",
   "metadata": {},
   "source": [
    "### REject null hypothesis there is significant difference between the means of of monthly charges of those who churn vs those who do not churn"
   ]
  },
  {
   "cell_type": "markdown",
   "id": "6ed21555",
   "metadata": {},
   "source": [
    "#  Do Senior Citizens churn more than non-Senior Citizens?"
   ]
  },
  {
   "cell_type": "code",
   "execution_count": null,
   "id": "69fe2906",
   "metadata": {},
   "outputs": [],
   "source": [
    "sub_issenior = train[train.senior_citizen== 1]\n",
    "sub_notsenior = train[train.senior_citizen == 0]"
   ]
  },
  {
   "cell_type": "code",
   "execution_count": null,
   "id": "2c6bbc8b",
   "metadata": {},
   "outputs": [],
   "source": [
    "sns.distplot(x=train.senior_citizen,norm_hist=True,);"
   ]
  },
  {
   "cell_type": "code",
   "execution_count": null,
   "id": "018e673f",
   "metadata": {},
   "outputs": [],
   "source": [
    "sub_issenior.describe()"
   ]
  },
  {
   "cell_type": "code",
   "execution_count": null,
   "id": "58fcc574",
   "metadata": {},
   "outputs": [],
   "source": [
    "sub_notsenior.churn.value_counts(normalize= True)"
   ]
  },
  {
   "cell_type": "code",
   "execution_count": null,
   "id": "a560f0ff",
   "metadata": {
    "scrolled": true
   },
   "outputs": [],
   "source": [
    "sub_notsenior.churn.value_counts(normalize= True)"
   ]
  },
  {
   "cell_type": "code",
   "execution_count": null,
   "id": "e1d254d8",
   "metadata": {
    "scrolled": false
   },
   "outputs": [],
   "source": [
    "sub_issenior.churn.value_counts(normalize = True)"
   ]
  },
  {
   "cell_type": "code",
   "execution_count": null,
   "id": "be69d729",
   "metadata": {},
   "outputs": [],
   "source": [
    "train.senior_citizen"
   ]
  },
  {
   "cell_type": "code",
   "execution_count": null,
   "id": "90344e4f",
   "metadata": {
    "scrolled": false
   },
   "outputs": [],
   "source": [
    "def senior(train): \n",
    "    senior= train.senior_citizen.map({1:'Yes', 0: 'No'})\n",
    "    sns.histplot(data = train, x= senior, stat=\"percent\", multiple=\"dodge\", shrink=.8, hue='churn')\n",
    "    plt.show()\n",
    "\n",
    "senior(train)"
   ]
  },
  {
   "cell_type": "code",
   "execution_count": null,
   "id": "ae4fafc7",
   "metadata": {
    "scrolled": true
   },
   "outputs": [],
   "source": [
    "train.senior_citizen"
   ]
  },
  {
   "cell_type": "code",
   "execution_count": null,
   "id": "e82cfd8f",
   "metadata": {},
   "outputs": [],
   "source": [
    "sns.barplot(x='senior_citizen', y=\"churn\", hue=\"churn\", \n",
    "                  data=train, ci=None)"
   ]
  },
  {
   "cell_type": "code",
   "execution_count": null,
   "id": "418f3ef0",
   "metadata": {
    "scrolled": true
   },
   "outputs": [],
   "source": [
    "fig, ax = plt.subplots()\n",
    "ax =sns.histplot(data = train, x= 'senior_citizen', stat=\"percent\", multiple=\"dodge\", shrink=.8, hue='churn')\n",
    "ax.bar(['Not Senior Citizen', 'Senior Citizen'],0)\n",
    "\n",
    "\n",
    "# sns.histplot(data = train, x=train.senior_citizen == 0, stat=\"percent\")"
   ]
  },
  {
   "cell_type": "code",
   "execution_count": null,
   "id": "216496da",
   "metadata": {},
   "outputs": [],
   "source": [
    "train.senior_citizen.head()"
   ]
  },
  {
   "cell_type": "code",
   "execution_count": null,
   "id": "164e9c03",
   "metadata": {},
   "outputs": [],
   "source": [
    "sns.displot(data = train, x='churn', hue ='senior_citizen', col='senior_citizen',palette= 'cubehelix')\n",
    "plt.legend(train.churn)"
   ]
  },
  {
   "cell_type": "code",
   "execution_count": null,
   "id": "039d7ba2",
   "metadata": {},
   "outputs": [],
   "source": [
    "sns.displot()"
   ]
  },
  {
   "cell_type": "code",
   "execution_count": null,
   "id": "5054ae86",
   "metadata": {},
   "outputs": [],
   "source": [
    "fig, ax = plt.subplots()\n",
    "ax = sns.histplot(data = train, x= train.senior_citizen,bins=2 , stat=\"percent\", multiple=\"dodge\",  hue='churn')\n",
    "ax.bar(['Not Senior Citizen', 'Senior Citizen'],0)\n",
    "#plt.xticks(np.arange(0,4,1));\n"
   ]
  },
  {
   "cell_type": "code",
   "execution_count": null,
   "id": "2f3a591a",
   "metadata": {
    "scrolled": false
   },
   "outputs": [],
   "source": [
    "sns.histplot(data =train, cbar=True,x='senior_citizen',stat='percent',hue='churn', palette='cubehelix',multiple='dodge')\n"
   ]
  },
  {
   "cell_type": "code",
   "execution_count": null,
   "id": "f968d8c0",
   "metadata": {
    "scrolled": true
   },
   "outputs": [],
   "source": [
    "senior_no= train[senior == 'No']\n",
    "senior_yes = train[senior== 'Yes']"
   ]
  },
  {
   "cell_type": "code",
   "execution_count": null,
   "id": "147bd5ba",
   "metadata": {},
   "outputs": [],
   "source": [
    "train[train.senior_citizen==1]"
   ]
  },
  {
   "cell_type": "code",
   "execution_count": null,
   "id": "48cccad5",
   "metadata": {},
   "outputs": [],
   "source": [
    "\n",
    "# change encoding of senior citizen to text\n",
    "senior= train.senior_citizen.map({1:'Yes', 0: 'No'})\n",
    "\n",
    "sns.countplot(x=senior, data=train, hue = 'churn',dodge=False)\n",
    "\n",
    "# Title\n",
    "plt.suptitle('Senior Citizens Churn More',fontsize=25,fontweight=100,color='midnightblue')\n",
    "    \n",
    "plt.show();\n",
    "    "
   ]
  },
  {
   "cell_type": "code",
   "execution_count": null,
   "id": "31451016",
   "metadata": {
    "scrolled": true
   },
   "outputs": [],
   "source": [
    "\n",
    "def get_bar_senior(df):\n",
    "  \n",
    "    plt.figure(figsize=(10,5))\n",
    "\n",
    "    \n",
    "    # change encoding of senior citizen to text\n",
    "    senior= df.senior_citizen.map({1:'Yes', 0: 'No'})\n",
    "    \n",
    "    # Set your custom color palette and font size\n",
    "    colors = ['#6BAF8E', '#E6AFC9']\n",
    "    sns.set(font_scale=1.5)    \n",
    "    sns.set_palette(sns.color_palette(colors))\n",
    "    sns.set_style('white')\n",
    "    \n",
    "    plt.subplot(1,2,1)\n",
    "    sns.countplot(x=senior, data=train, hue = 'churn')\n",
    "\n",
    "\n",
    "    plt.subplot(1,2,2)\n",
    "    sns.countplot(x=senior, data=train, hue = 'churn',dodge=False)\n",
    "\n",
    "    # Title\n",
    "    plt.suptitle('Senior Citizens Churn More',fontsize=25,fontweight=100,color='midnightblue')\n",
    "    \n",
    "    plt.show();\n",
    "    \n",
    "get_bar_senior(train)"
   ]
  },
  {
   "cell_type": "markdown",
   "id": "e75722c1",
   "metadata": {},
   "source": [
    "### Stats Test Chi2 test"
   ]
  },
  {
   "cell_type": "markdown",
   "id": "2b47fb33",
   "metadata": {},
   "source": [
    "Do customers who are consider seniors churn more than customers who are not seniors?\n",
    "\n",
    "Variables:\n",
    "\n",
    "    * seniors (discrete)\n",
    "    * churn (discrete)\n",
    "    \n",
    "Test: chi^2\n",
    "\n",
    "$H_0$: There is **no** relationship between a customers with senior status and churn.\n",
    "\n",
    "$H_a$: There is a relationship between a customers senior status and churn."
   ]
  },
  {
   "cell_type": "code",
   "execution_count": null,
   "id": "72b4122b",
   "metadata": {},
   "outputs": [],
   "source": [
    "def get_chi2_senior(df):    \n",
    "    # Chi-Square test to compare two categorical variables (senior citizen status, churn)\n",
    "\n",
    "    alpha = 0.05\n",
    "\n",
    "    # Setup a crosstab of observed \n",
    "    observed = pd.crosstab(df.senior_citizen== 1, train.churn)\n",
    "\n",
    "    chi2, p, degf, expected = stats.chi2_contingency(observed)\n",
    "\n",
    "    chi2 = chi2.round(4)\n",
    "    p = p.round(4)\n",
    "    print(f' Chi-Square:{chi2}')\n",
    "    print(f' p-value:{p}')\n",
    "    \n",
    "get_chi2_senior(train)"
   ]
  },
  {
   "cell_type": "code",
   "execution_count": null,
   "id": "d69d4f8b",
   "metadata": {},
   "outputs": [],
   "source": [
    "    # Chi-Square test to compare two categorical variables (senior citizen status, churn)\n",
    "\n",
    "    alpha = 0.05\n",
    "\n",
    "    # Setup a crosstab of observed \n",
    "    observed = pd.crosstab(train.senior_citizen==1, train.churn)\n",
    "\n",
    "    chi2, p, degf, expected = stats.chi2_contingency(observed)\n",
    "\n",
    "    if p < alpha:\n",
    "        print(\"Reject the null hypothesis\")\n",
    "\n",
    "    else:\n",
    "        print(\"Fail to reject the null\")\n",
    "        print(\"Insufficient evidence to reject the null\")\n",
    "    chi2,p"
   ]
  },
  {
   "cell_type": "markdown",
   "id": "904c24b9",
   "metadata": {},
   "source": [
    "### Since we reject the null hypethesis there seems an significant association between customers who are senior citizens and churn."
   ]
  },
  {
   "cell_type": "markdown",
   "id": "80264c65",
   "metadata": {},
   "source": [
    "# Does tenure affect churn?"
   ]
  },
  {
   "cell_type": "code",
   "execution_count": null,
   "id": "172d24ea",
   "metadata": {
    "scrolled": true
   },
   "outputs": [],
   "source": [
    "def get_boxplot_tenure(df):    \n",
    "    plt.title('Tenure vs Churn')\n",
    "    sns.boxplot(y=df.tenure, x=df.churn,palette='cubehelix',whis=np.inf);\n",
    "get_boxplot_tenure(train)"
   ]
  },
  {
   "cell_type": "code",
   "execution_count": null,
   "id": "77c1b2fc",
   "metadata": {},
   "outputs": [],
   "source": [
    "plt.title('Tenure vs Churn')\n",
    "sns.boxplot(y=train.tenure, x=train.churn,saturation=.5,palette='gist_ncar',\n",
    "            whis=np.inf\n",
    "           )"
   ]
  },
  {
   "cell_type": "markdown",
   "id": "f66bef58",
   "metadata": {},
   "source": [
    "### Stats Test T-test"
   ]
  },
  {
   "cell_type": "code",
   "execution_count": null,
   "id": "1a4908ef",
   "metadata": {},
   "outputs": [],
   "source": [
    "'''\n",
    "Hypothesis \n",
    "Does tenure have a relationship with churn? \n",
    "\n",
    "Variables:\n",
    "* tenure (continuous)\n",
    "* churn(discrete)\n",
    "\n",
    "Test: T-test two tail one sample scipy.stats.ttest_ind\n",
    "\n",
    "$H_0$: Mean tenure of Telco customers who churn == mean tenure of Telco customers who do not churn.\n",
    "\n",
    "$H_a$: Tean tenure of Telco customers who churn != mean tenure of Telco customers who do not churn.\n",
    "'''\n",
    "subset_churn =train[train.churn=='Yes']\n",
    "subset_notchurn = train[train.churn =='No']\n",
    "\n",
    "# # stats Levene test - returns p value. small p-value means unequal variances\n",
    "stats.levene(subset_churn.tenure, subset_notchurn.tenure)\n",
    "\n",
    "# high p-value suggests that the populations have equal variances\n",
    "\n",
    "if pval < 0.05:\n",
    "    print('inequal variance ==> set equl_var to False')\n",
    "else:\n",
    "    print('False')\n",
    "pval\n",
    "\n",
    "alpha = 0.05\n",
    "\n",
    "t_stat, p_val = stats.ttest_ind(subset_churn.tenure, subset_notchurn.tenure, equal_var = False,random_state=123)\n",
    "\n",
    "print(f' t-stat:{t_stat}')\n",
    "print(f' p-value:{p_val}')\n",
    "\n",
    "if pval < 0.05:\n",
    "    print('we can reject H0 ')\n",
    "    \n",
    "print(f'''\n",
    "Because the p-value ({p_val}) is less than alpha value ({alpha}), we reject the null hypothesis''')"
   ]
  },
  {
   "cell_type": "code",
   "execution_count": null,
   "id": "35283302",
   "metadata": {},
   "outputs": [],
   "source": [
    "# Second Go_______________________\n",
    "'''\n",
    "Hypothesis \n",
    "Do customers who churn have lower tenure?\n",
    "\n",
    "Variables:\n",
    "* tenure (continuous)\n",
    "* churn(discrete)\n",
    "\n",
    "Test: T-test one tail one sample scipy.stats.ttest_ind\n",
    "\n",
    "$H_0$: Mean tenure of Telco customers who churn >= mean tenure of Telco customers who do not churn.\n",
    "\n",
    "$H_a$: Tean tenure of Telco customers who churn < mean tenure of Telco customers who do not churn.\n",
    "'''\n",
    "subset_churn =train[train.churn=='Yes']\n",
    "subset_notchurn = train[train.churn =='No']\n",
    "\n",
    "# # stats Levene test - returns p value. small p-value means unequal variances\n",
    "stats.levene(subset_churn.tenure, subset_notchurn.tenure)\n",
    "\n",
    "# high p-value suggests that the populations have equal variances\n",
    "\n",
    "if pval < 0.05:\n",
    "    print('inequal variance ==> set equl_var to False')\n",
    "else:\n",
    "    print('False')\n",
    "pval\n",
    "\n",
    "alpha = 0.05\n",
    "\n",
    "t_stat, p_val = stats.ttest_ind(subset_churn.tenure, subset_notchurn.tenure, equal_var = False,random_state=123)\n",
    "\n",
    "print(f' t-stat:{t_stat}')\n",
    "print(f' p-value:{p_val}')\n",
    "\n",
    "if pval/2 < 0.05:\n",
    "    print('we can reject H0 ')\n",
    "    \n",
    "print(f'''\n",
    "Because the p-value ({p_val}) is less than alpha value ({alpha}), we reject the null hypothesis''')"
   ]
  },
  {
   "cell_type": "code",
   "execution_count": null,
   "id": "a2f9d7d8",
   "metadata": {},
   "outputs": [],
   "source": [
    "def get_ttest_tenure(df):\n",
    "    \n",
    "    # create two independent sample group of customers: churn and not churn.\n",
    "    subset_churn =df[df.churn=='Yes']\n",
    "    subset_notchurn = df[df.churn =='No']\n",
    "\n",
    "    # # stats Levene test - returns p value. small p-value means unequal variances\n",
    "    stat, pval =stats.levene(subset_churn.tenure, subset_notchurn.tenure)\n",
    "\n",
    "\n",
    "    # high p-value suggests that the populations have equal variances\n",
    "    if pval < 0.05:\n",
    "        variance = False\n",
    "        print('False')\n",
    "    else:\n",
    "        variance = True\n",
    "        print('True')\n",
    "\n",
    " \n",
    "    alpha = 0.05\n",
    "\n",
    "    t_stat, p_val = stats.ttest_ind(subset_churn.tenure, subset_notchurn.tenure, equal_var = variance,random_state=123)\n",
    "    #t_stat = t_stat.round(4)\n",
    "    #p_val = p_val.round(4)\n",
    "    print(f' t-stat:{t_stat}')\n",
    "    print(f' p-value:{p_val}')\n"
   ]
  },
  {
   "cell_type": "code",
   "execution_count": null,
   "id": "0b1e1f00",
   "metadata": {
    "scrolled": false
   },
   "outputs": [],
   "source": [
    "get_ttest_tenure(train)"
   ]
  },
  {
   "cell_type": "markdown",
   "id": "6290a6f1",
   "metadata": {},
   "source": [
    "### Since we reject the null hypothesis there appears to be a significant difference in the tenure means of customers who churn and those who do not churn"
   ]
  },
  {
   "cell_type": "markdown",
   "id": "f35d7b57",
   "metadata": {},
   "source": [
    "# Does the contract type of customer affect churn?"
   ]
  },
  {
   "cell_type": "code",
   "execution_count": null,
   "id": "d9f918eb",
   "metadata": {
    "scrolled": false
   },
   "outputs": [],
   "source": [
    "plt.title('Contract Type vs Churn')\n",
    "sns.countplot(x=train.contract_type, data=train, hue = 'churn',palette='cubehelix');\n"
   ]
  },
  {
   "cell_type": "code",
   "execution_count": null,
   "id": "9e7318af",
   "metadata": {},
   "outputs": [],
   "source": [
    "def get_plot_contract(df):\n",
    "    plt.title('Contract Type vs Churn')\n",
    "    sns.countplot(x=train.contract_type, data=train, hue = 'churn',palette='cubehelix');\n",
    "get_plot_contract(train)"
   ]
  },
  {
   "cell_type": "code",
   "execution_count": null,
   "id": "f4a6d39b",
   "metadata": {
    "scrolled": true
   },
   "outputs": [],
   "source": [
    "plt.title('Contract Type vs Churn')\n",
    "sns.histplot(data = train, x=train.contract_type, stat=\"percent\", hue = 'churn', multiple = 'dodge');"
   ]
  },
  {
   "cell_type": "code",
   "execution_count": null,
   "id": "4cdb0220",
   "metadata": {},
   "outputs": [],
   "source": []
  },
  {
   "cell_type": "code",
   "execution_count": null,
   "id": "8415fe17",
   "metadata": {
    "scrolled": false
   },
   "outputs": [],
   "source": [
    "train.contract_type.value_counts()"
   ]
  },
  {
   "cell_type": "code",
   "execution_count": null,
   "id": "ab809c82",
   "metadata": {},
   "outputs": [],
   "source": [
    "pd.crosstab(train.contract_type, train.churn)"
   ]
  },
  {
   "cell_type": "markdown",
   "id": "88b24304",
   "metadata": {},
   "source": [
    "### Stats TEST Chi2"
   ]
  },
  {
   "cell_type": "code",
   "execution_count": null,
   "id": "cf935fa7",
   "metadata": {},
   "outputs": [],
   "source": [
    "# Chi-Square test to compare two categorical variables (Contract type vs Churn)\n",
    "\n",
    "alpha = 0.05\n",
    "\n",
    "# Setup a crosstab of observed \n",
    "observed = pd.crosstab(train.contract_type, train.churn)\n",
    "\n",
    "chi2, p, degf, expected = stats.chi2_contingency(observed)\n",
    "\n",
    "if p < alpha:\n",
    "    print(\"Reject the null hypothesis\")\n",
    "    \n",
    "else:\n",
    "    print(\"Fail to reject the null\")\n",
    "    print(\"Insufficient evidence to reject the null\")\n",
    "p, chi2"
   ]
  },
  {
   "cell_type": "code",
   "execution_count": null,
   "id": "39fa5747",
   "metadata": {},
   "outputs": [],
   "source": [
    "def get_chi2_contract(df):    \n",
    "    # Chi-Square test to compare two categorical variables (contract type, churn)\n",
    "    # Set alpha to 0.05\n",
    "    alpha = 0.05\n",
    "\n",
    "    # Setup a crosstab of observed \n",
    "    observed = pd.crosstab(df.contract_type, df.churn)\n",
    "    \n",
    "    # Run chi-square test\n",
    "    chi2, p, degf, expected = stats.chi2_contingency(observed)\n",
    "    \n",
    "    # Round and Print Results\n",
    "    chi2 = chi2.round(4)\n",
    "    p = p.round(4)\n",
    "    print(f' Chi-Square:{chi2}')\n",
    "    print(f' p-value:{p}')\n",
    "    \n",
    "get_chi2_contract(train)"
   ]
  },
  {
   "cell_type": "markdown",
   "id": "d883d646",
   "metadata": {},
   "source": [
    "### There appears to be a significant association between contract type and churn"
   ]
  },
  {
   "cell_type": "markdown",
   "id": "511e7f0a",
   "metadata": {},
   "source": [
    "# Do Senior Citizens pay more monthly charges that non Senior Citizens?"
   ]
  },
  {
   "cell_type": "code",
   "execution_count": null,
   "id": "9d067b2c",
   "metadata": {
    "scrolled": true
   },
   "outputs": [],
   "source": [
    "plt.title('High monthly charges Drive Senior Citizens to Churn')\n",
    "sns.barplot(data= train, x='senior_citizen', y='monthly_charges', hue = 'churn')"
   ]
  },
  {
   "cell_type": "markdown",
   "id": "80f3ed35",
   "metadata": {},
   "source": [
    "Hypothesis for Senior citizens and Monthly charges\n",
    "Do customers who are consider seniors pay more monthly charges than customers who are not seniors? \n",
    "\n",
    "Variables:\n",
    "* seniors (discrete)\n",
    "* month charges(continuous)\n",
    "\n",
    "Test: two sample, one tail, scipy.stats.ttest_ind\n",
    "\n",
    "$H_0$: The mean monthly charges for senior citizens <= to the mean monthly charges of non senior citizens.\n",
    "\n",
    "$H_a$: The mean monthly charges for senior citizens <= to the mean monthly charges of non senior citizens."
   ]
  },
  {
   "cell_type": "code",
   "execution_count": null,
   "id": "0f4504b6",
   "metadata": {},
   "outputs": [],
   "source": [
    "total_charges_seniors = train[train.senior_citizen==1].total_charges\n",
    "total_charges_nonseniors = train[train.senior_citizen==0].total_charges"
   ]
  },
  {
   "cell_type": "code",
   "execution_count": null,
   "id": "82d4e4e7",
   "metadata": {},
   "outputs": [],
   "source": [
    "total_charges_seniors.var(),total_charges_nonseniors.var()"
   ]
  },
  {
   "cell_type": "code",
   "execution_count": null,
   "id": "513d0452",
   "metadata": {},
   "outputs": [],
   "source": [
    "# # stats Levene test - returns p value. small p-value means unequal variances\n",
    "stat, pval = stats.levene(total_charges_seniors, total_charges_nonseniors)\n",
    "\n",
    "# high p-value suggests that the populations have equal variances\n",
    "\n",
    "if pval < 0.05:\n",
    "    print('inequal variance ==> set equal_var to False')\n",
    "pval"
   ]
  },
  {
   "cell_type": "code",
   "execution_count": null,
   "id": "215619bd",
   "metadata": {
    "scrolled": true
   },
   "outputs": [],
   "source": [
    "alpha = 0.05\n",
    "\n",
    "t_stat, p_val = stats.ttest_ind(total_charges_seniors, total_charges_nonseniors, equal_var = False)\n",
    "print(f' t-stat:{stat}')\n",
    "print(f' p-value:{pval}')\n",
    "\n",
    "if pval/2 < 0.05:\n",
    "    print('we can reject H0 ')\n",
    "    \n",
    "print(f'''\n",
    "Because the p-value ({p_val}) is less than alpha value ({alpha}), we reject the null hypothesis''')"
   ]
  },
  {
   "cell_type": "markdown",
   "id": "318d57c1",
   "metadata": {},
   "source": [
    "### Summary:\n",
    "### Since we reject the null hypothesis, there seems to be significant findings that senior citizens on average do pay more Monthly Charges than non senior citizens.m"
   ]
  },
  {
   "cell_type": "markdown",
   "id": "10003329",
   "metadata": {},
   "source": [
    "# Does gender influence churn?"
   ]
  },
  {
   "cell_type": "code",
   "execution_count": null,
   "id": "28340217",
   "metadata": {
    "scrolled": true
   },
   "outputs": [],
   "source": [
    "plt.title('Gender Vs Churn')\n",
    "sns.countplot(x=train.gender, data=train, hue = 'churn', palette='cubehelix')\n",
    "\n",
    "plt.legend()\n",
    "plt.show()"
   ]
  },
  {
   "cell_type": "code",
   "execution_count": null,
   "id": "9f2148de",
   "metadata": {},
   "outputs": [],
   "source": [
    "def get_plot_gender(df):   \n",
    "    plt.title('Gender Vs Churn')\n",
    "    sns.countplot(x=df.gender, data=df, hue = 'churn', palette='cubehelix')\n",
    "\n",
    "    plt.legend()\n",
    "    plt.show();\n",
    "get_plot_gender(train)"
   ]
  },
  {
   "cell_type": "markdown",
   "id": "c6069fcd",
   "metadata": {},
   "source": [
    "There does not seem to be a relationhip between churn and gender"
   ]
  },
  {
   "cell_type": "markdown",
   "id": "d4fecec0",
   "metadata": {},
   "source": [
    "### Stats Test Chi2"
   ]
  },
  {
   "cell_type": "code",
   "execution_count": null,
   "id": "455b0b9b",
   "metadata": {
    "scrolled": true
   },
   "outputs": [],
   "source": [
    "'''\n",
    "Hypothesis \n",
    "Gender vs churn\n",
    "\n",
    "Variables:\n",
    "* gender(discrete)\n",
    "* churn(discrete)\n",
    "\n",
    "Test: \n",
    "\n",
    "$H_0$: There is **no** relationship between a customers and tenure.\n",
    "\n",
    "$H_a$: There is a relationship between a customers and tenure.\n",
    "'''\n",
    "    \n",
    "print (pd.crosstab(train.contract_type, train.churn))\n",
    "\n",
    "# Chi-Square test to compare two categorical variables (Sex and Survival)\n",
    "\n",
    "\n",
    "alpha = 0.05\n",
    "\n",
    "# Setup a crosstab of observed survival to pclass\n",
    "observed = pd.crosstab(train.gender, train.churn)\n",
    "\n",
    "chi2, p, degf, expected = stats.chi2_contingency(observed)\n",
    "\n",
    "if p < alpha:\n",
    "    print(\"Reject the null hypothesis\")\n",
    "    \n",
    "else:\n",
    "    print(\"Fail to reject the null\")\n",
    "    print(\"Insufficient evidence to reject the null\")\n",
    "p,chi2"
   ]
  },
  {
   "cell_type": "code",
   "execution_count": null,
   "id": "75a439fa",
   "metadata": {},
   "outputs": [],
   "source": [
    "def get_chi2_gender(df):    \n",
    "    # Chi-Square test to compare two categorical variables (gender, churn)\n",
    "    # Set alpha to 0.05\n",
    "    alpha = 0.05\n",
    "\n",
    "    # Setup a crosstab of observed \n",
    "    observed = pd.crosstab(df.gender, df.churn)\n",
    "    \n",
    "    # Run chi-square test\n",
    "    chi2, p, degf, expected = stats.chi2_contingency(observed)\n",
    "    \n",
    "    # Round and Print Results\n",
    "    chi2 = chi2.round(4)\n",
    "    p = p.round(4)\n",
    "    print(f' Chi-Square:{chi2}')\n",
    "    print(f' p-value:{p}')\n",
    "    \n",
    "get_chi2_gender(train)"
   ]
  },
  {
   "cell_type": "markdown",
   "id": "a4bfc895",
   "metadata": {},
   "source": [
    "WE fail to reject the null hypothesis so threre is no association between gender and churn"
   ]
  },
  {
   "cell_type": "markdown",
   "id": "f68839de",
   "metadata": {},
   "source": [
    "### It does not appear like gender has and influence on churn"
   ]
  },
  {
   "cell_type": "markdown",
   "id": "12ab3728",
   "metadata": {},
   "source": [
    "# Does partner affect the churn?"
   ]
  },
  {
   "cell_type": "code",
   "execution_count": null,
   "id": "1c8b68be",
   "metadata": {
    "scrolled": false
   },
   "outputs": [],
   "source": [
    "plt.title('Partner Vs Churn')\n",
    "sns.countplot(x=train.partner, data=train, hue = 'churn')\n",
    "\n",
    "plt.legend()\n",
    "plt.show()"
   ]
  },
  {
   "cell_type": "code",
   "execution_count": null,
   "id": "2a0b74dc",
   "metadata": {},
   "outputs": [],
   "source": [
    "def get_plot_partner(df):    \n",
    "    plt.title('Partner Vs Churn')\n",
    "    sns.countplot(x=df.partner, data=df, hue = 'churn', palette='cubehelix')\n",
    "\n",
    "    plt.legend()\n",
    "    plt.show();\n",
    "    \n",
    "get_plot_partner(train)"
   ]
  },
  {
   "cell_type": "markdown",
   "id": "eabd5a56",
   "metadata": {},
   "source": [
    "### There seems to be a relationship between partner and churn"
   ]
  },
  {
   "cell_type": "markdown",
   "id": "d7bf0211",
   "metadata": {},
   "source": [
    "# Stats Test Chi2"
   ]
  },
  {
   "cell_type": "code",
   "execution_count": null,
   "id": "37a8db33",
   "metadata": {
    "scrolled": true
   },
   "outputs": [],
   "source": [
    "'''\n",
    "Hypothesis \n",
    "partner vs churn\n",
    "\n",
    "Variables:\n",
    "* partner(discrete)\n",
    "* churn(discrete)\n",
    "\n",
    "Test: \n",
    "\n",
    "$H_0$: There is **no** relationship between a customers and partner\n",
    "\n",
    "$H_a$: There is a relationship between a customers and partner.\n",
    "'''\n",
    "    \n",
    "print (pd.crosstab(train.partner, train.churn))\n",
    "\n",
    "# Chi-Square test to compare two categorical variables (Sex and Survival)\n",
    "\n",
    "\n",
    "alpha = 0.05\n",
    "\n",
    "# Setup a crosstab of observed survival to pclass\n",
    "observed = pd.crosstab(train.partner, train.churn)\n",
    "\n",
    "chi2, p, degf, expected = stats.chi2_contingency(observed)\n",
    "\n",
    "if p < alpha:\n",
    "    print(\"Reject the null hypothesis\")\n",
    "    \n",
    "else:\n",
    "    print(\"Fail to reject the null\")\n",
    "    print(\"Insufficient evidence to reject the null\")\n",
    "p"
   ]
  },
  {
   "cell_type": "code",
   "execution_count": null,
   "id": "ca4752ea",
   "metadata": {},
   "outputs": [],
   "source": [
    "def get_chi2_partner(df):    \n",
    "    # Chi-Square test to compare two categorical variables (gender, churn)\n",
    "    # Set alpha to 0.05\n",
    "    alpha = 0.05\n",
    "\n",
    "    # Setup a crosstab of observed \n",
    "    observed = pd.crosstab(df.partner, df.churn)\n",
    "    \n",
    "    # Run chi-square test\n",
    "    chi2, p, degf, expected = stats.chi2_contingency(observed)\n",
    "    \n",
    "    # Round and Print Results\n",
    "    chi2 = chi2.round(4)\n",
    "    p = p.round(4)\n",
    "    print(f' Chi-Square:{chi2}')\n",
    "    print(f' p-value:{p}')\n",
    "    \n",
    "get_chi2_partner(train)"
   ]
  },
  {
   "cell_type": "markdown",
   "id": "62c702d1",
   "metadata": {},
   "source": [
    "### WE reject the null hypothesis so there is an association between partner anc churn"
   ]
  },
  {
   "cell_type": "markdown",
   "id": "7d46c485",
   "metadata": {},
   "source": [
    "# Exploration Summary\n",
    "* Monthly Charges is a driver of churn\n",
    "* Senior Citizen status is a driver of churn\n",
    "* Tenure is a driver of churn\n",
    "* Contract type is a driver of churn\n",
    "* Partner is a driver of churn\n",
    "* Gender is not a driver of churn\n",
    "\n"
   ]
  },
  {
   "cell_type": "markdown",
   "id": "3cbe9570",
   "metadata": {},
   "source": [
    "# Features that will be included in my model"
   ]
  },
  {
   "cell_type": "markdown",
   "id": "ee5f55ae",
   "metadata": {},
   "source": [
    "* Monthly charges  has a significant statistical relationship to churn\n",
    "* Senior Citizen  has a significant statistical relationship to churn\n",
    "* Tenure  has a significant statistical relationship to churn\n",
    "* Contract type has a significan statistical relationship to churn\n",
    "* Partner  has a significant statistical relationship to churn"
   ]
  },
  {
   "cell_type": "markdown",
   "id": "8c46556c",
   "metadata": {},
   "source": [
    "# Features that will not be included in my model"
   ]
  },
  {
   "cell_type": "markdown",
   "id": "437d2258",
   "metadata": {},
   "source": [
    "* Gender did not have a statistical significant relationship to churn.\n",
    "* Other features have unknow significance to churn at the moment\n",
    "    * given more time to I would determined significance to churn."
   ]
  },
  {
   "cell_type": "markdown",
   "id": "dcef8831",
   "metadata": {},
   "source": [
    "# Modeling"
   ]
  },
  {
   "cell_type": "markdown",
   "id": "e9949577",
   "metadata": {},
   "source": [
    "* Accuracy is the metric use in the models\n",
    "* Churn customers makeup 26.5% of the data \n",
    "* by guessing non-churn for every customer one could achieve an accuracy of 73.5%\n",
    "* 73.5% will be the baseline accuracy I use for this project \n",
    "\n",
    "* I will be evaluating models developed using four different model types and various hyperparameter configurations\n",
    "\n",
    "* Models will be evaluated on train and validate data\n",
    "\n",
    "* The model that performs the best will then be evaluated on test data"
   ]
  },
  {
   "cell_type": "code",
   "execution_count": null,
   "id": "403b146d",
   "metadata": {},
   "outputs": [],
   "source": [
    "train.columns.to_list()"
   ]
  },
  {
   "cell_type": "code",
   "execution_count": null,
   "id": "7a07c034",
   "metadata": {},
   "outputs": [],
   "source": [
    "def model_prep(train,validate,test):\n",
    "    \n",
    "        # drop unused columns \n",
    "        features = ['monthly_charges','senior_citizen','tenure','partner_No','partner_Yes','churn','contract_type_Month-to-month','contract_type_One year','contract_type_Two year']\n",
    "\n",
    "        train = train[features]\n",
    "        validate = validate[features]\n",
    "        test = test[features]\n",
    "        \n",
    "       \n",
    "\n",
    "        \n",
    "        #seperate target\n",
    "        \n",
    "         \n",
    "        x_train = train.drop(columns=['churn'])\n",
    "        y_train = train.churn\n",
    "\n",
    "        x_validate = validate.drop(columns=['churn'])\n",
    "        y_validate = validate.churn\n",
    "\n",
    "        x_test = test.drop(columns=['churn'])\n",
    "        y_test = test.churn\n",
    "        \n",
    "        # Convert binary categorical targer variable to numeric\n",
    "        y_train.churn= train.churn.map({'Yes': 1, 'No': 0})\n",
    "        y_validate.churn = validate.churn.map({'Yes': 1, 'No': 0})\n",
    "        y_test.churn = test.churn.map({'Yes': 1, 'No': 0})\n",
    "        \n",
    "       \n",
    "\n",
    "        return x_train,y_train,x_validate,y_validate, x_test, y_test"
   ]
  },
  {
   "cell_type": "code",
   "execution_count": null,
   "id": "7594d414",
   "metadata": {
    "scrolled": true
   },
   "outputs": [],
   "source": [
    "# prep data for modeling\n",
    "x_train,y_train,x_validate,y_validate, x_test, y_test = model_prep(train,validate,test)"
   ]
  },
  {
   "cell_type": "code",
   "execution_count": null,
   "id": "eadf7a4c",
   "metadata": {
    "scrolled": true
   },
   "outputs": [],
   "source": [
    "x_train.shape, x_validate.shape, x_test.shape"
   ]
  },
  {
   "cell_type": "markdown",
   "id": "1b72e06c",
   "metadata": {},
   "source": [
    "# Decision Tree"
   ]
  },
  {
   "cell_type": "code",
   "execution_count": null,
   "id": "685872be",
   "metadata": {},
   "outputs": [],
   "source": [
    "DecisionTreeClassifier?\n"
   ]
  },
  {
   "cell_type": "code",
   "execution_count": null,
   "id": "17cb0843",
   "metadata": {
    "scrolled": false
   },
   "outputs": [],
   "source": [
    "\n",
    "metrics = []\n",
    "\n",
    "for i in range(1, 25):\n",
    "    # Make the model\n",
    "    tree = DecisionTreeClassifier(max_depth=i, random_state=123)\n",
    "\n",
    "    # Fit the model (on train and only train)\n",
    "    tree = tree.fit(x_train, y_train)\n",
    "\n",
    "    # Use the model\n",
    "    # We'll evaluate the model's performance on train, first\n",
    "    in_sample_accuracy = tree.score(x_train, y_train)\n",
    "    \n",
    "    out_of_sample_accuracy = tree.score(x_validate, y_validate)\n",
    "\n",
    "    output = {\n",
    "        \"i\": i,\n",
    "        \"train_accuracy\": in_sample_accuracy,\n",
    "        \"validate_accuracy\": out_of_sample_accuracy\n",
    "    }\n",
    "    \n",
    "    metrics.append(output)\n",
    "    \n",
    "df_2 = pd.DataFrame(metrics)\n",
    "df_2[\"difference\"] = df_2.train_accuracy - df_2.validate_accuracy\n",
    "df_2"
   ]
  },
  {
   "cell_type": "code",
   "execution_count": null,
   "id": "e4cd00b6",
   "metadata": {
    "scrolled": true
   },
   "outputs": [],
   "source": [
    "df_2[df_2.train_accuracy > .77]"
   ]
  },
  {
   "cell_type": "markdown",
   "id": "2bd0e09f",
   "metadata": {},
   "source": [
    "### Decision Tree Best Model"
   ]
  },
  {
   "cell_type": "code",
   "execution_count": null,
   "id": "f8a65e58",
   "metadata": {},
   "outputs": [],
   "source": [
    "# for decision tree the best model has  max_depth of 3.\n",
    "# 3\t0.789942\t0.776659\t0.01328\n",
    "tree = DecisionTreeClassifier(max_depth=3, random_state=123)\n",
    "\n",
    "# Fit the model (on train and only train)\n",
    "tree = tree.fit(x_train, y_train)"
   ]
  },
  {
   "cell_type": "code",
   "execution_count": null,
   "id": "c48d505c",
   "metadata": {},
   "outputs": [],
   "source": [
    "Accuracy of Decision Tree on train data is 0.789942\n",
    "Accuracy of Decision Tree on validate data is 0.776659"
   ]
  },
  {
   "cell_type": "code",
   "execution_count": null,
   "id": "7d47cc29",
   "metadata": {},
   "outputs": [],
   "source": [
    "Decision Tree accuracy is about "
   ]
  },
  {
   "cell_type": "code",
   "execution_count": null,
   "id": "7276dff4",
   "metadata": {},
   "outputs": [],
   "source": [
    "def get_tree_model(x_train,y_train,x_validate,y_validate):\n",
    "    ''' This function takes in train data and validate data and returns models accuracy score.\n",
    "        Train data  is used tofit Decision Tree Model. Both train and validate data is used\n",
    "        to return the accuracy score of the Decision Tree Model\n",
    "    '''\n",
    "    \n",
    "    tree = DecisionTreeClassifier(max_depth=3, random_state=123)\n",
    "    tree = tree.fit(x_train, y_train)\n",
    "    print(f\"Accuracy of Decision Tree on train data is {tree.score(x_train, y_train)}\")\n",
    "    print(f\"Accuracy of Decision Tree on validate data is {tree.score(x_validate, y_validate)}\")\n",
    "\n",
    "get_tree_model(x_train,y_train,x_validate,y_validate)"
   ]
  },
  {
   "cell_type": "code",
   "execution_count": null,
   "id": "e637399c",
   "metadata": {},
   "outputs": [],
   "source": []
  },
  {
   "cell_type": "markdown",
   "id": "8e9cd768",
   "metadata": {},
   "source": [
    "# Random Forest"
   ]
  },
  {
   "cell_type": "code",
   "execution_count": null,
   "id": "aa2c1849",
   "metadata": {
    "scrolled": false
   },
   "outputs": [],
   "source": [
    "metrics=[]\n",
    "for h in range(10,0,-1):\n",
    "   \n",
    "    print(f'max depth {h}')\n",
    "    \n",
    "    for i in range(1, 21):\n",
    "  \n",
    "    # Make the model\n",
    "        random_forest = RandomForestClassifier(max_depth=h, min_samples_leaf = i , random_state=123)\n",
    "    \n",
    "    # Fit the model (on train and only train)\n",
    "        random_forest.fit(x_train, y_train)\n",
    "        \n",
    "         # Use the model\n",
    "    # We'll evaluate the model's performance on train, first\n",
    "        in_sample_accuracy = random_forest.score(x_train, y_train)\n",
    "\n",
    "    # Use the model\n",
    "    # We'll evaluate the model's performance on train, first\n",
    "        y_pred = random_forest.predict(x_train)\n",
    "        \n",
    "        output = {\n",
    "        \"max_depth\": h,\n",
    "        \"min_samples_leaf\": i,\n",
    "        \"train_accuracy\": in_sample_accuracy,\n",
    "        #\"validate_accuracy\": y_pred\n",
    "    }\n",
    "\n",
    "        metrics.append(output)\n",
    "        \n",
    "        df = pd.DataFrame(metrics)\n",
    "df\n",
    "  \n",
    " "
   ]
  },
  {
   "cell_type": "code",
   "execution_count": null,
   "id": "41c1c956",
   "metadata": {},
   "outputs": [],
   "source": [
    "df[df.train_accuracy >.85]"
   ]
  },
  {
   "cell_type": "code",
   "execution_count": null,
   "id": "1069bd1e",
   "metadata": {
    "scrolled": true
   },
   "outputs": [],
   "source": [
    "metrics=[]\n",
    "for h in range(10,0,-1):\n",
    "   \n",
    "    print(f'max depth {h}')\n",
    "    \n",
    "    for i in range(1, 21):\n",
    "  \n",
    "    # Make the model\n",
    "        random_forest = RandomForestClassifier(max_depth=h, min_samples_leaf = i , random_state=123)\n",
    "    \n",
    "    # Fit the model (on train and only train)\n",
    "        random_forest = random_forest.fit(x_train, y_train)\n",
    "        \n",
    "         # Use the model\n",
    "    # We'll evaluate the model's performance on train, first\n",
    "        in_sample_accuracy = random_forest.score(x_train, y_train)\n",
    "        \n",
    "    \n",
    "        out_of_sample_accuracy = random_forest.score(x_validate, y_validate)\n",
    "\n",
    "\n",
    "    # Use the model\n",
    "    # We'll evaluate the model's performance on train, first\n",
    "        y_pred = random_forest.predict(x_train)\n",
    "        \n",
    "        output = {\n",
    "        \"max_depth\": h,\n",
    "        \"min_samples_leaf\": i,\n",
    "        \"train_accuracy\": in_sample_accuracy,\n",
    "         \"validate_accuracy\": out_of_sample_accuracy   \n",
    "      \n",
    "    }\n",
    "\n",
    "        metrics.append(output)\n",
    "        \n",
    "        df_2 = pd.DataFrame(metrics)\n",
    "\n",
    "\n",
    "\n",
    "        df_2[\"difference\"] = df_2.train_accuracy - df_2.validate_accuracy\n",
    "df_2"
   ]
  },
  {
   "cell_type": "code",
   "execution_count": null,
   "id": "ff27a052",
   "metadata": {},
   "outputs": [],
   "source": [
    "df_2[df_2.difference<.01]"
   ]
  },
  {
   "cell_type": "code",
   "execution_count": null,
   "id": "d8beedc9",
   "metadata": {
    "scrolled": true
   },
   "outputs": [],
   "source": [
    "df_2[df_2.validate_accuracy>.784]"
   ]
  },
  {
   "cell_type": "markdown",
   "id": "60a50375",
   "metadata": {},
   "source": [
    "### Best Model Random Forest"
   ]
  },
  {
   "cell_type": "code",
   "execution_count": null,
   "id": "62b43d84",
   "metadata": {},
   "outputs": [],
   "source": [
    "#Random Forest best model validate on Accuracy data0.020737\n",
    "# Make the model 8\t9\t0.821438\t0.784360\t0.037077\n",
    "random_forest = RandomForestClassifier(max_depth=8, min_samples_leaf = 9 , random_state=123)\n",
    "    \n",
    "# Fit the model (on train and only train)\n",
    "random_forest = random_forest.fit(x_train, y_train)"
   ]
  },
  {
   "cell_type": "code",
   "execution_count": null,
   "id": "f40bb51e",
   "metadata": {},
   "outputs": [],
   "source": [
    "def get_random_forest_model(x_train,y_train,x_validate,y_validate):\n",
    "    ''' This function takes in train data and validate data and returns models accuracy score.\n",
    "        Train data  is used to fit Random Forest Model. Both train and validate data is used\n",
    "        to return the accuracy score of the Random Forest Model\n",
    "    '''\n",
    "    \n",
    "    # Set Random Forest Model parameters\n",
    "    random_forest = RandomForestClassifier(max_depth=9, min_samples_leaf = 1 , random_state=123)\n",
    "   \n",
    "    # Use train data to fit Random Forest model\n",
    "    random_forest = random_forest.fit(x_train, y_train)\n",
    "    \n",
    "    print(f\"Accuracy of Decision Tree on train data is {random_forest.score(x_train, y_train)}\")\n",
    "    print(f\"Accuracy of Decision Tree on validate data is {random_forest.score(x_validate, y_validate)}\")\n",
    "\n",
    "get_random_forest_model(x_train,y_train,x_validate,y_validate)"
   ]
  },
  {
   "cell_type": "markdown",
   "id": "411f971f",
   "metadata": {},
   "source": [
    "# KNN"
   ]
  },
  {
   "cell_type": "code",
   "execution_count": null,
   "id": "d313e0a5",
   "metadata": {
    "scrolled": true
   },
   "outputs": [],
   "source": [
    "\n",
    "metrics = []\n",
    "\n",
    "for i in range(1,30):\n",
    "    KNN = KNeighborsClassifier(n_neighbors=i, algorithm='brute')\n",
    "    KNN.fit(x_train, y_train)\n",
    "    \n",
    "    model_accuracies = {\n",
    "        'neighbor': i,\n",
    "        'train_score': KNN.score(x_train, y_train),\n",
    "        'validate_score': KNN.score(x_validate, y_validate)}\n",
    "    \n",
    "    metrics.append(model_accuracies)\n",
    "    df = pd.DataFrame(metrics)\n",
    "\n",
    "\n",
    "df"
   ]
  },
  {
   "cell_type": "code",
   "execution_count": null,
   "id": "99566951",
   "metadata": {
    "scrolled": true
   },
   "outputs": [],
   "source": [
    "df.train_score-df.validate_score"
   ]
  },
  {
   "cell_type": "markdown",
   "id": "6ed7d58e",
   "metadata": {},
   "source": [
    "# Best Model KNN"
   ]
  },
  {
   "cell_type": "code",
   "execution_count": null,
   "id": "3edb9205",
   "metadata": {},
   "outputs": [],
   "source": [
    "#6\t0.82\t0.77 validate accuracy\n",
    "#10 \t11\t0.813056\t0.773697\n",
    "\n",
    "KNN = KNeighborsClassifier(n_neighbors=11)\n",
    "KNN.fit(x_train, y_train)\n",
    "\n",
    "# 24\t25\t0.801626\t0.780213\n",
    "KNN = KNeighborsClassifier(n_neighbors=25, algorithm='brute')\n",
    "KNN.fit(x_train, y_train)\n"
   ]
  },
  {
   "cell_type": "code",
   "execution_count": null,
   "id": "52e79402",
   "metadata": {},
   "outputs": [],
   "source": [
    "def get_knn_model(x_train,y_train,x_validate,y_validate):\n",
    "    ''' This function takes in train data and validate data and returns the models accuracy score.\n",
    "        Train data  is used to fit the KNN Model. Both train and validate data is used\n",
    "        to return the accuracy score of for the KNN Model\n",
    "    '''\n",
    "    \n",
    "    # Set Random Forest Model parameters\n",
    "    KNN = KNeighborsClassifier(n_neighbors=25, algorithm='brute')\n",
    "   \n",
    "    # Use train data to fit Random Forest model\n",
    "    KNN.fit(x_train, y_train)\n",
    "    \n",
    "    print(f'Accuracy of Decision Tree on train data is {KNN.score(x_train, y_train)} about {round(KNN.score(x_train, y_train)*100)}%')\n",
    "    print(f'Accuracy of Decision Tree on validate data is {KNN.score(x_validate, y_validate)} about {round(KNN.score(x_validate, y_validate)*100)}%')\n",
    "\n",
    "get_knn_model(x_train,y_train,x_validate,y_validate)"
   ]
  },
  {
   "cell_type": "code",
   "execution_count": null,
   "id": "806ff869",
   "metadata": {},
   "outputs": [],
   "source": []
  },
  {
   "cell_type": "markdown",
   "id": "369c5b38",
   "metadata": {},
   "source": [
    "* "
   ]
  },
  {
   "cell_type": "markdown",
   "id": "1467d716",
   "metadata": {},
   "source": [
    "# Logistic Regression"
   ]
  },
  {
   "cell_type": "code",
   "execution_count": null,
   "id": "1d58f3d1",
   "metadata": {},
   "outputs": [],
   "source": [
    "# Define the logistic regression model\n",
    "logit = LogisticRegression(C=1, random_state=123)"
   ]
  },
  {
   "cell_type": "code",
   "execution_count": null,
   "id": "0fb26b9b",
   "metadata": {},
   "outputs": [],
   "source": [
    "#  fit the model on train data \n",
    "logit.fit(x_train, y_train)"
   ]
  },
  {
   "cell_type": "code",
   "execution_count": null,
   "id": "e7f740a9",
   "metadata": {},
   "outputs": [],
   "source": [
    "y_pred = logit.predict(x_train)\n",
    "\n",
    "# classification report for Model 2 using train data\n",
    "print(classification_report(y_train, y_pred))\n"
   ]
  },
  {
   "cell_type": "code",
   "execution_count": null,
   "id": "fb941c88",
   "metadata": {},
   "outputs": [],
   "source": [
    "y_p = logit.predict(x_validate)\n",
    "\n",
    "# classification report for Model 2 using train data\n",
    "print(classification_report(y_validate, y_p))"
   ]
  },
  {
   "cell_type": "code",
   "execution_count": null,
   "id": "bf315736",
   "metadata": {},
   "outputs": [],
   "source": [
    "# best model .78  on validate,\n",
    "logit = LogisticRegression(C=1, random_state=123)"
   ]
  },
  {
   "cell_type": "code",
   "execution_count": null,
   "id": "4e9a53f2",
   "metadata": {},
   "outputs": [],
   "source": [
    "def get_logit_model(x_train,y_train,x_validate,y_validate):\n",
    "    ''' This function takes in train data and validate data and returns the models accuracy score.\n",
    "        Train data  is used to fit the Logistic Regression Model. Both train and validate data is used\n",
    "        to return the accuracy score of for the Logistic Regression Model\n",
    "    '''\n",
    "    \n",
    "    # Define the logistic regression model\n",
    "    logit = LogisticRegression(C=1,random_state=123)\n",
    "   \n",
    "   \n",
    "    # Use train data to fit Logistic Regression model\n",
    "    logit.fit(x_train, y_train)\n",
    "    \n",
    "    diff = logit.score(x_train, y_train)-logit.score(x_validate, y_validate)\n",
    "    \n",
    "    print(f'Accuracy of Decision Tree on train data is {logit.score(x_train, y_train)} about {int(round(logit.score(x_train, y_train)*100,2)}%')\n",
    "    print(f'Accuracy of Decision Tree on validate data is {logit.score(x_validate, y_validate)} about {round(logit.score(x_validate, y_validate)*100,2)}%')\n",
    "    print(f'Difference: {round(diff,4)}')\n",
    "    \n",
    "get_logit_model(x_train,y_train,x_validate,y_validate)"
   ]
  },
  {
   "cell_type": "code",
   "execution_count": null,
   "id": "9a2faadc",
   "metadata": {},
   "outputs": [],
   "source": [
    "# Define the logistic regression model\n",
    "logit = LogisticRegression(C=1, solver='s',random_state=123)\n",
    "#  fit the model on train data usingfeatures \n",
    "logit.fit(x_train, y_train)\n",
    "\n",
    "y_pred = logit.predict(x_train)\n",
    "\n",
    "# classification report for Model 2 using train data\n",
    "print(classification_report(y_train, y_pred))\n",
    "\n",
    "y_p = logit.predict(x_validate)\n",
    "\n",
    "# classification report for Model 2 using train data\n",
    "print(classification_report(y_validate, y_p))"
   ]
  },
  {
   "cell_type": "code",
   "execution_count": null,
   "id": "08a72540",
   "metadata": {},
   "outputs": [],
   "source": []
  },
  {
   "cell_type": "code",
   "execution_count": null,
   "id": "f7a5ffd7",
   "metadata": {},
   "outputs": [],
   "source": []
  },
  {
   "cell_type": "code",
   "execution_count": null,
   "id": "d18bce29",
   "metadata": {},
   "outputs": [],
   "source": []
  }
 ],
 "metadata": {
  "kernelspec": {
   "display_name": "Python 3 (ipykernel)",
   "language": "python",
   "name": "python3"
  },
  "language_info": {
   "codemirror_mode": {
    "name": "ipython",
    "version": 3
   },
   "file_extension": ".py",
   "mimetype": "text/x-python",
   "name": "python",
   "nbconvert_exporter": "python",
   "pygments_lexer": "ipython3",
   "version": "3.9.12"
  }
 },
 "nbformat": 4,
 "nbformat_minor": 5
}
