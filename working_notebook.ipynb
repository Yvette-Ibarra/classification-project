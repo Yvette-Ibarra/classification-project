{
 "cells": [
  {
   "cell_type": "markdown",
   "id": "582dedf2",
   "metadata": {},
   "source": [
    "# $Telco Project Data$"
   ]
  },
  {
   "cell_type": "markdown",
   "id": "b6011622",
   "metadata": {},
   "source": [
    "### Imports"
   ]
  },
  {
   "cell_type": "code",
   "execution_count": 100,
   "id": "943cd6b9",
   "metadata": {},
   "outputs": [],
   "source": [
    "import pandas as pd\n",
    "import numpy as np\n",
    "import scipy.stats as stats\n",
    "import matplotlib.pyplot as plt\n",
    "import seaborn as sns\n",
    "\n",
    "from sklearn.tree import DecisionTreeClassifier, plot_tree\n",
    "from sklearn.ensemble import RandomForestClassifier\n",
    "from sklearn.metrics import classification_report\n",
    "from sklearn.metrics import confusion_matrix\n",
    "from sklearn.neighbors import KNeighborsClassifier\n",
    "from sklearn.linear_model import LogisticRegression\n",
    "from sklearn.model_selection import train_test_split\n",
    "\n",
    "import wrangle as w\n",
    "\n",
    "# to see all columns in wide datasets\n",
    "pd.set_option('display.max_columns', None)\n"
   ]
  },
  {
   "cell_type": "code",
   "execution_count": 101,
   "id": "db8ac8ac",
   "metadata": {},
   "outputs": [],
   "source": [
    "# acquire telco data \n",
    "df = w.get_telco_data()"
   ]
  },
  {
   "cell_type": "code",
   "execution_count": 102,
   "id": "a6c6f951",
   "metadata": {},
   "outputs": [
    {
     "data": {
      "text/plain": [
       "Index(['payment_type_id', 'internet_service_type_id', 'contract_type_id',\n",
       "       'customer_id', 'gender', 'senior_citizen', 'partner', 'dependents',\n",
       "       'tenure', 'phone_service', 'multiple_lines', 'online_security',\n",
       "       'online_backup', 'device_protection', 'tech_support', 'streaming_tv',\n",
       "       'streaming_movies', 'paperless_billing', 'monthly_charges',\n",
       "       'total_charges', 'churn', 'contract_type', 'internet_service_type',\n",
       "       'payment_type'],\n",
       "      dtype='object')"
      ]
     },
     "execution_count": 102,
     "metadata": {},
     "output_type": "execute_result"
    }
   ],
   "source": [
    "df.columns"
   ]
  },
  {
   "cell_type": "code",
   "execution_count": 103,
   "id": "6d225e71",
   "metadata": {},
   "outputs": [
    {
     "data": {
      "text/plain": [
       "payment_type_id               int64\n",
       "internet_service_type_id      int64\n",
       "contract_type_id              int64\n",
       "customer_id                  object\n",
       "gender                       object\n",
       "senior_citizen                int64\n",
       "partner                      object\n",
       "dependents                   object\n",
       "tenure                        int64\n",
       "phone_service                object\n",
       "multiple_lines               object\n",
       "online_security              object\n",
       "online_backup                object\n",
       "device_protection            object\n",
       "tech_support                 object\n",
       "streaming_tv                 object\n",
       "streaming_movies             object\n",
       "paperless_billing            object\n",
       "monthly_charges             float64\n",
       "total_charges                object\n",
       "churn                        object\n",
       "contract_type                object\n",
       "internet_service_type        object\n",
       "payment_type                 object\n",
       "dtype: object"
      ]
     },
     "execution_count": 103,
     "metadata": {},
     "output_type": "execute_result"
    }
   ],
   "source": [
    "df.dtypes"
   ]
  },
  {
   "cell_type": "code",
   "execution_count": 104,
   "id": "6aa78e07",
   "metadata": {},
   "outputs": [
    {
     "data": {
      "text/plain": [
       "(7043, 24)"
      ]
     },
     "execution_count": 104,
     "metadata": {},
     "output_type": "execute_result"
    }
   ],
   "source": [
    "df.shape\n"
   ]
  },
  {
   "cell_type": "code",
   "execution_count": 105,
   "id": "2453d09f",
   "metadata": {},
   "outputs": [
    {
     "data": {
      "text/plain": [
       "           11\n",
       "20.2       11\n",
       "19.75       9\n",
       "19.9        8\n",
       "20.05       8\n",
       "           ..\n",
       "2387.75     1\n",
       "6302.8      1\n",
       "2058.5      1\n",
       "829.55      1\n",
       "3707.6      1\n",
       "Name: total_charges, Length: 6531, dtype: int64"
      ]
     },
     "execution_count": 105,
     "metadata": {},
     "output_type": "execute_result"
    }
   ],
   "source": [
    "df.total_charges.value_counts()"
   ]
  },
  {
   "cell_type": "markdown",
   "id": "8102c035",
   "metadata": {},
   "source": [
    "# prepare"
   ]
  },
  {
   "cell_type": "code",
   "execution_count": 106,
   "id": "ea77d811",
   "metadata": {},
   "outputs": [],
   "source": [
    "# cleaning data\n",
    "df = w.prep_telco(df)"
   ]
  },
  {
   "cell_type": "code",
   "execution_count": 107,
   "id": "9d448e01",
   "metadata": {
    "scrolled": true
   },
   "outputs": [
    {
     "data": {
      "text/html": [
       "<div>\n",
       "<style scoped>\n",
       "    .dataframe tbody tr th:only-of-type {\n",
       "        vertical-align: middle;\n",
       "    }\n",
       "\n",
       "    .dataframe tbody tr th {\n",
       "        vertical-align: top;\n",
       "    }\n",
       "\n",
       "    .dataframe thead th {\n",
       "        text-align: right;\n",
       "    }\n",
       "</style>\n",
       "<table border=\"1\" class=\"dataframe\">\n",
       "  <thead>\n",
       "    <tr style=\"text-align: right;\">\n",
       "      <th></th>\n",
       "      <th>customer_id</th>\n",
       "      <th>gender</th>\n",
       "      <th>senior_citizen</th>\n",
       "      <th>partner</th>\n",
       "      <th>dependents</th>\n",
       "      <th>tenure</th>\n",
       "      <th>phone_service</th>\n",
       "      <th>multiple_lines</th>\n",
       "      <th>online_security</th>\n",
       "      <th>online_backup</th>\n",
       "      <th>device_protection</th>\n",
       "      <th>tech_support</th>\n",
       "      <th>streaming_tv</th>\n",
       "      <th>streaming_movies</th>\n",
       "      <th>paperless_billing</th>\n",
       "      <th>monthly_charges</th>\n",
       "      <th>total_charges</th>\n",
       "      <th>churn</th>\n",
       "      <th>contract_type</th>\n",
       "      <th>internet_service_type</th>\n",
       "      <th>payment_type</th>\n",
       "      <th>gender_Female</th>\n",
       "      <th>gender_Male</th>\n",
       "      <th>partner_No</th>\n",
       "      <th>partner_Yes</th>\n",
       "      <th>dependents_No</th>\n",
       "      <th>dependents_Yes</th>\n",
       "      <th>phone_service_No</th>\n",
       "      <th>phone_service_Yes</th>\n",
       "      <th>multiple_lines_No</th>\n",
       "      <th>multiple_lines_No phone service</th>\n",
       "      <th>multiple_lines_Yes</th>\n",
       "      <th>online_security_No</th>\n",
       "      <th>online_security_No internet service</th>\n",
       "      <th>online_security_Yes</th>\n",
       "      <th>online_backup_No</th>\n",
       "      <th>online_backup_No internet service</th>\n",
       "      <th>online_backup_Yes</th>\n",
       "      <th>device_protection_No</th>\n",
       "      <th>device_protection_No internet service</th>\n",
       "      <th>device_protection_Yes</th>\n",
       "      <th>tech_support_No</th>\n",
       "      <th>tech_support_No internet service</th>\n",
       "      <th>tech_support_Yes</th>\n",
       "      <th>streaming_tv_No</th>\n",
       "      <th>streaming_tv_No internet service</th>\n",
       "      <th>streaming_tv_Yes</th>\n",
       "      <th>streaming_movies_No</th>\n",
       "      <th>streaming_movies_No internet service</th>\n",
       "      <th>streaming_movies_Yes</th>\n",
       "      <th>paperless_billing_No</th>\n",
       "      <th>paperless_billing_Yes</th>\n",
       "      <th>contract_type_Month-to-month</th>\n",
       "      <th>contract_type_One year</th>\n",
       "      <th>contract_type_Two year</th>\n",
       "      <th>internet_service_type_DSL</th>\n",
       "      <th>internet_service_type_Fiber optic</th>\n",
       "      <th>internet_service_type_None</th>\n",
       "      <th>payment_type_Bank transfer (automatic)</th>\n",
       "      <th>payment_type_Credit card (automatic)</th>\n",
       "      <th>payment_type_Electronic check</th>\n",
       "      <th>payment_type_Mailed check</th>\n",
       "    </tr>\n",
       "  </thead>\n",
       "  <tbody>\n",
       "    <tr>\n",
       "      <th>0</th>\n",
       "      <td>0002-ORFBO</td>\n",
       "      <td>Female</td>\n",
       "      <td>0</td>\n",
       "      <td>Yes</td>\n",
       "      <td>Yes</td>\n",
       "      <td>9</td>\n",
       "      <td>Yes</td>\n",
       "      <td>No</td>\n",
       "      <td>No</td>\n",
       "      <td>Yes</td>\n",
       "      <td>No</td>\n",
       "      <td>Yes</td>\n",
       "      <td>Yes</td>\n",
       "      <td>No</td>\n",
       "      <td>Yes</td>\n",
       "      <td>65.60</td>\n",
       "      <td>593.30</td>\n",
       "      <td>No</td>\n",
       "      <td>One year</td>\n",
       "      <td>DSL</td>\n",
       "      <td>Mailed check</td>\n",
       "      <td>1</td>\n",
       "      <td>0</td>\n",
       "      <td>0</td>\n",
       "      <td>1</td>\n",
       "      <td>0</td>\n",
       "      <td>1</td>\n",
       "      <td>0</td>\n",
       "      <td>1</td>\n",
       "      <td>1</td>\n",
       "      <td>0</td>\n",
       "      <td>0</td>\n",
       "      <td>1</td>\n",
       "      <td>0</td>\n",
       "      <td>0</td>\n",
       "      <td>0</td>\n",
       "      <td>0</td>\n",
       "      <td>1</td>\n",
       "      <td>1</td>\n",
       "      <td>0</td>\n",
       "      <td>0</td>\n",
       "      <td>0</td>\n",
       "      <td>0</td>\n",
       "      <td>1</td>\n",
       "      <td>0</td>\n",
       "      <td>0</td>\n",
       "      <td>1</td>\n",
       "      <td>1</td>\n",
       "      <td>0</td>\n",
       "      <td>0</td>\n",
       "      <td>0</td>\n",
       "      <td>1</td>\n",
       "      <td>0</td>\n",
       "      <td>1</td>\n",
       "      <td>0</td>\n",
       "      <td>1</td>\n",
       "      <td>0</td>\n",
       "      <td>0</td>\n",
       "      <td>0</td>\n",
       "      <td>0</td>\n",
       "      <td>0</td>\n",
       "      <td>1</td>\n",
       "    </tr>\n",
       "    <tr>\n",
       "      <th>1</th>\n",
       "      <td>0003-MKNFE</td>\n",
       "      <td>Male</td>\n",
       "      <td>0</td>\n",
       "      <td>No</td>\n",
       "      <td>No</td>\n",
       "      <td>9</td>\n",
       "      <td>Yes</td>\n",
       "      <td>Yes</td>\n",
       "      <td>No</td>\n",
       "      <td>No</td>\n",
       "      <td>No</td>\n",
       "      <td>No</td>\n",
       "      <td>No</td>\n",
       "      <td>Yes</td>\n",
       "      <td>No</td>\n",
       "      <td>59.90</td>\n",
       "      <td>542.40</td>\n",
       "      <td>No</td>\n",
       "      <td>Month-to-month</td>\n",
       "      <td>DSL</td>\n",
       "      <td>Mailed check</td>\n",
       "      <td>0</td>\n",
       "      <td>1</td>\n",
       "      <td>1</td>\n",
       "      <td>0</td>\n",
       "      <td>1</td>\n",
       "      <td>0</td>\n",
       "      <td>0</td>\n",
       "      <td>1</td>\n",
       "      <td>0</td>\n",
       "      <td>0</td>\n",
       "      <td>1</td>\n",
       "      <td>1</td>\n",
       "      <td>0</td>\n",
       "      <td>0</td>\n",
       "      <td>1</td>\n",
       "      <td>0</td>\n",
       "      <td>0</td>\n",
       "      <td>1</td>\n",
       "      <td>0</td>\n",
       "      <td>0</td>\n",
       "      <td>1</td>\n",
       "      <td>0</td>\n",
       "      <td>0</td>\n",
       "      <td>1</td>\n",
       "      <td>0</td>\n",
       "      <td>0</td>\n",
       "      <td>0</td>\n",
       "      <td>0</td>\n",
       "      <td>1</td>\n",
       "      <td>1</td>\n",
       "      <td>0</td>\n",
       "      <td>1</td>\n",
       "      <td>0</td>\n",
       "      <td>0</td>\n",
       "      <td>1</td>\n",
       "      <td>0</td>\n",
       "      <td>0</td>\n",
       "      <td>0</td>\n",
       "      <td>0</td>\n",
       "      <td>0</td>\n",
       "      <td>1</td>\n",
       "    </tr>\n",
       "    <tr>\n",
       "      <th>2</th>\n",
       "      <td>0004-TLHLJ</td>\n",
       "      <td>Male</td>\n",
       "      <td>0</td>\n",
       "      <td>No</td>\n",
       "      <td>No</td>\n",
       "      <td>4</td>\n",
       "      <td>Yes</td>\n",
       "      <td>No</td>\n",
       "      <td>No</td>\n",
       "      <td>No</td>\n",
       "      <td>Yes</td>\n",
       "      <td>No</td>\n",
       "      <td>No</td>\n",
       "      <td>No</td>\n",
       "      <td>Yes</td>\n",
       "      <td>73.90</td>\n",
       "      <td>280.85</td>\n",
       "      <td>Yes</td>\n",
       "      <td>Month-to-month</td>\n",
       "      <td>Fiber optic</td>\n",
       "      <td>Electronic check</td>\n",
       "      <td>0</td>\n",
       "      <td>1</td>\n",
       "      <td>1</td>\n",
       "      <td>0</td>\n",
       "      <td>1</td>\n",
       "      <td>0</td>\n",
       "      <td>0</td>\n",
       "      <td>1</td>\n",
       "      <td>1</td>\n",
       "      <td>0</td>\n",
       "      <td>0</td>\n",
       "      <td>1</td>\n",
       "      <td>0</td>\n",
       "      <td>0</td>\n",
       "      <td>1</td>\n",
       "      <td>0</td>\n",
       "      <td>0</td>\n",
       "      <td>0</td>\n",
       "      <td>0</td>\n",
       "      <td>1</td>\n",
       "      <td>1</td>\n",
       "      <td>0</td>\n",
       "      <td>0</td>\n",
       "      <td>1</td>\n",
       "      <td>0</td>\n",
       "      <td>0</td>\n",
       "      <td>1</td>\n",
       "      <td>0</td>\n",
       "      <td>0</td>\n",
       "      <td>0</td>\n",
       "      <td>1</td>\n",
       "      <td>1</td>\n",
       "      <td>0</td>\n",
       "      <td>0</td>\n",
       "      <td>0</td>\n",
       "      <td>1</td>\n",
       "      <td>0</td>\n",
       "      <td>0</td>\n",
       "      <td>0</td>\n",
       "      <td>1</td>\n",
       "      <td>0</td>\n",
       "    </tr>\n",
       "    <tr>\n",
       "      <th>3</th>\n",
       "      <td>0011-IGKFF</td>\n",
       "      <td>Male</td>\n",
       "      <td>1</td>\n",
       "      <td>Yes</td>\n",
       "      <td>No</td>\n",
       "      <td>13</td>\n",
       "      <td>Yes</td>\n",
       "      <td>No</td>\n",
       "      <td>No</td>\n",
       "      <td>Yes</td>\n",
       "      <td>Yes</td>\n",
       "      <td>No</td>\n",
       "      <td>Yes</td>\n",
       "      <td>Yes</td>\n",
       "      <td>Yes</td>\n",
       "      <td>98.00</td>\n",
       "      <td>1237.85</td>\n",
       "      <td>Yes</td>\n",
       "      <td>Month-to-month</td>\n",
       "      <td>Fiber optic</td>\n",
       "      <td>Electronic check</td>\n",
       "      <td>0</td>\n",
       "      <td>1</td>\n",
       "      <td>0</td>\n",
       "      <td>1</td>\n",
       "      <td>1</td>\n",
       "      <td>0</td>\n",
       "      <td>0</td>\n",
       "      <td>1</td>\n",
       "      <td>1</td>\n",
       "      <td>0</td>\n",
       "      <td>0</td>\n",
       "      <td>1</td>\n",
       "      <td>0</td>\n",
       "      <td>0</td>\n",
       "      <td>0</td>\n",
       "      <td>0</td>\n",
       "      <td>1</td>\n",
       "      <td>0</td>\n",
       "      <td>0</td>\n",
       "      <td>1</td>\n",
       "      <td>1</td>\n",
       "      <td>0</td>\n",
       "      <td>0</td>\n",
       "      <td>0</td>\n",
       "      <td>0</td>\n",
       "      <td>1</td>\n",
       "      <td>0</td>\n",
       "      <td>0</td>\n",
       "      <td>1</td>\n",
       "      <td>0</td>\n",
       "      <td>1</td>\n",
       "      <td>1</td>\n",
       "      <td>0</td>\n",
       "      <td>0</td>\n",
       "      <td>0</td>\n",
       "      <td>1</td>\n",
       "      <td>0</td>\n",
       "      <td>0</td>\n",
       "      <td>0</td>\n",
       "      <td>1</td>\n",
       "      <td>0</td>\n",
       "    </tr>\n",
       "    <tr>\n",
       "      <th>4</th>\n",
       "      <td>0013-EXCHZ</td>\n",
       "      <td>Female</td>\n",
       "      <td>1</td>\n",
       "      <td>Yes</td>\n",
       "      <td>No</td>\n",
       "      <td>3</td>\n",
       "      <td>Yes</td>\n",
       "      <td>No</td>\n",
       "      <td>No</td>\n",
       "      <td>No</td>\n",
       "      <td>No</td>\n",
       "      <td>Yes</td>\n",
       "      <td>Yes</td>\n",
       "      <td>No</td>\n",
       "      <td>Yes</td>\n",
       "      <td>83.90</td>\n",
       "      <td>267.40</td>\n",
       "      <td>Yes</td>\n",
       "      <td>Month-to-month</td>\n",
       "      <td>Fiber optic</td>\n",
       "      <td>Mailed check</td>\n",
       "      <td>1</td>\n",
       "      <td>0</td>\n",
       "      <td>0</td>\n",
       "      <td>1</td>\n",
       "      <td>1</td>\n",
       "      <td>0</td>\n",
       "      <td>0</td>\n",
       "      <td>1</td>\n",
       "      <td>1</td>\n",
       "      <td>0</td>\n",
       "      <td>0</td>\n",
       "      <td>1</td>\n",
       "      <td>0</td>\n",
       "      <td>0</td>\n",
       "      <td>1</td>\n",
       "      <td>0</td>\n",
       "      <td>0</td>\n",
       "      <td>1</td>\n",
       "      <td>0</td>\n",
       "      <td>0</td>\n",
       "      <td>0</td>\n",
       "      <td>0</td>\n",
       "      <td>1</td>\n",
       "      <td>0</td>\n",
       "      <td>0</td>\n",
       "      <td>1</td>\n",
       "      <td>1</td>\n",
       "      <td>0</td>\n",
       "      <td>0</td>\n",
       "      <td>0</td>\n",
       "      <td>1</td>\n",
       "      <td>1</td>\n",
       "      <td>0</td>\n",
       "      <td>0</td>\n",
       "      <td>0</td>\n",
       "      <td>1</td>\n",
       "      <td>0</td>\n",
       "      <td>0</td>\n",
       "      <td>0</td>\n",
       "      <td>0</td>\n",
       "      <td>1</td>\n",
       "    </tr>\n",
       "    <tr>\n",
       "      <th>...</th>\n",
       "      <td>...</td>\n",
       "      <td>...</td>\n",
       "      <td>...</td>\n",
       "      <td>...</td>\n",
       "      <td>...</td>\n",
       "      <td>...</td>\n",
       "      <td>...</td>\n",
       "      <td>...</td>\n",
       "      <td>...</td>\n",
       "      <td>...</td>\n",
       "      <td>...</td>\n",
       "      <td>...</td>\n",
       "      <td>...</td>\n",
       "      <td>...</td>\n",
       "      <td>...</td>\n",
       "      <td>...</td>\n",
       "      <td>...</td>\n",
       "      <td>...</td>\n",
       "      <td>...</td>\n",
       "      <td>...</td>\n",
       "      <td>...</td>\n",
       "      <td>...</td>\n",
       "      <td>...</td>\n",
       "      <td>...</td>\n",
       "      <td>...</td>\n",
       "      <td>...</td>\n",
       "      <td>...</td>\n",
       "      <td>...</td>\n",
       "      <td>...</td>\n",
       "      <td>...</td>\n",
       "      <td>...</td>\n",
       "      <td>...</td>\n",
       "      <td>...</td>\n",
       "      <td>...</td>\n",
       "      <td>...</td>\n",
       "      <td>...</td>\n",
       "      <td>...</td>\n",
       "      <td>...</td>\n",
       "      <td>...</td>\n",
       "      <td>...</td>\n",
       "      <td>...</td>\n",
       "      <td>...</td>\n",
       "      <td>...</td>\n",
       "      <td>...</td>\n",
       "      <td>...</td>\n",
       "      <td>...</td>\n",
       "      <td>...</td>\n",
       "      <td>...</td>\n",
       "      <td>...</td>\n",
       "      <td>...</td>\n",
       "      <td>...</td>\n",
       "      <td>...</td>\n",
       "      <td>...</td>\n",
       "      <td>...</td>\n",
       "      <td>...</td>\n",
       "      <td>...</td>\n",
       "      <td>...</td>\n",
       "      <td>...</td>\n",
       "      <td>...</td>\n",
       "      <td>...</td>\n",
       "      <td>...</td>\n",
       "      <td>...</td>\n",
       "    </tr>\n",
       "    <tr>\n",
       "      <th>7038</th>\n",
       "      <td>9987-LUTYD</td>\n",
       "      <td>Female</td>\n",
       "      <td>0</td>\n",
       "      <td>No</td>\n",
       "      <td>No</td>\n",
       "      <td>13</td>\n",
       "      <td>Yes</td>\n",
       "      <td>No</td>\n",
       "      <td>Yes</td>\n",
       "      <td>No</td>\n",
       "      <td>No</td>\n",
       "      <td>Yes</td>\n",
       "      <td>No</td>\n",
       "      <td>No</td>\n",
       "      <td>No</td>\n",
       "      <td>55.15</td>\n",
       "      <td>742.90</td>\n",
       "      <td>No</td>\n",
       "      <td>One year</td>\n",
       "      <td>DSL</td>\n",
       "      <td>Mailed check</td>\n",
       "      <td>1</td>\n",
       "      <td>0</td>\n",
       "      <td>1</td>\n",
       "      <td>0</td>\n",
       "      <td>1</td>\n",
       "      <td>0</td>\n",
       "      <td>0</td>\n",
       "      <td>1</td>\n",
       "      <td>1</td>\n",
       "      <td>0</td>\n",
       "      <td>0</td>\n",
       "      <td>0</td>\n",
       "      <td>0</td>\n",
       "      <td>1</td>\n",
       "      <td>1</td>\n",
       "      <td>0</td>\n",
       "      <td>0</td>\n",
       "      <td>1</td>\n",
       "      <td>0</td>\n",
       "      <td>0</td>\n",
       "      <td>0</td>\n",
       "      <td>0</td>\n",
       "      <td>1</td>\n",
       "      <td>1</td>\n",
       "      <td>0</td>\n",
       "      <td>0</td>\n",
       "      <td>1</td>\n",
       "      <td>0</td>\n",
       "      <td>0</td>\n",
       "      <td>1</td>\n",
       "      <td>0</td>\n",
       "      <td>0</td>\n",
       "      <td>1</td>\n",
       "      <td>0</td>\n",
       "      <td>1</td>\n",
       "      <td>0</td>\n",
       "      <td>0</td>\n",
       "      <td>0</td>\n",
       "      <td>0</td>\n",
       "      <td>0</td>\n",
       "      <td>1</td>\n",
       "    </tr>\n",
       "    <tr>\n",
       "      <th>7039</th>\n",
       "      <td>9992-RRAMN</td>\n",
       "      <td>Male</td>\n",
       "      <td>0</td>\n",
       "      <td>Yes</td>\n",
       "      <td>No</td>\n",
       "      <td>22</td>\n",
       "      <td>Yes</td>\n",
       "      <td>Yes</td>\n",
       "      <td>No</td>\n",
       "      <td>No</td>\n",
       "      <td>No</td>\n",
       "      <td>No</td>\n",
       "      <td>No</td>\n",
       "      <td>Yes</td>\n",
       "      <td>Yes</td>\n",
       "      <td>85.10</td>\n",
       "      <td>1873.70</td>\n",
       "      <td>Yes</td>\n",
       "      <td>Month-to-month</td>\n",
       "      <td>Fiber optic</td>\n",
       "      <td>Electronic check</td>\n",
       "      <td>0</td>\n",
       "      <td>1</td>\n",
       "      <td>0</td>\n",
       "      <td>1</td>\n",
       "      <td>1</td>\n",
       "      <td>0</td>\n",
       "      <td>0</td>\n",
       "      <td>1</td>\n",
       "      <td>0</td>\n",
       "      <td>0</td>\n",
       "      <td>1</td>\n",
       "      <td>1</td>\n",
       "      <td>0</td>\n",
       "      <td>0</td>\n",
       "      <td>1</td>\n",
       "      <td>0</td>\n",
       "      <td>0</td>\n",
       "      <td>1</td>\n",
       "      <td>0</td>\n",
       "      <td>0</td>\n",
       "      <td>1</td>\n",
       "      <td>0</td>\n",
       "      <td>0</td>\n",
       "      <td>1</td>\n",
       "      <td>0</td>\n",
       "      <td>0</td>\n",
       "      <td>0</td>\n",
       "      <td>0</td>\n",
       "      <td>1</td>\n",
       "      <td>0</td>\n",
       "      <td>1</td>\n",
       "      <td>1</td>\n",
       "      <td>0</td>\n",
       "      <td>0</td>\n",
       "      <td>0</td>\n",
       "      <td>1</td>\n",
       "      <td>0</td>\n",
       "      <td>0</td>\n",
       "      <td>0</td>\n",
       "      <td>1</td>\n",
       "      <td>0</td>\n",
       "    </tr>\n",
       "    <tr>\n",
       "      <th>7040</th>\n",
       "      <td>9992-UJOEL</td>\n",
       "      <td>Male</td>\n",
       "      <td>0</td>\n",
       "      <td>No</td>\n",
       "      <td>No</td>\n",
       "      <td>2</td>\n",
       "      <td>Yes</td>\n",
       "      <td>No</td>\n",
       "      <td>No</td>\n",
       "      <td>Yes</td>\n",
       "      <td>No</td>\n",
       "      <td>No</td>\n",
       "      <td>No</td>\n",
       "      <td>No</td>\n",
       "      <td>Yes</td>\n",
       "      <td>50.30</td>\n",
       "      <td>92.75</td>\n",
       "      <td>No</td>\n",
       "      <td>Month-to-month</td>\n",
       "      <td>DSL</td>\n",
       "      <td>Mailed check</td>\n",
       "      <td>0</td>\n",
       "      <td>1</td>\n",
       "      <td>1</td>\n",
       "      <td>0</td>\n",
       "      <td>1</td>\n",
       "      <td>0</td>\n",
       "      <td>0</td>\n",
       "      <td>1</td>\n",
       "      <td>1</td>\n",
       "      <td>0</td>\n",
       "      <td>0</td>\n",
       "      <td>1</td>\n",
       "      <td>0</td>\n",
       "      <td>0</td>\n",
       "      <td>0</td>\n",
       "      <td>0</td>\n",
       "      <td>1</td>\n",
       "      <td>1</td>\n",
       "      <td>0</td>\n",
       "      <td>0</td>\n",
       "      <td>1</td>\n",
       "      <td>0</td>\n",
       "      <td>0</td>\n",
       "      <td>1</td>\n",
       "      <td>0</td>\n",
       "      <td>0</td>\n",
       "      <td>1</td>\n",
       "      <td>0</td>\n",
       "      <td>0</td>\n",
       "      <td>0</td>\n",
       "      <td>1</td>\n",
       "      <td>1</td>\n",
       "      <td>0</td>\n",
       "      <td>0</td>\n",
       "      <td>1</td>\n",
       "      <td>0</td>\n",
       "      <td>0</td>\n",
       "      <td>0</td>\n",
       "      <td>0</td>\n",
       "      <td>0</td>\n",
       "      <td>1</td>\n",
       "    </tr>\n",
       "    <tr>\n",
       "      <th>7041</th>\n",
       "      <td>9993-LHIEB</td>\n",
       "      <td>Male</td>\n",
       "      <td>0</td>\n",
       "      <td>Yes</td>\n",
       "      <td>Yes</td>\n",
       "      <td>67</td>\n",
       "      <td>Yes</td>\n",
       "      <td>No</td>\n",
       "      <td>Yes</td>\n",
       "      <td>No</td>\n",
       "      <td>Yes</td>\n",
       "      <td>Yes</td>\n",
       "      <td>No</td>\n",
       "      <td>Yes</td>\n",
       "      <td>No</td>\n",
       "      <td>67.85</td>\n",
       "      <td>4627.65</td>\n",
       "      <td>No</td>\n",
       "      <td>Two year</td>\n",
       "      <td>DSL</td>\n",
       "      <td>Mailed check</td>\n",
       "      <td>0</td>\n",
       "      <td>1</td>\n",
       "      <td>0</td>\n",
       "      <td>1</td>\n",
       "      <td>0</td>\n",
       "      <td>1</td>\n",
       "      <td>0</td>\n",
       "      <td>1</td>\n",
       "      <td>1</td>\n",
       "      <td>0</td>\n",
       "      <td>0</td>\n",
       "      <td>0</td>\n",
       "      <td>0</td>\n",
       "      <td>1</td>\n",
       "      <td>1</td>\n",
       "      <td>0</td>\n",
       "      <td>0</td>\n",
       "      <td>0</td>\n",
       "      <td>0</td>\n",
       "      <td>1</td>\n",
       "      <td>0</td>\n",
       "      <td>0</td>\n",
       "      <td>1</td>\n",
       "      <td>1</td>\n",
       "      <td>0</td>\n",
       "      <td>0</td>\n",
       "      <td>0</td>\n",
       "      <td>0</td>\n",
       "      <td>1</td>\n",
       "      <td>1</td>\n",
       "      <td>0</td>\n",
       "      <td>0</td>\n",
       "      <td>0</td>\n",
       "      <td>1</td>\n",
       "      <td>1</td>\n",
       "      <td>0</td>\n",
       "      <td>0</td>\n",
       "      <td>0</td>\n",
       "      <td>0</td>\n",
       "      <td>0</td>\n",
       "      <td>1</td>\n",
       "    </tr>\n",
       "    <tr>\n",
       "      <th>7042</th>\n",
       "      <td>9995-HOTOH</td>\n",
       "      <td>Male</td>\n",
       "      <td>0</td>\n",
       "      <td>Yes</td>\n",
       "      <td>Yes</td>\n",
       "      <td>63</td>\n",
       "      <td>No</td>\n",
       "      <td>No phone service</td>\n",
       "      <td>Yes</td>\n",
       "      <td>Yes</td>\n",
       "      <td>Yes</td>\n",
       "      <td>No</td>\n",
       "      <td>Yes</td>\n",
       "      <td>Yes</td>\n",
       "      <td>No</td>\n",
       "      <td>59.00</td>\n",
       "      <td>3707.60</td>\n",
       "      <td>No</td>\n",
       "      <td>Two year</td>\n",
       "      <td>DSL</td>\n",
       "      <td>Electronic check</td>\n",
       "      <td>0</td>\n",
       "      <td>1</td>\n",
       "      <td>0</td>\n",
       "      <td>1</td>\n",
       "      <td>0</td>\n",
       "      <td>1</td>\n",
       "      <td>1</td>\n",
       "      <td>0</td>\n",
       "      <td>0</td>\n",
       "      <td>1</td>\n",
       "      <td>0</td>\n",
       "      <td>0</td>\n",
       "      <td>0</td>\n",
       "      <td>1</td>\n",
       "      <td>0</td>\n",
       "      <td>0</td>\n",
       "      <td>1</td>\n",
       "      <td>0</td>\n",
       "      <td>0</td>\n",
       "      <td>1</td>\n",
       "      <td>1</td>\n",
       "      <td>0</td>\n",
       "      <td>0</td>\n",
       "      <td>0</td>\n",
       "      <td>0</td>\n",
       "      <td>1</td>\n",
       "      <td>0</td>\n",
       "      <td>0</td>\n",
       "      <td>1</td>\n",
       "      <td>1</td>\n",
       "      <td>0</td>\n",
       "      <td>0</td>\n",
       "      <td>0</td>\n",
       "      <td>1</td>\n",
       "      <td>1</td>\n",
       "      <td>0</td>\n",
       "      <td>0</td>\n",
       "      <td>0</td>\n",
       "      <td>0</td>\n",
       "      <td>1</td>\n",
       "      <td>0</td>\n",
       "    </tr>\n",
       "  </tbody>\n",
       "</table>\n",
       "<p>7032 rows × 62 columns</p>\n",
       "</div>"
      ],
      "text/plain": [
       "     customer_id  gender  senior_citizen partner dependents  tenure  \\\n",
       "0     0002-ORFBO  Female               0     Yes        Yes       9   \n",
       "1     0003-MKNFE    Male               0      No         No       9   \n",
       "2     0004-TLHLJ    Male               0      No         No       4   \n",
       "3     0011-IGKFF    Male               1     Yes         No      13   \n",
       "4     0013-EXCHZ  Female               1     Yes         No       3   \n",
       "...          ...     ...             ...     ...        ...     ...   \n",
       "7038  9987-LUTYD  Female               0      No         No      13   \n",
       "7039  9992-RRAMN    Male               0     Yes         No      22   \n",
       "7040  9992-UJOEL    Male               0      No         No       2   \n",
       "7041  9993-LHIEB    Male               0     Yes        Yes      67   \n",
       "7042  9995-HOTOH    Male               0     Yes        Yes      63   \n",
       "\n",
       "     phone_service    multiple_lines online_security online_backup  \\\n",
       "0              Yes                No              No           Yes   \n",
       "1              Yes               Yes              No            No   \n",
       "2              Yes                No              No            No   \n",
       "3              Yes                No              No           Yes   \n",
       "4              Yes                No              No            No   \n",
       "...            ...               ...             ...           ...   \n",
       "7038           Yes                No             Yes            No   \n",
       "7039           Yes               Yes              No            No   \n",
       "7040           Yes                No              No           Yes   \n",
       "7041           Yes                No             Yes            No   \n",
       "7042            No  No phone service             Yes           Yes   \n",
       "\n",
       "     device_protection tech_support streaming_tv streaming_movies  \\\n",
       "0                   No          Yes          Yes               No   \n",
       "1                   No           No           No              Yes   \n",
       "2                  Yes           No           No               No   \n",
       "3                  Yes           No          Yes              Yes   \n",
       "4                   No          Yes          Yes               No   \n",
       "...                ...          ...          ...              ...   \n",
       "7038                No          Yes           No               No   \n",
       "7039                No           No           No              Yes   \n",
       "7040                No           No           No               No   \n",
       "7041               Yes          Yes           No              Yes   \n",
       "7042               Yes           No          Yes              Yes   \n",
       "\n",
       "     paperless_billing  monthly_charges  total_charges churn   contract_type  \\\n",
       "0                  Yes            65.60         593.30    No        One year   \n",
       "1                   No            59.90         542.40    No  Month-to-month   \n",
       "2                  Yes            73.90         280.85   Yes  Month-to-month   \n",
       "3                  Yes            98.00        1237.85   Yes  Month-to-month   \n",
       "4                  Yes            83.90         267.40   Yes  Month-to-month   \n",
       "...                ...              ...            ...   ...             ...   \n",
       "7038                No            55.15         742.90    No        One year   \n",
       "7039               Yes            85.10        1873.70   Yes  Month-to-month   \n",
       "7040               Yes            50.30          92.75    No  Month-to-month   \n",
       "7041                No            67.85        4627.65    No        Two year   \n",
       "7042                No            59.00        3707.60    No        Two year   \n",
       "\n",
       "     internet_service_type      payment_type  gender_Female  gender_Male  \\\n",
       "0                      DSL      Mailed check              1            0   \n",
       "1                      DSL      Mailed check              0            1   \n",
       "2              Fiber optic  Electronic check              0            1   \n",
       "3              Fiber optic  Electronic check              0            1   \n",
       "4              Fiber optic      Mailed check              1            0   \n",
       "...                    ...               ...            ...          ...   \n",
       "7038                   DSL      Mailed check              1            0   \n",
       "7039           Fiber optic  Electronic check              0            1   \n",
       "7040                   DSL      Mailed check              0            1   \n",
       "7041                   DSL      Mailed check              0            1   \n",
       "7042                   DSL  Electronic check              0            1   \n",
       "\n",
       "      partner_No  partner_Yes  dependents_No  dependents_Yes  \\\n",
       "0              0            1              0               1   \n",
       "1              1            0              1               0   \n",
       "2              1            0              1               0   \n",
       "3              0            1              1               0   \n",
       "4              0            1              1               0   \n",
       "...          ...          ...            ...             ...   \n",
       "7038           1            0              1               0   \n",
       "7039           0            1              1               0   \n",
       "7040           1            0              1               0   \n",
       "7041           0            1              0               1   \n",
       "7042           0            1              0               1   \n",
       "\n",
       "      phone_service_No  phone_service_Yes  multiple_lines_No  \\\n",
       "0                    0                  1                  1   \n",
       "1                    0                  1                  0   \n",
       "2                    0                  1                  1   \n",
       "3                    0                  1                  1   \n",
       "4                    0                  1                  1   \n",
       "...                ...                ...                ...   \n",
       "7038                 0                  1                  1   \n",
       "7039                 0                  1                  0   \n",
       "7040                 0                  1                  1   \n",
       "7041                 0                  1                  1   \n",
       "7042                 1                  0                  0   \n",
       "\n",
       "      multiple_lines_No phone service  multiple_lines_Yes  online_security_No  \\\n",
       "0                                   0                   0                   1   \n",
       "1                                   0                   1                   1   \n",
       "2                                   0                   0                   1   \n",
       "3                                   0                   0                   1   \n",
       "4                                   0                   0                   1   \n",
       "...                               ...                 ...                 ...   \n",
       "7038                                0                   0                   0   \n",
       "7039                                0                   1                   1   \n",
       "7040                                0                   0                   1   \n",
       "7041                                0                   0                   0   \n",
       "7042                                1                   0                   0   \n",
       "\n",
       "      online_security_No internet service  online_security_Yes  \\\n",
       "0                                       0                    0   \n",
       "1                                       0                    0   \n",
       "2                                       0                    0   \n",
       "3                                       0                    0   \n",
       "4                                       0                    0   \n",
       "...                                   ...                  ...   \n",
       "7038                                    0                    1   \n",
       "7039                                    0                    0   \n",
       "7040                                    0                    0   \n",
       "7041                                    0                    1   \n",
       "7042                                    0                    1   \n",
       "\n",
       "      online_backup_No  online_backup_No internet service  online_backup_Yes  \\\n",
       "0                    0                                  0                  1   \n",
       "1                    1                                  0                  0   \n",
       "2                    1                                  0                  0   \n",
       "3                    0                                  0                  1   \n",
       "4                    1                                  0                  0   \n",
       "...                ...                                ...                ...   \n",
       "7038                 1                                  0                  0   \n",
       "7039                 1                                  0                  0   \n",
       "7040                 0                                  0                  1   \n",
       "7041                 1                                  0                  0   \n",
       "7042                 0                                  0                  1   \n",
       "\n",
       "      device_protection_No  device_protection_No internet service  \\\n",
       "0                        1                                      0   \n",
       "1                        1                                      0   \n",
       "2                        0                                      0   \n",
       "3                        0                                      0   \n",
       "4                        1                                      0   \n",
       "...                    ...                                    ...   \n",
       "7038                     1                                      0   \n",
       "7039                     1                                      0   \n",
       "7040                     1                                      0   \n",
       "7041                     0                                      0   \n",
       "7042                     0                                      0   \n",
       "\n",
       "      device_protection_Yes  tech_support_No  \\\n",
       "0                         0                0   \n",
       "1                         0                1   \n",
       "2                         1                1   \n",
       "3                         1                1   \n",
       "4                         0                0   \n",
       "...                     ...              ...   \n",
       "7038                      0                0   \n",
       "7039                      0                1   \n",
       "7040                      0                1   \n",
       "7041                      1                0   \n",
       "7042                      1                1   \n",
       "\n",
       "      tech_support_No internet service  tech_support_Yes  streaming_tv_No  \\\n",
       "0                                    0                 1                0   \n",
       "1                                    0                 0                1   \n",
       "2                                    0                 0                1   \n",
       "3                                    0                 0                0   \n",
       "4                                    0                 1                0   \n",
       "...                                ...               ...              ...   \n",
       "7038                                 0                 1                1   \n",
       "7039                                 0                 0                1   \n",
       "7040                                 0                 0                1   \n",
       "7041                                 0                 1                1   \n",
       "7042                                 0                 0                0   \n",
       "\n",
       "      streaming_tv_No internet service  streaming_tv_Yes  streaming_movies_No  \\\n",
       "0                                    0                 1                    1   \n",
       "1                                    0                 0                    0   \n",
       "2                                    0                 0                    1   \n",
       "3                                    0                 1                    0   \n",
       "4                                    0                 1                    1   \n",
       "...                                ...               ...                  ...   \n",
       "7038                                 0                 0                    1   \n",
       "7039                                 0                 0                    0   \n",
       "7040                                 0                 0                    1   \n",
       "7041                                 0                 0                    0   \n",
       "7042                                 0                 1                    0   \n",
       "\n",
       "      streaming_movies_No internet service  streaming_movies_Yes  \\\n",
       "0                                        0                     0   \n",
       "1                                        0                     1   \n",
       "2                                        0                     0   \n",
       "3                                        0                     1   \n",
       "4                                        0                     0   \n",
       "...                                    ...                   ...   \n",
       "7038                                     0                     0   \n",
       "7039                                     0                     1   \n",
       "7040                                     0                     0   \n",
       "7041                                     0                     1   \n",
       "7042                                     0                     1   \n",
       "\n",
       "      paperless_billing_No  paperless_billing_Yes  \\\n",
       "0                        0                      1   \n",
       "1                        1                      0   \n",
       "2                        0                      1   \n",
       "3                        0                      1   \n",
       "4                        0                      1   \n",
       "...                    ...                    ...   \n",
       "7038                     1                      0   \n",
       "7039                     0                      1   \n",
       "7040                     0                      1   \n",
       "7041                     1                      0   \n",
       "7042                     1                      0   \n",
       "\n",
       "      contract_type_Month-to-month  contract_type_One year  \\\n",
       "0                                0                       1   \n",
       "1                                1                       0   \n",
       "2                                1                       0   \n",
       "3                                1                       0   \n",
       "4                                1                       0   \n",
       "...                            ...                     ...   \n",
       "7038                             0                       1   \n",
       "7039                             1                       0   \n",
       "7040                             1                       0   \n",
       "7041                             0                       0   \n",
       "7042                             0                       0   \n",
       "\n",
       "      contract_type_Two year  internet_service_type_DSL  \\\n",
       "0                          0                          1   \n",
       "1                          0                          1   \n",
       "2                          0                          0   \n",
       "3                          0                          0   \n",
       "4                          0                          0   \n",
       "...                      ...                        ...   \n",
       "7038                       0                          1   \n",
       "7039                       0                          0   \n",
       "7040                       0                          1   \n",
       "7041                       1                          1   \n",
       "7042                       1                          1   \n",
       "\n",
       "      internet_service_type_Fiber optic  internet_service_type_None  \\\n",
       "0                                     0                           0   \n",
       "1                                     0                           0   \n",
       "2                                     1                           0   \n",
       "3                                     1                           0   \n",
       "4                                     1                           0   \n",
       "...                                 ...                         ...   \n",
       "7038                                  0                           0   \n",
       "7039                                  1                           0   \n",
       "7040                                  0                           0   \n",
       "7041                                  0                           0   \n",
       "7042                                  0                           0   \n",
       "\n",
       "      payment_type_Bank transfer (automatic)  \\\n",
       "0                                          0   \n",
       "1                                          0   \n",
       "2                                          0   \n",
       "3                                          0   \n",
       "4                                          0   \n",
       "...                                      ...   \n",
       "7038                                       0   \n",
       "7039                                       0   \n",
       "7040                                       0   \n",
       "7041                                       0   \n",
       "7042                                       0   \n",
       "\n",
       "      payment_type_Credit card (automatic)  payment_type_Electronic check  \\\n",
       "0                                        0                              0   \n",
       "1                                        0                              0   \n",
       "2                                        0                              1   \n",
       "3                                        0                              1   \n",
       "4                                        0                              0   \n",
       "...                                    ...                            ...   \n",
       "7038                                     0                              0   \n",
       "7039                                     0                              1   \n",
       "7040                                     0                              0   \n",
       "7041                                     0                              0   \n",
       "7042                                     0                              1   \n",
       "\n",
       "      payment_type_Mailed check  \n",
       "0                             1  \n",
       "1                             1  \n",
       "2                             0  \n",
       "3                             0  \n",
       "4                             1  \n",
       "...                         ...  \n",
       "7038                          1  \n",
       "7039                          0  \n",
       "7040                          1  \n",
       "7041                          1  \n",
       "7042                          0  \n",
       "\n",
       "[7032 rows x 62 columns]"
      ]
     },
     "execution_count": 107,
     "metadata": {},
     "output_type": "execute_result"
    }
   ],
   "source": [
    "df"
   ]
  },
  {
   "cell_type": "markdown",
   "id": "0ef8dda6",
   "metadata": {},
   "source": [
    "\n",
    "df[df.contract_type != 'Month-to-month']"
   ]
  },
  {
   "cell_type": "code",
   "execution_count": 108,
   "id": "a210c512",
   "metadata": {},
   "outputs": [
    {
     "data": {
      "text/plain": [
       "0       0002-ORFBO\n",
       "1       0003-MKNFE\n",
       "2       0004-TLHLJ\n",
       "3       0011-IGKFF\n",
       "4       0013-EXCHZ\n",
       "           ...    \n",
       "7038    9987-LUTYD\n",
       "7039    9992-RRAMN\n",
       "7040    9992-UJOEL\n",
       "7041    9993-LHIEB\n",
       "7042    9995-HOTOH\n",
       "Name: customer_id, Length: 7032, dtype: object"
      ]
     },
     "execution_count": 108,
     "metadata": {},
     "output_type": "execute_result"
    }
   ],
   "source": [
    "df.customer_id"
   ]
  },
  {
   "cell_type": "code",
   "execution_count": 109,
   "id": "6d78e046",
   "metadata": {},
   "outputs": [
    {
     "data": {
      "text/plain": [
       "0        No\n",
       "1        No\n",
       "2       Yes\n",
       "3       Yes\n",
       "4       Yes\n",
       "       ... \n",
       "7038     No\n",
       "7039    Yes\n",
       "7040     No\n",
       "7041     No\n",
       "7042     No\n",
       "Name: churn, Length: 7032, dtype: object"
      ]
     },
     "execution_count": 109,
     "metadata": {},
     "output_type": "execute_result"
    }
   ],
   "source": [
    "df.churn"
   ]
  },
  {
   "cell_type": "code",
   "execution_count": 110,
   "id": "769037f8",
   "metadata": {},
   "outputs": [
    {
     "data": {
      "text/plain": [
       "(7032, 62)"
      ]
     },
     "execution_count": 110,
     "metadata": {},
     "output_type": "execute_result"
    }
   ],
   "source": [
    "df.shape"
   ]
  },
  {
   "cell_type": "code",
   "execution_count": 111,
   "id": "a47ff875",
   "metadata": {},
   "outputs": [],
   "source": [
    "def split_telco_data(df):\n",
    "    '''\n",
    "    This function split telco data into train , validate, test and  stratifies on churn.\n",
    "    The split is 20% test 80% train/validate. Then 30% of 80% validate and 70% of 80% train.\n",
    "    Aproximately (train 56%, validate 24%, test 20%)\n",
    "    Returns train, validate, and test \n",
    "    '''\n",
    "    train_validate, test = train_test_split(df, test_size=.2, \n",
    "                                        random_state=123, \n",
    "                                        stratify=df.churn)\n",
    "    train, validate = train_test_split(train_validate, test_size=.3, \n",
    "                                   random_state=123, \n",
    "                                   stratify=train_validate.churn)\n",
    "    return train, validate, test"
   ]
  },
  {
   "cell_type": "code",
   "execution_count": 112,
   "id": "0f232f85",
   "metadata": {},
   "outputs": [
    {
     "data": {
      "text/plain": [
       "((3937, 62), (1688, 62), (1407, 62))"
      ]
     },
     "execution_count": 112,
     "metadata": {},
     "output_type": "execute_result"
    }
   ],
   "source": [
    "# split data\n",
    "train, validate, test = w.split_telco_data(df)\n",
    "train.shape,validate.shape, test.shape\n",
    "\n"
   ]
  },
  {
   "cell_type": "code",
   "execution_count": 113,
   "id": "a303f28f",
   "metadata": {
    "scrolled": false
   },
   "outputs": [],
   "source": [
    "df_predictions = pd.DataFrame(test.customer_id)"
   ]
  },
  {
   "cell_type": "code",
   "execution_count": 114,
   "id": "cb7fb375",
   "metadata": {},
   "outputs": [
    {
     "data": {
      "text/html": [
       "<div>\n",
       "<style scoped>\n",
       "    .dataframe tbody tr th:only-of-type {\n",
       "        vertical-align: middle;\n",
       "    }\n",
       "\n",
       "    .dataframe tbody tr th {\n",
       "        vertical-align: top;\n",
       "    }\n",
       "\n",
       "    .dataframe thead th {\n",
       "        text-align: right;\n",
       "    }\n",
       "</style>\n",
       "<table border=\"1\" class=\"dataframe\">\n",
       "  <thead>\n",
       "    <tr style=\"text-align: right;\">\n",
       "      <th></th>\n",
       "      <th>customer_id</th>\n",
       "    </tr>\n",
       "  </thead>\n",
       "  <tbody>\n",
       "    <tr>\n",
       "      <th>3311</th>\n",
       "      <td>4716-MRVEN</td>\n",
       "    </tr>\n",
       "    <tr>\n",
       "      <th>6330</th>\n",
       "      <td>8966-KZXXA</td>\n",
       "    </tr>\n",
       "    <tr>\n",
       "      <th>6156</th>\n",
       "      <td>8720-RQSBJ</td>\n",
       "    </tr>\n",
       "    <tr>\n",
       "      <th>5313</th>\n",
       "      <td>7504-UWHNB</td>\n",
       "    </tr>\n",
       "    <tr>\n",
       "      <th>1176</th>\n",
       "      <td>1730-VFMWO</td>\n",
       "    </tr>\n",
       "    <tr>\n",
       "      <th>...</th>\n",
       "      <td>...</td>\n",
       "    </tr>\n",
       "    <tr>\n",
       "      <th>600</th>\n",
       "      <td>0877-SDMBN</td>\n",
       "    </tr>\n",
       "    <tr>\n",
       "      <th>3946</th>\n",
       "      <td>5555-RNPGT</td>\n",
       "    </tr>\n",
       "    <tr>\n",
       "      <th>3230</th>\n",
       "      <td>4628-CTTLA</td>\n",
       "    </tr>\n",
       "    <tr>\n",
       "      <th>349</th>\n",
       "      <td>0516-QREYC</td>\n",
       "    </tr>\n",
       "    <tr>\n",
       "      <th>3690</th>\n",
       "      <td>5198-HQAEN</td>\n",
       "    </tr>\n",
       "  </tbody>\n",
       "</table>\n",
       "<p>1407 rows × 1 columns</p>\n",
       "</div>"
      ],
      "text/plain": [
       "     customer_id\n",
       "3311  4716-MRVEN\n",
       "6330  8966-KZXXA\n",
       "6156  8720-RQSBJ\n",
       "5313  7504-UWHNB\n",
       "1176  1730-VFMWO\n",
       "...          ...\n",
       "600   0877-SDMBN\n",
       "3946  5555-RNPGT\n",
       "3230  4628-CTTLA\n",
       "349   0516-QREYC\n",
       "3690  5198-HQAEN\n",
       "\n",
       "[1407 rows x 1 columns]"
      ]
     },
     "execution_count": 114,
     "metadata": {},
     "output_type": "execute_result"
    }
   ],
   "source": [
    "df_predictions"
   ]
  },
  {
   "cell_type": "code",
   "execution_count": 115,
   "id": "094a48ad",
   "metadata": {},
   "outputs": [
    {
     "data": {
      "text/plain": [
       "5919     No\n",
       "1915     No\n",
       "5054     No\n",
       "2355     No\n",
       "6279     No\n",
       "       ... \n",
       "394      No\n",
       "3763    Yes\n",
       "3444     No\n",
       "1002     No\n",
       "4192     No\n",
       "Name: churn, Length: 3937, dtype: object"
      ]
     },
     "execution_count": 115,
     "metadata": {},
     "output_type": "execute_result"
    }
   ],
   "source": [
    "train.churn"
   ]
  },
  {
   "cell_type": "markdown",
   "id": "63fff294",
   "metadata": {},
   "source": [
    "# plt.title('Churn Mean')\n",
    "sns.barplot(x=len(train.churn_Yes), y = train.churn_Yes., data = train,ci=False,saturation=.9, palette=\"PuRd_r\")\n",
    "col_mean= train.churn.mean()\n",
    "plt.axhline(col_mean, label = 'Churn mean',color='maroon')\n",
    "plt.legend()\n",
    "plt.show()"
   ]
  },
  {
   "cell_type": "markdown",
   "id": "c225cf96",
   "metadata": {},
   "source": [
    "# How often does churn occur?"
   ]
  },
  {
   "cell_type": "code",
   "execution_count": 116,
   "id": "c076ef78",
   "metadata": {},
   "outputs": [
    {
     "data": {
      "text/plain": [
       "1968.5"
      ]
     },
     "execution_count": 116,
     "metadata": {},
     "output_type": "execute_result"
    }
   ],
   "source": [
    "mean = train.churn.value_counts().mean()\n",
    "mean"
   ]
  },
  {
   "cell_type": "code",
   "execution_count": 117,
   "id": "73306f87",
   "metadata": {},
   "outputs": [
    {
     "data": {
      "text/plain": [
       "No     2891\n",
       "Yes    1046\n",
       "Name: churn, dtype: int64"
      ]
     },
     "execution_count": 117,
     "metadata": {},
     "output_type": "execute_result"
    }
   ],
   "source": [
    "train.churn.value_counts()"
   ]
  },
  {
   "cell_type": "code",
   "execution_count": 118,
   "id": "54007885",
   "metadata": {
    "scrolled": true
   },
   "outputs": [],
   "source": [
    "def get_churn_mean_bar1(df): \n",
    "    mean = df.churn.value_counts().mean()\n",
    "    plt.title(f'Churn Mean : {mean}')\n",
    "    sns.countplot(df.churn)\n",
    "    col_mean= df.churn.value_counts().mean()\n",
    "    plt.axhline(col_mean, label = 'Churn mean',color='maroon')\n"
   ]
  },
  {
   "cell_type": "code",
   "execution_count": 162,
   "id": "bcaf408f",
   "metadata": {},
   "outputs": [
    {
     "data": {
      "image/png": "[encoded data removed]",
      "text/plain": [
       "<Figure size 432x288 with 1 Axes>"
      ]
     },
     "metadata": {},
     "output_type": "display_data"
    }
   ],
   "source": [
    "def get_churn_mean_bar(df):\n",
    "    ''' This function takes in telco data frame and returns a histoplot that\n",
    "    graphs the percentage of Telco customer who have churn'''\n",
    "\n",
    "    sns.set_style('white')\n",
    "    \n",
    "\n",
    "    c_percent = round(df.churn.value_counts(normalize=True)[1],3)* 100\n",
    "    plt.title(f'Customers churn by {c_percent}%',fontsize=30,fontweight=100,color='midnightblue')\n",
    "    sns.histplot(data =df, x='churn',element='bars',stat='percent',hue='churn',palette='cubehelix',)\n",
    "    col_mean= round(df.churn.value_counts(normalize=True)[1],3)* 100\n",
    "    plt.axhline(col_mean, label = 'Churn Rate',color='midnightblue',linestyle='dashed')\n",
    "   \n",
    "    plt.show();\n",
    "get_churn_mean_bar(train)"
   ]
  },
  {
   "cell_type": "code",
   "execution_count": 21,
   "id": "fcdd7460",
   "metadata": {
    "scrolled": true
   },
   "outputs": [
    {
     "data": {
      "image/png": "[encoded data removed]",
      "text/plain": [
       "<Figure size 432x288 with 1 Axes>"
      ]
     },
     "metadata": {},
     "output_type": "display_data"
    }
   ],
   "source": [
    "get_churn_mean_bar(train)\n",
    "\n"
   ]
  },
  {
   "cell_type": "code",
   "execution_count": 22,
   "id": "9a6b42b6",
   "metadata": {},
   "outputs": [
    {
     "data": {
      "text/plain": [
       "0.2656845313690627"
      ]
     },
     "execution_count": 22,
     "metadata": {},
     "output_type": "execute_result"
    }
   ],
   "source": [
    "train.churn.value_counts(normalize=True)[1]"
   ]
  },
  {
   "cell_type": "markdown",
   "id": "0f863f73",
   "metadata": {},
   "source": [
    "### It appears that about 26% of telco customers churn."
   ]
  },
  {
   "cell_type": "markdown",
   "id": "4d32087a",
   "metadata": {},
   "source": [
    "# Baseline"
   ]
  },
  {
   "cell_type": "code",
   "execution_count": 23,
   "id": "735b5adf",
   "metadata": {},
   "outputs": [
    {
     "data": {
      "text/plain": [
       "No     2891\n",
       "Yes    1046\n",
       "Name: churn, dtype: int64"
      ]
     },
     "execution_count": 23,
     "metadata": {},
     "output_type": "execute_result"
    }
   ],
   "source": [
    "#Find Baseline\n",
    "train.churn.value_counts()\n",
    "#Baseline is 0, customer did not chur"
   ]
  },
  {
   "cell_type": "code",
   "execution_count": 24,
   "id": "494a7fcc",
   "metadata": {},
   "outputs": [
    {
     "data": {
      "text/plain": [
       "0.7343154686309372"
      ]
     },
     "execution_count": 24,
     "metadata": {},
     "output_type": "execute_result"
    }
   ],
   "source": [
    "#Baseline Accuracy\n",
    "baseline = (train.churn == 'No').mean()\n",
    "baseline"
   ]
  },
  {
   "cell_type": "markdown",
   "id": "3b726125",
   "metadata": {},
   "source": [
    "# Does having a high monthly charge affect churn?"
   ]
  },
  {
   "cell_type": "markdown",
   "id": "5d2727a7",
   "metadata": {},
   "source": [
    "### I appears that monthly charges has some bearing on customer churn. Customers who have less monthly charges appear to have stayed with Telco.\n"
   ]
  },
  {
   "cell_type": "code",
   "execution_count": 25,
   "id": "cc580e49",
   "metadata": {},
   "outputs": [
    {
     "data": {
      "text/plain": [
       "count    3937.000000\n",
       "mean       64.805131\n",
       "std        30.294804\n",
       "min        18.250000\n",
       "25%        34.700000\n",
       "50%        70.250000\n",
       "75%        90.300000\n",
       "max       118.650000\n",
       "Name: monthly_charges, dtype: float64"
      ]
     },
     "execution_count": 25,
     "metadata": {},
     "output_type": "execute_result"
    }
   ],
   "source": [
    "train.monthly_charges.describe()"
   ]
  },
  {
   "cell_type": "code",
   "execution_count": 26,
   "id": "8c57c226",
   "metadata": {
    "scrolled": true
   },
   "outputs": [
    {
     "data": {
      "text/plain": [
       "<AxesSubplot:title={'center':'Monthly Charges vs Churn'}, xlabel='monthly_charges', ylabel='Count'>"
      ]
     },
     "execution_count": 26,
     "metadata": {},
     "output_type": "execute_result"
    },
    {
     "data": {
      "image/png": "[encoded data removed]",
      "text/plain": [
       "<Figure size 864x432 with 1 Axes>"
      ]
     },
     "metadata": {},
     "output_type": "display_data"
    }
   ],
   "source": [
    "plt.figure(figsize=(12,6))\n",
    "plt.title('Monthly Charges vs Churn')\n",
    "sns.histplot(x='monthly_charges', data=train, hue='churn',multiple='dodge', kde= True, bins = 6)"
   ]
  },
  {
   "cell_type": "code",
   "execution_count": 27,
   "id": "987841a8",
   "metadata": {},
   "outputs": [
    {
     "name": "stdout",
     "output_type": "stream",
     "text": [
      "['#1a2441', '#1b6145', '#697b30', '#c87b7c', '#cda2e0', '#c6e1f1']\n"
     ]
    }
   ],
   "source": [
    "print(sns.color_palette(\"cubehelix\").as_hex())"
   ]
  },
  {
   "cell_type": "code",
   "execution_count": 95,
   "id": "cd6d136d",
   "metadata": {
    "scrolled": true
   },
   "outputs": [
    {
     "data": {
      "image/png": "[encoded data removed]",
      "text/plain": [
       "<Figure size 432x288 with 1 Axes>"
      ]
     },
     "metadata": {},
     "output_type": "display_data"
    }
   ],
   "source": [
    "def get_monthly_charges(df):\n",
    "    plt.title('Monthly Charges vs Churn')\n",
    "    sns.boxplot(x=df.monthly_charges, y=df.churn,\n",
    "                whis=np.inf, palette='cubehelix');\n",
    "get_monthly_charges(train)"
   ]
  },
  {
   "cell_type": "markdown",
   "id": "db814c4e",
   "metadata": {},
   "source": [
    "### Stat Test T-test"
   ]
  },
  {
   "cell_type": "code",
   "execution_count": 98,
   "id": "e09508fb",
   "metadata": {
    "scrolled": true
   },
   "outputs": [
    {
     "data": {
      "image/png": "[encoded data removed]",
      "text/plain": [
       "<Figure size 432x288 with 1 Axes>"
      ]
     },
     "metadata": {},
     "output_type": "display_data"
    }
   ],
   "source": [
    "# Create an array with the colors you want to use\n",
    "colors = ['#98b49c', '#e7c7e2']\n",
    "# Set your custom color palette\n",
    "sns.set_palette(sns.color_palette(colors))\n",
    "get_monthly_charges(train)"
   ]
  },
  {
   "cell_type": "code",
   "execution_count": 30,
   "id": "6e6688e6",
   "metadata": {},
   "outputs": [
    {
     "data": {
      "text/plain": [
       "No     2891\n",
       "Yes    1046\n",
       "Name: churn, dtype: int64"
      ]
     },
     "execution_count": 30,
     "metadata": {},
     "output_type": "execute_result"
    }
   ],
   "source": [
    "train.churn.value_counts()"
   ]
  },
  {
   "cell_type": "code",
   "execution_count": 31,
   "id": "b6a7b135",
   "metadata": {
    "scrolled": true
   },
   "outputs": [
    {
     "data": {
      "text/html": [
       "<div>\n",
       "<style scoped>\n",
       "    .dataframe tbody tr th:only-of-type {\n",
       "        vertical-align: middle;\n",
       "    }\n",
       "\n",
       "    .dataframe tbody tr th {\n",
       "        vertical-align: top;\n",
       "    }\n",
       "\n",
       "    .dataframe thead th {\n",
       "        text-align: right;\n",
       "    }\n",
       "</style>\n",
       "<table border=\"1\" class=\"dataframe\">\n",
       "  <thead>\n",
       "    <tr style=\"text-align: right;\">\n",
       "      <th></th>\n",
       "      <th>customer_id</th>\n",
       "      <th>gender</th>\n",
       "      <th>senior_citizen</th>\n",
       "      <th>partner</th>\n",
       "      <th>dependents</th>\n",
       "      <th>tenure</th>\n",
       "      <th>phone_service</th>\n",
       "      <th>multiple_lines</th>\n",
       "      <th>online_security</th>\n",
       "      <th>online_backup</th>\n",
       "      <th>device_protection</th>\n",
       "      <th>tech_support</th>\n",
       "      <th>streaming_tv</th>\n",
       "      <th>streaming_movies</th>\n",
       "      <th>paperless_billing</th>\n",
       "      <th>monthly_charges</th>\n",
       "      <th>total_charges</th>\n",
       "      <th>churn</th>\n",
       "      <th>contract_type</th>\n",
       "      <th>internet_service_type</th>\n",
       "      <th>payment_type</th>\n",
       "      <th>gender_Female</th>\n",
       "      <th>gender_Male</th>\n",
       "      <th>partner_No</th>\n",
       "      <th>partner_Yes</th>\n",
       "      <th>dependents_No</th>\n",
       "      <th>dependents_Yes</th>\n",
       "      <th>phone_service_No</th>\n",
       "      <th>phone_service_Yes</th>\n",
       "      <th>multiple_lines_No</th>\n",
       "      <th>multiple_lines_No phone service</th>\n",
       "      <th>multiple_lines_Yes</th>\n",
       "      <th>online_security_No</th>\n",
       "      <th>online_security_No internet service</th>\n",
       "      <th>online_security_Yes</th>\n",
       "      <th>online_backup_No</th>\n",
       "      <th>online_backup_No internet service</th>\n",
       "      <th>online_backup_Yes</th>\n",
       "      <th>device_protection_No</th>\n",
       "      <th>device_protection_No internet service</th>\n",
       "      <th>device_protection_Yes</th>\n",
       "      <th>tech_support_No</th>\n",
       "      <th>tech_support_No internet service</th>\n",
       "      <th>tech_support_Yes</th>\n",
       "      <th>streaming_tv_No</th>\n",
       "      <th>streaming_tv_No internet service</th>\n",
       "      <th>streaming_tv_Yes</th>\n",
       "      <th>streaming_movies_No</th>\n",
       "      <th>streaming_movies_No internet service</th>\n",
       "      <th>streaming_movies_Yes</th>\n",
       "      <th>paperless_billing_No</th>\n",
       "      <th>paperless_billing_Yes</th>\n",
       "      <th>contract_type_Month-to-month</th>\n",
       "      <th>contract_type_One year</th>\n",
       "      <th>contract_type_Two year</th>\n",
       "      <th>internet_service_type_DSL</th>\n",
       "      <th>internet_service_type_Fiber optic</th>\n",
       "      <th>internet_service_type_None</th>\n",
       "      <th>payment_type_Bank transfer (automatic)</th>\n",
       "      <th>payment_type_Credit card (automatic)</th>\n",
       "      <th>payment_type_Electronic check</th>\n",
       "      <th>payment_type_Mailed check</th>\n",
       "    </tr>\n",
       "  </thead>\n",
       "  <tbody>\n",
       "    <tr>\n",
       "      <th>6992</th>\n",
       "      <td>9921-ZVRHG</td>\n",
       "      <td>Female</td>\n",
       "      <td>0</td>\n",
       "      <td>No</td>\n",
       "      <td>No</td>\n",
       "      <td>14</td>\n",
       "      <td>Yes</td>\n",
       "      <td>Yes</td>\n",
       "      <td>No</td>\n",
       "      <td>No</td>\n",
       "      <td>Yes</td>\n",
       "      <td>No</td>\n",
       "      <td>No</td>\n",
       "      <td>No</td>\n",
       "      <td>Yes</td>\n",
       "      <td>80.45</td>\n",
       "      <td>1072.00</td>\n",
       "      <td>Yes</td>\n",
       "      <td>Month-to-month</td>\n",
       "      <td>Fiber optic</td>\n",
       "      <td>Electronic check</td>\n",
       "      <td>1</td>\n",
       "      <td>0</td>\n",
       "      <td>1</td>\n",
       "      <td>0</td>\n",
       "      <td>1</td>\n",
       "      <td>0</td>\n",
       "      <td>0</td>\n",
       "      <td>1</td>\n",
       "      <td>0</td>\n",
       "      <td>0</td>\n",
       "      <td>1</td>\n",
       "      <td>1</td>\n",
       "      <td>0</td>\n",
       "      <td>0</td>\n",
       "      <td>1</td>\n",
       "      <td>0</td>\n",
       "      <td>0</td>\n",
       "      <td>0</td>\n",
       "      <td>0</td>\n",
       "      <td>1</td>\n",
       "      <td>1</td>\n",
       "      <td>0</td>\n",
       "      <td>0</td>\n",
       "      <td>1</td>\n",
       "      <td>0</td>\n",
       "      <td>0</td>\n",
       "      <td>1</td>\n",
       "      <td>0</td>\n",
       "      <td>0</td>\n",
       "      <td>0</td>\n",
       "      <td>1</td>\n",
       "      <td>1</td>\n",
       "      <td>0</td>\n",
       "      <td>0</td>\n",
       "      <td>0</td>\n",
       "      <td>1</td>\n",
       "      <td>0</td>\n",
       "      <td>0</td>\n",
       "      <td>0</td>\n",
       "      <td>1</td>\n",
       "      <td>0</td>\n",
       "    </tr>\n",
       "    <tr>\n",
       "      <th>6845</th>\n",
       "      <td>9722-UJOJR</td>\n",
       "      <td>Male</td>\n",
       "      <td>0</td>\n",
       "      <td>Yes</td>\n",
       "      <td>Yes</td>\n",
       "      <td>29</td>\n",
       "      <td>Yes</td>\n",
       "      <td>No</td>\n",
       "      <td>No</td>\n",
       "      <td>No</td>\n",
       "      <td>No</td>\n",
       "      <td>No</td>\n",
       "      <td>No</td>\n",
       "      <td>No</td>\n",
       "      <td>Yes</td>\n",
       "      <td>70.75</td>\n",
       "      <td>1974.80</td>\n",
       "      <td>Yes</td>\n",
       "      <td>Month-to-month</td>\n",
       "      <td>Fiber optic</td>\n",
       "      <td>Electronic check</td>\n",
       "      <td>0</td>\n",
       "      <td>1</td>\n",
       "      <td>0</td>\n",
       "      <td>1</td>\n",
       "      <td>0</td>\n",
       "      <td>1</td>\n",
       "      <td>0</td>\n",
       "      <td>1</td>\n",
       "      <td>1</td>\n",
       "      <td>0</td>\n",
       "      <td>0</td>\n",
       "      <td>1</td>\n",
       "      <td>0</td>\n",
       "      <td>0</td>\n",
       "      <td>1</td>\n",
       "      <td>0</td>\n",
       "      <td>0</td>\n",
       "      <td>1</td>\n",
       "      <td>0</td>\n",
       "      <td>0</td>\n",
       "      <td>1</td>\n",
       "      <td>0</td>\n",
       "      <td>0</td>\n",
       "      <td>1</td>\n",
       "      <td>0</td>\n",
       "      <td>0</td>\n",
       "      <td>1</td>\n",
       "      <td>0</td>\n",
       "      <td>0</td>\n",
       "      <td>0</td>\n",
       "      <td>1</td>\n",
       "      <td>1</td>\n",
       "      <td>0</td>\n",
       "      <td>0</td>\n",
       "      <td>0</td>\n",
       "      <td>1</td>\n",
       "      <td>0</td>\n",
       "      <td>0</td>\n",
       "      <td>0</td>\n",
       "      <td>1</td>\n",
       "      <td>0</td>\n",
       "    </tr>\n",
       "    <tr>\n",
       "      <th>3171</th>\n",
       "      <td>4547-LYTDD</td>\n",
       "      <td>Female</td>\n",
       "      <td>0</td>\n",
       "      <td>No</td>\n",
       "      <td>No</td>\n",
       "      <td>16</td>\n",
       "      <td>Yes</td>\n",
       "      <td>Yes</td>\n",
       "      <td>No</td>\n",
       "      <td>No</td>\n",
       "      <td>No</td>\n",
       "      <td>No</td>\n",
       "      <td>No</td>\n",
       "      <td>No</td>\n",
       "      <td>No</td>\n",
       "      <td>72.65</td>\n",
       "      <td>1194.30</td>\n",
       "      <td>Yes</td>\n",
       "      <td>Month-to-month</td>\n",
       "      <td>Fiber optic</td>\n",
       "      <td>Electronic check</td>\n",
       "      <td>1</td>\n",
       "      <td>0</td>\n",
       "      <td>1</td>\n",
       "      <td>0</td>\n",
       "      <td>1</td>\n",
       "      <td>0</td>\n",
       "      <td>0</td>\n",
       "      <td>1</td>\n",
       "      <td>0</td>\n",
       "      <td>0</td>\n",
       "      <td>1</td>\n",
       "      <td>1</td>\n",
       "      <td>0</td>\n",
       "      <td>0</td>\n",
       "      <td>1</td>\n",
       "      <td>0</td>\n",
       "      <td>0</td>\n",
       "      <td>1</td>\n",
       "      <td>0</td>\n",
       "      <td>0</td>\n",
       "      <td>1</td>\n",
       "      <td>0</td>\n",
       "      <td>0</td>\n",
       "      <td>1</td>\n",
       "      <td>0</td>\n",
       "      <td>0</td>\n",
       "      <td>1</td>\n",
       "      <td>0</td>\n",
       "      <td>0</td>\n",
       "      <td>1</td>\n",
       "      <td>0</td>\n",
       "      <td>1</td>\n",
       "      <td>0</td>\n",
       "      <td>0</td>\n",
       "      <td>0</td>\n",
       "      <td>1</td>\n",
       "      <td>0</td>\n",
       "      <td>0</td>\n",
       "      <td>0</td>\n",
       "      <td>1</td>\n",
       "      <td>0</td>\n",
       "    </tr>\n",
       "    <tr>\n",
       "      <th>2375</th>\n",
       "      <td>3400-ESFUW</td>\n",
       "      <td>Male</td>\n",
       "      <td>0</td>\n",
       "      <td>Yes</td>\n",
       "      <td>Yes</td>\n",
       "      <td>55</td>\n",
       "      <td>Yes</td>\n",
       "      <td>No</td>\n",
       "      <td>Yes</td>\n",
       "      <td>Yes</td>\n",
       "      <td>No</td>\n",
       "      <td>Yes</td>\n",
       "      <td>No</td>\n",
       "      <td>No</td>\n",
       "      <td>No</td>\n",
       "      <td>57.55</td>\n",
       "      <td>3046.40</td>\n",
       "      <td>Yes</td>\n",
       "      <td>Two year</td>\n",
       "      <td>DSL</td>\n",
       "      <td>Bank transfer (automatic)</td>\n",
       "      <td>0</td>\n",
       "      <td>1</td>\n",
       "      <td>0</td>\n",
       "      <td>1</td>\n",
       "      <td>0</td>\n",
       "      <td>1</td>\n",
       "      <td>0</td>\n",
       "      <td>1</td>\n",
       "      <td>1</td>\n",
       "      <td>0</td>\n",
       "      <td>0</td>\n",
       "      <td>0</td>\n",
       "      <td>0</td>\n",
       "      <td>1</td>\n",
       "      <td>0</td>\n",
       "      <td>0</td>\n",
       "      <td>1</td>\n",
       "      <td>1</td>\n",
       "      <td>0</td>\n",
       "      <td>0</td>\n",
       "      <td>0</td>\n",
       "      <td>0</td>\n",
       "      <td>1</td>\n",
       "      <td>1</td>\n",
       "      <td>0</td>\n",
       "      <td>0</td>\n",
       "      <td>1</td>\n",
       "      <td>0</td>\n",
       "      <td>0</td>\n",
       "      <td>1</td>\n",
       "      <td>0</td>\n",
       "      <td>0</td>\n",
       "      <td>0</td>\n",
       "      <td>1</td>\n",
       "      <td>1</td>\n",
       "      <td>0</td>\n",
       "      <td>0</td>\n",
       "      <td>1</td>\n",
       "      <td>0</td>\n",
       "      <td>0</td>\n",
       "      <td>0</td>\n",
       "    </tr>\n",
       "    <tr>\n",
       "      <th>4551</th>\n",
       "      <td>6416-TVAIH</td>\n",
       "      <td>Male</td>\n",
       "      <td>0</td>\n",
       "      <td>Yes</td>\n",
       "      <td>Yes</td>\n",
       "      <td>1</td>\n",
       "      <td>Yes</td>\n",
       "      <td>No</td>\n",
       "      <td>No</td>\n",
       "      <td>No</td>\n",
       "      <td>No</td>\n",
       "      <td>No</td>\n",
       "      <td>No</td>\n",
       "      <td>No</td>\n",
       "      <td>Yes</td>\n",
       "      <td>68.50</td>\n",
       "      <td>68.50</td>\n",
       "      <td>Yes</td>\n",
       "      <td>Month-to-month</td>\n",
       "      <td>Fiber optic</td>\n",
       "      <td>Electronic check</td>\n",
       "      <td>0</td>\n",
       "      <td>1</td>\n",
       "      <td>0</td>\n",
       "      <td>1</td>\n",
       "      <td>0</td>\n",
       "      <td>1</td>\n",
       "      <td>0</td>\n",
       "      <td>1</td>\n",
       "      <td>1</td>\n",
       "      <td>0</td>\n",
       "      <td>0</td>\n",
       "      <td>1</td>\n",
       "      <td>0</td>\n",
       "      <td>0</td>\n",
       "      <td>1</td>\n",
       "      <td>0</td>\n",
       "      <td>0</td>\n",
       "      <td>1</td>\n",
       "      <td>0</td>\n",
       "      <td>0</td>\n",
       "      <td>1</td>\n",
       "      <td>0</td>\n",
       "      <td>0</td>\n",
       "      <td>1</td>\n",
       "      <td>0</td>\n",
       "      <td>0</td>\n",
       "      <td>1</td>\n",
       "      <td>0</td>\n",
       "      <td>0</td>\n",
       "      <td>0</td>\n",
       "      <td>1</td>\n",
       "      <td>1</td>\n",
       "      <td>0</td>\n",
       "      <td>0</td>\n",
       "      <td>0</td>\n",
       "      <td>1</td>\n",
       "      <td>0</td>\n",
       "      <td>0</td>\n",
       "      <td>0</td>\n",
       "      <td>1</td>\n",
       "      <td>0</td>\n",
       "    </tr>\n",
       "    <tr>\n",
       "      <th>...</th>\n",
       "      <td>...</td>\n",
       "      <td>...</td>\n",
       "      <td>...</td>\n",
       "      <td>...</td>\n",
       "      <td>...</td>\n",
       "      <td>...</td>\n",
       "      <td>...</td>\n",
       "      <td>...</td>\n",
       "      <td>...</td>\n",
       "      <td>...</td>\n",
       "      <td>...</td>\n",
       "      <td>...</td>\n",
       "      <td>...</td>\n",
       "      <td>...</td>\n",
       "      <td>...</td>\n",
       "      <td>...</td>\n",
       "      <td>...</td>\n",
       "      <td>...</td>\n",
       "      <td>...</td>\n",
       "      <td>...</td>\n",
       "      <td>...</td>\n",
       "      <td>...</td>\n",
       "      <td>...</td>\n",
       "      <td>...</td>\n",
       "      <td>...</td>\n",
       "      <td>...</td>\n",
       "      <td>...</td>\n",
       "      <td>...</td>\n",
       "      <td>...</td>\n",
       "      <td>...</td>\n",
       "      <td>...</td>\n",
       "      <td>...</td>\n",
       "      <td>...</td>\n",
       "      <td>...</td>\n",
       "      <td>...</td>\n",
       "      <td>...</td>\n",
       "      <td>...</td>\n",
       "      <td>...</td>\n",
       "      <td>...</td>\n",
       "      <td>...</td>\n",
       "      <td>...</td>\n",
       "      <td>...</td>\n",
       "      <td>...</td>\n",
       "      <td>...</td>\n",
       "      <td>...</td>\n",
       "      <td>...</td>\n",
       "      <td>...</td>\n",
       "      <td>...</td>\n",
       "      <td>...</td>\n",
       "      <td>...</td>\n",
       "      <td>...</td>\n",
       "      <td>...</td>\n",
       "      <td>...</td>\n",
       "      <td>...</td>\n",
       "      <td>...</td>\n",
       "      <td>...</td>\n",
       "      <td>...</td>\n",
       "      <td>...</td>\n",
       "      <td>...</td>\n",
       "      <td>...</td>\n",
       "      <td>...</td>\n",
       "      <td>...</td>\n",
       "    </tr>\n",
       "    <tr>\n",
       "      <th>4739</th>\n",
       "      <td>6680-WKXRZ</td>\n",
       "      <td>Female</td>\n",
       "      <td>0</td>\n",
       "      <td>No</td>\n",
       "      <td>No</td>\n",
       "      <td>3</td>\n",
       "      <td>Yes</td>\n",
       "      <td>Yes</td>\n",
       "      <td>No</td>\n",
       "      <td>No</td>\n",
       "      <td>No</td>\n",
       "      <td>No</td>\n",
       "      <td>No</td>\n",
       "      <td>No</td>\n",
       "      <td>No</td>\n",
       "      <td>74.40</td>\n",
       "      <td>215.80</td>\n",
       "      <td>Yes</td>\n",
       "      <td>Month-to-month</td>\n",
       "      <td>Fiber optic</td>\n",
       "      <td>Bank transfer (automatic)</td>\n",
       "      <td>1</td>\n",
       "      <td>0</td>\n",
       "      <td>1</td>\n",
       "      <td>0</td>\n",
       "      <td>1</td>\n",
       "      <td>0</td>\n",
       "      <td>0</td>\n",
       "      <td>1</td>\n",
       "      <td>0</td>\n",
       "      <td>0</td>\n",
       "      <td>1</td>\n",
       "      <td>1</td>\n",
       "      <td>0</td>\n",
       "      <td>0</td>\n",
       "      <td>1</td>\n",
       "      <td>0</td>\n",
       "      <td>0</td>\n",
       "      <td>1</td>\n",
       "      <td>0</td>\n",
       "      <td>0</td>\n",
       "      <td>1</td>\n",
       "      <td>0</td>\n",
       "      <td>0</td>\n",
       "      <td>1</td>\n",
       "      <td>0</td>\n",
       "      <td>0</td>\n",
       "      <td>1</td>\n",
       "      <td>0</td>\n",
       "      <td>0</td>\n",
       "      <td>1</td>\n",
       "      <td>0</td>\n",
       "      <td>1</td>\n",
       "      <td>0</td>\n",
       "      <td>0</td>\n",
       "      <td>0</td>\n",
       "      <td>1</td>\n",
       "      <td>0</td>\n",
       "      <td>1</td>\n",
       "      <td>0</td>\n",
       "      <td>0</td>\n",
       "      <td>0</td>\n",
       "    </tr>\n",
       "    <tr>\n",
       "      <th>2194</th>\n",
       "      <td>3144-AUDBS</td>\n",
       "      <td>Female</td>\n",
       "      <td>0</td>\n",
       "      <td>Yes</td>\n",
       "      <td>No</td>\n",
       "      <td>6</td>\n",
       "      <td>Yes</td>\n",
       "      <td>No</td>\n",
       "      <td>No</td>\n",
       "      <td>No</td>\n",
       "      <td>No</td>\n",
       "      <td>Yes</td>\n",
       "      <td>No</td>\n",
       "      <td>No</td>\n",
       "      <td>Yes</td>\n",
       "      <td>49.15</td>\n",
       "      <td>270.80</td>\n",
       "      <td>Yes</td>\n",
       "      <td>Month-to-month</td>\n",
       "      <td>DSL</td>\n",
       "      <td>Electronic check</td>\n",
       "      <td>1</td>\n",
       "      <td>0</td>\n",
       "      <td>0</td>\n",
       "      <td>1</td>\n",
       "      <td>1</td>\n",
       "      <td>0</td>\n",
       "      <td>0</td>\n",
       "      <td>1</td>\n",
       "      <td>1</td>\n",
       "      <td>0</td>\n",
       "      <td>0</td>\n",
       "      <td>1</td>\n",
       "      <td>0</td>\n",
       "      <td>0</td>\n",
       "      <td>1</td>\n",
       "      <td>0</td>\n",
       "      <td>0</td>\n",
       "      <td>1</td>\n",
       "      <td>0</td>\n",
       "      <td>0</td>\n",
       "      <td>0</td>\n",
       "      <td>0</td>\n",
       "      <td>1</td>\n",
       "      <td>1</td>\n",
       "      <td>0</td>\n",
       "      <td>0</td>\n",
       "      <td>1</td>\n",
       "      <td>0</td>\n",
       "      <td>0</td>\n",
       "      <td>0</td>\n",
       "      <td>1</td>\n",
       "      <td>1</td>\n",
       "      <td>0</td>\n",
       "      <td>0</td>\n",
       "      <td>1</td>\n",
       "      <td>0</td>\n",
       "      <td>0</td>\n",
       "      <td>0</td>\n",
       "      <td>0</td>\n",
       "      <td>1</td>\n",
       "      <td>0</td>\n",
       "    </tr>\n",
       "    <tr>\n",
       "      <th>659</th>\n",
       "      <td>0963-ZBDRN</td>\n",
       "      <td>Male</td>\n",
       "      <td>0</td>\n",
       "      <td>No</td>\n",
       "      <td>No</td>\n",
       "      <td>32</td>\n",
       "      <td>Yes</td>\n",
       "      <td>No</td>\n",
       "      <td>No</td>\n",
       "      <td>No</td>\n",
       "      <td>No</td>\n",
       "      <td>Yes</td>\n",
       "      <td>Yes</td>\n",
       "      <td>Yes</td>\n",
       "      <td>Yes</td>\n",
       "      <td>96.20</td>\n",
       "      <td>3183.40</td>\n",
       "      <td>Yes</td>\n",
       "      <td>Month-to-month</td>\n",
       "      <td>Fiber optic</td>\n",
       "      <td>Electronic check</td>\n",
       "      <td>0</td>\n",
       "      <td>1</td>\n",
       "      <td>1</td>\n",
       "      <td>0</td>\n",
       "      <td>1</td>\n",
       "      <td>0</td>\n",
       "      <td>0</td>\n",
       "      <td>1</td>\n",
       "      <td>1</td>\n",
       "      <td>0</td>\n",
       "      <td>0</td>\n",
       "      <td>1</td>\n",
       "      <td>0</td>\n",
       "      <td>0</td>\n",
       "      <td>1</td>\n",
       "      <td>0</td>\n",
       "      <td>0</td>\n",
       "      <td>1</td>\n",
       "      <td>0</td>\n",
       "      <td>0</td>\n",
       "      <td>0</td>\n",
       "      <td>0</td>\n",
       "      <td>1</td>\n",
       "      <td>0</td>\n",
       "      <td>0</td>\n",
       "      <td>1</td>\n",
       "      <td>0</td>\n",
       "      <td>0</td>\n",
       "      <td>1</td>\n",
       "      <td>0</td>\n",
       "      <td>1</td>\n",
       "      <td>1</td>\n",
       "      <td>0</td>\n",
       "      <td>0</td>\n",
       "      <td>0</td>\n",
       "      <td>1</td>\n",
       "      <td>0</td>\n",
       "      <td>0</td>\n",
       "      <td>0</td>\n",
       "      <td>1</td>\n",
       "      <td>0</td>\n",
       "    </tr>\n",
       "    <tr>\n",
       "      <th>3359</th>\n",
       "      <td>4791-QRGMF</td>\n",
       "      <td>Male</td>\n",
       "      <td>0</td>\n",
       "      <td>Yes</td>\n",
       "      <td>No</td>\n",
       "      <td>59</td>\n",
       "      <td>Yes</td>\n",
       "      <td>Yes</td>\n",
       "      <td>No</td>\n",
       "      <td>No</td>\n",
       "      <td>Yes</td>\n",
       "      <td>No</td>\n",
       "      <td>Yes</td>\n",
       "      <td>Yes</td>\n",
       "      <td>Yes</td>\n",
       "      <td>99.50</td>\n",
       "      <td>5961.10</td>\n",
       "      <td>Yes</td>\n",
       "      <td>One year</td>\n",
       "      <td>Fiber optic</td>\n",
       "      <td>Bank transfer (automatic)</td>\n",
       "      <td>0</td>\n",
       "      <td>1</td>\n",
       "      <td>0</td>\n",
       "      <td>1</td>\n",
       "      <td>1</td>\n",
       "      <td>0</td>\n",
       "      <td>0</td>\n",
       "      <td>1</td>\n",
       "      <td>0</td>\n",
       "      <td>0</td>\n",
       "      <td>1</td>\n",
       "      <td>1</td>\n",
       "      <td>0</td>\n",
       "      <td>0</td>\n",
       "      <td>1</td>\n",
       "      <td>0</td>\n",
       "      <td>0</td>\n",
       "      <td>0</td>\n",
       "      <td>0</td>\n",
       "      <td>1</td>\n",
       "      <td>1</td>\n",
       "      <td>0</td>\n",
       "      <td>0</td>\n",
       "      <td>0</td>\n",
       "      <td>0</td>\n",
       "      <td>1</td>\n",
       "      <td>0</td>\n",
       "      <td>0</td>\n",
       "      <td>1</td>\n",
       "      <td>0</td>\n",
       "      <td>1</td>\n",
       "      <td>0</td>\n",
       "      <td>1</td>\n",
       "      <td>0</td>\n",
       "      <td>0</td>\n",
       "      <td>1</td>\n",
       "      <td>0</td>\n",
       "      <td>1</td>\n",
       "      <td>0</td>\n",
       "      <td>0</td>\n",
       "      <td>0</td>\n",
       "    </tr>\n",
       "    <tr>\n",
       "      <th>3763</th>\n",
       "      <td>5299-RULOA</td>\n",
       "      <td>Female</td>\n",
       "      <td>0</td>\n",
       "      <td>Yes</td>\n",
       "      <td>Yes</td>\n",
       "      <td>10</td>\n",
       "      <td>Yes</td>\n",
       "      <td>Yes</td>\n",
       "      <td>Yes</td>\n",
       "      <td>No</td>\n",
       "      <td>No</td>\n",
       "      <td>No</td>\n",
       "      <td>Yes</td>\n",
       "      <td>Yes</td>\n",
       "      <td>Yes</td>\n",
       "      <td>100.25</td>\n",
       "      <td>1064.65</td>\n",
       "      <td>Yes</td>\n",
       "      <td>Month-to-month</td>\n",
       "      <td>Fiber optic</td>\n",
       "      <td>Electronic check</td>\n",
       "      <td>1</td>\n",
       "      <td>0</td>\n",
       "      <td>0</td>\n",
       "      <td>1</td>\n",
       "      <td>0</td>\n",
       "      <td>1</td>\n",
       "      <td>0</td>\n",
       "      <td>1</td>\n",
       "      <td>0</td>\n",
       "      <td>0</td>\n",
       "      <td>1</td>\n",
       "      <td>0</td>\n",
       "      <td>0</td>\n",
       "      <td>1</td>\n",
       "      <td>1</td>\n",
       "      <td>0</td>\n",
       "      <td>0</td>\n",
       "      <td>1</td>\n",
       "      <td>0</td>\n",
       "      <td>0</td>\n",
       "      <td>1</td>\n",
       "      <td>0</td>\n",
       "      <td>0</td>\n",
       "      <td>0</td>\n",
       "      <td>0</td>\n",
       "      <td>1</td>\n",
       "      <td>0</td>\n",
       "      <td>0</td>\n",
       "      <td>1</td>\n",
       "      <td>0</td>\n",
       "      <td>1</td>\n",
       "      <td>1</td>\n",
       "      <td>0</td>\n",
       "      <td>0</td>\n",
       "      <td>0</td>\n",
       "      <td>1</td>\n",
       "      <td>0</td>\n",
       "      <td>0</td>\n",
       "      <td>0</td>\n",
       "      <td>1</td>\n",
       "      <td>0</td>\n",
       "    </tr>\n",
       "  </tbody>\n",
       "</table>\n",
       "<p>1046 rows × 62 columns</p>\n",
       "</div>"
      ],
      "text/plain": [
       "     customer_id  gender  senior_citizen partner dependents  tenure  \\\n",
       "6992  9921-ZVRHG  Female               0      No         No      14   \n",
       "6845  9722-UJOJR    Male               0     Yes        Yes      29   \n",
       "3171  4547-LYTDD  Female               0      No         No      16   \n",
       "2375  3400-ESFUW    Male               0     Yes        Yes      55   \n",
       "4551  6416-TVAIH    Male               0     Yes        Yes       1   \n",
       "...          ...     ...             ...     ...        ...     ...   \n",
       "4739  6680-WKXRZ  Female               0      No         No       3   \n",
       "2194  3144-AUDBS  Female               0     Yes         No       6   \n",
       "659   0963-ZBDRN    Male               0      No         No      32   \n",
       "3359  4791-QRGMF    Male               0     Yes         No      59   \n",
       "3763  5299-RULOA  Female               0     Yes        Yes      10   \n",
       "\n",
       "     phone_service multiple_lines online_security online_backup  \\\n",
       "6992           Yes            Yes              No            No   \n",
       "6845           Yes             No              No            No   \n",
       "3171           Yes            Yes              No            No   \n",
       "2375           Yes             No             Yes           Yes   \n",
       "4551           Yes             No              No            No   \n",
       "...            ...            ...             ...           ...   \n",
       "4739           Yes            Yes              No            No   \n",
       "2194           Yes             No              No            No   \n",
       "659            Yes             No              No            No   \n",
       "3359           Yes            Yes              No            No   \n",
       "3763           Yes            Yes             Yes            No   \n",
       "\n",
       "     device_protection tech_support streaming_tv streaming_movies  \\\n",
       "6992               Yes           No           No               No   \n",
       "6845                No           No           No               No   \n",
       "3171                No           No           No               No   \n",
       "2375                No          Yes           No               No   \n",
       "4551                No           No           No               No   \n",
       "...                ...          ...          ...              ...   \n",
       "4739                No           No           No               No   \n",
       "2194                No          Yes           No               No   \n",
       "659                 No          Yes          Yes              Yes   \n",
       "3359               Yes           No          Yes              Yes   \n",
       "3763                No           No          Yes              Yes   \n",
       "\n",
       "     paperless_billing  monthly_charges  total_charges churn   contract_type  \\\n",
       "6992               Yes            80.45        1072.00   Yes  Month-to-month   \n",
       "6845               Yes            70.75        1974.80   Yes  Month-to-month   \n",
       "3171                No            72.65        1194.30   Yes  Month-to-month   \n",
       "2375                No            57.55        3046.40   Yes        Two year   \n",
       "4551               Yes            68.50          68.50   Yes  Month-to-month   \n",
       "...                ...              ...            ...   ...             ...   \n",
       "4739                No            74.40         215.80   Yes  Month-to-month   \n",
       "2194               Yes            49.15         270.80   Yes  Month-to-month   \n",
       "659                Yes            96.20        3183.40   Yes  Month-to-month   \n",
       "3359               Yes            99.50        5961.10   Yes        One year   \n",
       "3763               Yes           100.25        1064.65   Yes  Month-to-month   \n",
       "\n",
       "     internet_service_type               payment_type  gender_Female  \\\n",
       "6992           Fiber optic           Electronic check              1   \n",
       "6845           Fiber optic           Electronic check              0   \n",
       "3171           Fiber optic           Electronic check              1   \n",
       "2375                   DSL  Bank transfer (automatic)              0   \n",
       "4551           Fiber optic           Electronic check              0   \n",
       "...                    ...                        ...            ...   \n",
       "4739           Fiber optic  Bank transfer (automatic)              1   \n",
       "2194                   DSL           Electronic check              1   \n",
       "659            Fiber optic           Electronic check              0   \n",
       "3359           Fiber optic  Bank transfer (automatic)              0   \n",
       "3763           Fiber optic           Electronic check              1   \n",
       "\n",
       "      gender_Male  partner_No  partner_Yes  dependents_No  dependents_Yes  \\\n",
       "6992            0           1            0              1               0   \n",
       "6845            1           0            1              0               1   \n",
       "3171            0           1            0              1               0   \n",
       "2375            1           0            1              0               1   \n",
       "4551            1           0            1              0               1   \n",
       "...           ...         ...          ...            ...             ...   \n",
       "4739            0           1            0              1               0   \n",
       "2194            0           0            1              1               0   \n",
       "659             1           1            0              1               0   \n",
       "3359            1           0            1              1               0   \n",
       "3763            0           0            1              0               1   \n",
       "\n",
       "      phone_service_No  phone_service_Yes  multiple_lines_No  \\\n",
       "6992                 0                  1                  0   \n",
       "6845                 0                  1                  1   \n",
       "3171                 0                  1                  0   \n",
       "2375                 0                  1                  1   \n",
       "4551                 0                  1                  1   \n",
       "...                ...                ...                ...   \n",
       "4739                 0                  1                  0   \n",
       "2194                 0                  1                  1   \n",
       "659                  0                  1                  1   \n",
       "3359                 0                  1                  0   \n",
       "3763                 0                  1                  0   \n",
       "\n",
       "      multiple_lines_No phone service  multiple_lines_Yes  online_security_No  \\\n",
       "6992                                0                   1                   1   \n",
       "6845                                0                   0                   1   \n",
       "3171                                0                   1                   1   \n",
       "2375                                0                   0                   0   \n",
       "4551                                0                   0                   1   \n",
       "...                               ...                 ...                 ...   \n",
       "4739                                0                   1                   1   \n",
       "2194                                0                   0                   1   \n",
       "659                                 0                   0                   1   \n",
       "3359                                0                   1                   1   \n",
       "3763                                0                   1                   0   \n",
       "\n",
       "      online_security_No internet service  online_security_Yes  \\\n",
       "6992                                    0                    0   \n",
       "6845                                    0                    0   \n",
       "3171                                    0                    0   \n",
       "2375                                    0                    1   \n",
       "4551                                    0                    0   \n",
       "...                                   ...                  ...   \n",
       "4739                                    0                    0   \n",
       "2194                                    0                    0   \n",
       "659                                     0                    0   \n",
       "3359                                    0                    0   \n",
       "3763                                    0                    1   \n",
       "\n",
       "      online_backup_No  online_backup_No internet service  online_backup_Yes  \\\n",
       "6992                 1                                  0                  0   \n",
       "6845                 1                                  0                  0   \n",
       "3171                 1                                  0                  0   \n",
       "2375                 0                                  0                  1   \n",
       "4551                 1                                  0                  0   \n",
       "...                ...                                ...                ...   \n",
       "4739                 1                                  0                  0   \n",
       "2194                 1                                  0                  0   \n",
       "659                  1                                  0                  0   \n",
       "3359                 1                                  0                  0   \n",
       "3763                 1                                  0                  0   \n",
       "\n",
       "      device_protection_No  device_protection_No internet service  \\\n",
       "6992                     0                                      0   \n",
       "6845                     1                                      0   \n",
       "3171                     1                                      0   \n",
       "2375                     1                                      0   \n",
       "4551                     1                                      0   \n",
       "...                    ...                                    ...   \n",
       "4739                     1                                      0   \n",
       "2194                     1                                      0   \n",
       "659                      1                                      0   \n",
       "3359                     0                                      0   \n",
       "3763                     1                                      0   \n",
       "\n",
       "      device_protection_Yes  tech_support_No  \\\n",
       "6992                      1                1   \n",
       "6845                      0                1   \n",
       "3171                      0                1   \n",
       "2375                      0                0   \n",
       "4551                      0                1   \n",
       "...                     ...              ...   \n",
       "4739                      0                1   \n",
       "2194                      0                0   \n",
       "659                       0                0   \n",
       "3359                      1                1   \n",
       "3763                      0                1   \n",
       "\n",
       "      tech_support_No internet service  tech_support_Yes  streaming_tv_No  \\\n",
       "6992                                 0                 0                1   \n",
       "6845                                 0                 0                1   \n",
       "3171                                 0                 0                1   \n",
       "2375                                 0                 1                1   \n",
       "4551                                 0                 0                1   \n",
       "...                                ...               ...              ...   \n",
       "4739                                 0                 0                1   \n",
       "2194                                 0                 1                1   \n",
       "659                                  0                 1                0   \n",
       "3359                                 0                 0                0   \n",
       "3763                                 0                 0                0   \n",
       "\n",
       "      streaming_tv_No internet service  streaming_tv_Yes  streaming_movies_No  \\\n",
       "6992                                 0                 0                    1   \n",
       "6845                                 0                 0                    1   \n",
       "3171                                 0                 0                    1   \n",
       "2375                                 0                 0                    1   \n",
       "4551                                 0                 0                    1   \n",
       "...                                ...               ...                  ...   \n",
       "4739                                 0                 0                    1   \n",
       "2194                                 0                 0                    1   \n",
       "659                                  0                 1                    0   \n",
       "3359                                 0                 1                    0   \n",
       "3763                                 0                 1                    0   \n",
       "\n",
       "      streaming_movies_No internet service  streaming_movies_Yes  \\\n",
       "6992                                     0                     0   \n",
       "6845                                     0                     0   \n",
       "3171                                     0                     0   \n",
       "2375                                     0                     0   \n",
       "4551                                     0                     0   \n",
       "...                                    ...                   ...   \n",
       "4739                                     0                     0   \n",
       "2194                                     0                     0   \n",
       "659                                      0                     1   \n",
       "3359                                     0                     1   \n",
       "3763                                     0                     1   \n",
       "\n",
       "      paperless_billing_No  paperless_billing_Yes  \\\n",
       "6992                     0                      1   \n",
       "6845                     0                      1   \n",
       "3171                     1                      0   \n",
       "2375                     1                      0   \n",
       "4551                     0                      1   \n",
       "...                    ...                    ...   \n",
       "4739                     1                      0   \n",
       "2194                     0                      1   \n",
       "659                      0                      1   \n",
       "3359                     0                      1   \n",
       "3763                     0                      1   \n",
       "\n",
       "      contract_type_Month-to-month  contract_type_One year  \\\n",
       "6992                             1                       0   \n",
       "6845                             1                       0   \n",
       "3171                             1                       0   \n",
       "2375                             0                       0   \n",
       "4551                             1                       0   \n",
       "...                            ...                     ...   \n",
       "4739                             1                       0   \n",
       "2194                             1                       0   \n",
       "659                              1                       0   \n",
       "3359                             0                       1   \n",
       "3763                             1                       0   \n",
       "\n",
       "      contract_type_Two year  internet_service_type_DSL  \\\n",
       "6992                       0                          0   \n",
       "6845                       0                          0   \n",
       "3171                       0                          0   \n",
       "2375                       1                          1   \n",
       "4551                       0                          0   \n",
       "...                      ...                        ...   \n",
       "4739                       0                          0   \n",
       "2194                       0                          1   \n",
       "659                        0                          0   \n",
       "3359                       0                          0   \n",
       "3763                       0                          0   \n",
       "\n",
       "      internet_service_type_Fiber optic  internet_service_type_None  \\\n",
       "6992                                  1                           0   \n",
       "6845                                  1                           0   \n",
       "3171                                  1                           0   \n",
       "2375                                  0                           0   \n",
       "4551                                  1                           0   \n",
       "...                                 ...                         ...   \n",
       "4739                                  1                           0   \n",
       "2194                                  0                           0   \n",
       "659                                   1                           0   \n",
       "3359                                  1                           0   \n",
       "3763                                  1                           0   \n",
       "\n",
       "      payment_type_Bank transfer (automatic)  \\\n",
       "6992                                       0   \n",
       "6845                                       0   \n",
       "3171                                       0   \n",
       "2375                                       1   \n",
       "4551                                       0   \n",
       "...                                      ...   \n",
       "4739                                       1   \n",
       "2194                                       0   \n",
       "659                                        0   \n",
       "3359                                       1   \n",
       "3763                                       0   \n",
       "\n",
       "      payment_type_Credit card (automatic)  payment_type_Electronic check  \\\n",
       "6992                                     0                              1   \n",
       "6845                                     0                              1   \n",
       "3171                                     0                              1   \n",
       "2375                                     0                              0   \n",
       "4551                                     0                              1   \n",
       "...                                    ...                            ...   \n",
       "4739                                     0                              0   \n",
       "2194                                     0                              1   \n",
       "659                                      0                              1   \n",
       "3359                                     0                              0   \n",
       "3763                                     0                              1   \n",
       "\n",
       "      payment_type_Mailed check  \n",
       "6992                          0  \n",
       "6845                          0  \n",
       "3171                          0  \n",
       "2375                          0  \n",
       "4551                          0  \n",
       "...                         ...  \n",
       "4739                          0  \n",
       "2194                          0  \n",
       "659                           0  \n",
       "3359                          0  \n",
       "3763                          0  \n",
       "\n",
       "[1046 rows x 62 columns]"
      ]
     },
     "execution_count": 31,
     "metadata": {},
     "output_type": "execute_result"
    }
   ],
   "source": [
    "train[train.churn == 'Yes']"
   ]
  },
  {
   "cell_type": "code",
   "execution_count": 32,
   "id": "403500cf",
   "metadata": {},
   "outputs": [
    {
     "name": "stdout",
     "output_type": "stream",
     "text": [
      "inequal variance ==> set equl_var to False\n",
      " t-stat:221.89598777895102\n",
      " p-value:7.315880114496924e-49\n",
      "we can reject H0 \n",
      "\n",
      "Because the p-value (2.460130776937842e-43) is less than alpha value (0.05), we reject the null hypothesis\n"
     ]
    }
   ],
   "source": [
    "'''\n",
    "Hypothesis \n",
    "Does monthly charges have a relationship with churn? \n",
    "\n",
    "Variables:\n",
    "* monthly charges (continuous)\n",
    "* churn(discrete)\n",
    "\n",
    "Test: T-test two tail one sample scipy.stats.ttest_ind\n",
    "\n",
    "$H_0$: Mean tenure of Telco customers who churn == mean tenure of Telco customers who do not churn.\n",
    "\n",
    "$H_a$: Tean tenure of Telco customers who churn != mean tenure of Telco customers who do not churn.\n",
    "'''\n",
    "\n",
    "subset_churn =train[train.churn=='Yes']\n",
    "subset_notchurn = train[train.churn =='No']\n",
    "\n",
    "# # stats Levene test - returns p value. small p-value means unequal variances\n",
    "stat, pval =stats.levene(subset_churn.monthly_charges, subset_notchurn.monthly_charges)\n",
    "\n",
    "\n",
    "# high p-value suggests that the populations have equal variances\n",
    "\n",
    "if pval < 0.05:\n",
    "    print('inequal variance ==> set equl_var to False')\n",
    "pval\n",
    "\n",
    "alpha = 0.05\n",
    "\n",
    "t_stat, p_val = stats.ttest_ind(subset_churn.monthly_charges, subset_notchurn.monthly_charges, equal_var = False)\n",
    "print(f' t-stat:{stat}')\n",
    "print(f' p-value:{pval}')\n",
    "\n",
    "if pval/2 < 0.05:\n",
    "    print('we can reject H0 ')\n",
    "    \n",
    "print(f'''\n",
    "Because the p-value ({p_val}) is less than alpha value ({alpha}), we reject the null hypothesis''')"
   ]
  },
  {
   "cell_type": "code",
   "execution_count": 33,
   "id": "6a1f7ece",
   "metadata": {},
   "outputs": [
    {
     "data": {
      "text/plain": [
       "(1046, 62)"
      ]
     },
     "execution_count": 33,
     "metadata": {},
     "output_type": "execute_result"
    }
   ],
   "source": [
    "subset_churn.shape"
   ]
  },
  {
   "cell_type": "raw",
   "id": "a0b4cf8f",
   "metadata": {},
   "source": []
  },
  {
   "cell_type": "code",
   "execution_count": 34,
   "id": "aae48bd8",
   "metadata": {},
   "outputs": [
    {
     "name": "stdout",
     "output_type": "stream",
     "text": [
      " t-stat:12.5961\n",
      " p-value:0.0\n"
     ]
    }
   ],
   "source": [
    "def get_ttest_monthly_charges(df):\n",
    "    \n",
    "    # create two independent sample group of customers: churn and not churn.\n",
    "    subset_churn =df[df.churn=='Yes']\n",
    "    subset_notchurn = df[df.churn =='No']\n",
    "\n",
    "    # # stats Levene test - returns p value. small p-value means unequal variances\n",
    "    stat, pval =stats.levene(subset_churn.monthly_charges, subset_notchurn.monthly_charges)\n",
    "\n",
    "\n",
    "    # high p-value suggests that the populations have equal variances\n",
    "    if pval < 0.05:\n",
    "        variance = True\n",
    "    else:\n",
    "        variance = False\n",
    "\n",
    " \n",
    "    alpha = 0.05\n",
    "\n",
    "    t_stat, p_val = stats.ttest_ind(subset_churn.monthly_charges, subset_notchurn.monthly_charges, equal_var = True,random_state=123)\n",
    "    t_stat = t_stat.round(4)\n",
    "    p_val = p_val.round(4)\n",
    "    print(f' t-stat:{t_stat}')\n",
    "    print(f' p-value:{p_val}')\n",
    "\n",
    "   \n",
    "\n",
    "get_ttest_monthly_charges(train)"
   ]
  },
  {
   "cell_type": "markdown",
   "id": "0120dd08",
   "metadata": {},
   "source": [
    "### REject null hypothesis there is significant difference between the means of of monthly charges of those who churn vs those who do not churn"
   ]
  },
  {
   "cell_type": "markdown",
   "id": "6ed21555",
   "metadata": {},
   "source": [
    "#  Do Senior Citizens churn more than non-Senior Citizens?"
   ]
  },
  {
   "cell_type": "code",
   "execution_count": 35,
   "id": "69fe2906",
   "metadata": {},
   "outputs": [],
   "source": [
    "sub_issenior = train[train.senior_citizen== 1]\n",
    "sub_notsenior = train[train.senior_citizen == 0]"
   ]
  },
  {
   "cell_type": "code",
   "execution_count": 36,
   "id": "2c6bbc8b",
   "metadata": {},
   "outputs": [
    {
     "name": "stderr",
     "output_type": "stream",
     "text": [
      "/opt/homebrew/anaconda3/lib/python3.9/site-packages/seaborn/distributions.py:2619: FutureWarning: `distplot` is a deprecated function and will be removed in a future version. Please adapt your code to use either `displot` (a figure-level function with similar flexibility) or `histplot` (an axes-level function for histograms).\n",
      "  warnings.warn(msg, FutureWarning)\n"
     ]
    },
    {
     "data": {
      "image/png": "[encoded data removed]",
      "text/plain": [
       "<Figure size 432x288 with 1 Axes>"
      ]
     },
     "metadata": {},
     "output_type": "display_data"
    }
   ],
   "source": [
    "sns.distplot(x=train.senior_citizen,norm_hist=True,);"
   ]
  },
  {
   "cell_type": "code",
   "execution_count": 37,
   "id": "018e673f",
   "metadata": {},
   "outputs": [
    {
     "data": {
      "text/html": [
       "<div>\n",
       "<style scoped>\n",
       "    .dataframe tbody tr th:only-of-type {\n",
       "        vertical-align: middle;\n",
       "    }\n",
       "\n",
       "    .dataframe tbody tr th {\n",
       "        vertical-align: top;\n",
       "    }\n",
       "\n",
       "    .dataframe thead th {\n",
       "        text-align: right;\n",
       "    }\n",
       "</style>\n",
       "<table border=\"1\" class=\"dataframe\">\n",
       "  <thead>\n",
       "    <tr style=\"text-align: right;\">\n",
       "      <th></th>\n",
       "      <th>senior_citizen</th>\n",
       "      <th>tenure</th>\n",
       "      <th>monthly_charges</th>\n",
       "      <th>total_charges</th>\n",
       "      <th>gender_Female</th>\n",
       "      <th>gender_Male</th>\n",
       "      <th>partner_No</th>\n",
       "      <th>partner_Yes</th>\n",
       "      <th>dependents_No</th>\n",
       "      <th>dependents_Yes</th>\n",
       "      <th>phone_service_No</th>\n",
       "      <th>phone_service_Yes</th>\n",
       "      <th>multiple_lines_No</th>\n",
       "      <th>multiple_lines_No phone service</th>\n",
       "      <th>multiple_lines_Yes</th>\n",
       "      <th>online_security_No</th>\n",
       "      <th>online_security_No internet service</th>\n",
       "      <th>online_security_Yes</th>\n",
       "      <th>online_backup_No</th>\n",
       "      <th>online_backup_No internet service</th>\n",
       "      <th>online_backup_Yes</th>\n",
       "      <th>device_protection_No</th>\n",
       "      <th>device_protection_No internet service</th>\n",
       "      <th>device_protection_Yes</th>\n",
       "      <th>tech_support_No</th>\n",
       "      <th>tech_support_No internet service</th>\n",
       "      <th>tech_support_Yes</th>\n",
       "      <th>streaming_tv_No</th>\n",
       "      <th>streaming_tv_No internet service</th>\n",
       "      <th>streaming_tv_Yes</th>\n",
       "      <th>streaming_movies_No</th>\n",
       "      <th>streaming_movies_No internet service</th>\n",
       "      <th>streaming_movies_Yes</th>\n",
       "      <th>paperless_billing_No</th>\n",
       "      <th>paperless_billing_Yes</th>\n",
       "      <th>contract_type_Month-to-month</th>\n",
       "      <th>contract_type_One year</th>\n",
       "      <th>contract_type_Two year</th>\n",
       "      <th>internet_service_type_DSL</th>\n",
       "      <th>internet_service_type_Fiber optic</th>\n",
       "      <th>internet_service_type_None</th>\n",
       "      <th>payment_type_Bank transfer (automatic)</th>\n",
       "      <th>payment_type_Credit card (automatic)</th>\n",
       "      <th>payment_type_Electronic check</th>\n",
       "      <th>payment_type_Mailed check</th>\n",
       "    </tr>\n",
       "  </thead>\n",
       "  <tbody>\n",
       "    <tr>\n",
       "      <th>count</th>\n",
       "      <td>635.0</td>\n",
       "      <td>635.000000</td>\n",
       "      <td>635.000000</td>\n",
       "      <td>635.000000</td>\n",
       "      <td>635.000000</td>\n",
       "      <td>635.000000</td>\n",
       "      <td>635.000000</td>\n",
       "      <td>635.000000</td>\n",
       "      <td>635.000000</td>\n",
       "      <td>635.000000</td>\n",
       "      <td>635.000000</td>\n",
       "      <td>635.000000</td>\n",
       "      <td>635.000000</td>\n",
       "      <td>635.000000</td>\n",
       "      <td>635.000000</td>\n",
       "      <td>635.000000</td>\n",
       "      <td>635.000000</td>\n",
       "      <td>635.000000</td>\n",
       "      <td>635.000000</td>\n",
       "      <td>635.000000</td>\n",
       "      <td>635.000000</td>\n",
       "      <td>635.000000</td>\n",
       "      <td>635.000000</td>\n",
       "      <td>635.000000</td>\n",
       "      <td>635.000000</td>\n",
       "      <td>635.000000</td>\n",
       "      <td>635.000000</td>\n",
       "      <td>635.000000</td>\n",
       "      <td>635.000000</td>\n",
       "      <td>635.000000</td>\n",
       "      <td>635.000000</td>\n",
       "      <td>635.000000</td>\n",
       "      <td>635.000000</td>\n",
       "      <td>635.000000</td>\n",
       "      <td>635.000000</td>\n",
       "      <td>635.000000</td>\n",
       "      <td>635.000000</td>\n",
       "      <td>635.000000</td>\n",
       "      <td>635.000000</td>\n",
       "      <td>635.000000</td>\n",
       "      <td>635.000000</td>\n",
       "      <td>635.000000</td>\n",
       "      <td>635.000000</td>\n",
       "      <td>635.000000</td>\n",
       "      <td>635.000000</td>\n",
       "    </tr>\n",
       "    <tr>\n",
       "      <th>mean</th>\n",
       "      <td>1.0</td>\n",
       "      <td>33.470866</td>\n",
       "      <td>80.295591</td>\n",
       "      <td>2873.479685</td>\n",
       "      <td>0.513386</td>\n",
       "      <td>0.486614</td>\n",
       "      <td>0.494488</td>\n",
       "      <td>0.505512</td>\n",
       "      <td>0.913386</td>\n",
       "      <td>0.086614</td>\n",
       "      <td>0.086614</td>\n",
       "      <td>0.913386</td>\n",
       "      <td>0.329134</td>\n",
       "      <td>0.086614</td>\n",
       "      <td>0.584252</td>\n",
       "      <td>0.708661</td>\n",
       "      <td>0.039370</td>\n",
       "      <td>0.251969</td>\n",
       "      <td>0.533858</td>\n",
       "      <td>0.039370</td>\n",
       "      <td>0.426772</td>\n",
       "      <td>0.538583</td>\n",
       "      <td>0.039370</td>\n",
       "      <td>0.422047</td>\n",
       "      <td>0.729134</td>\n",
       "      <td>0.039370</td>\n",
       "      <td>0.231496</td>\n",
       "      <td>0.456693</td>\n",
       "      <td>0.039370</td>\n",
       "      <td>0.503937</td>\n",
       "      <td>0.423622</td>\n",
       "      <td>0.039370</td>\n",
       "      <td>0.537008</td>\n",
       "      <td>0.218898</td>\n",
       "      <td>0.781102</td>\n",
       "      <td>0.699213</td>\n",
       "      <td>0.179528</td>\n",
       "      <td>0.121260</td>\n",
       "      <td>0.239370</td>\n",
       "      <td>0.721260</td>\n",
       "      <td>0.039370</td>\n",
       "      <td>0.207874</td>\n",
       "      <td>0.207874</td>\n",
       "      <td>0.510236</td>\n",
       "      <td>0.074016</td>\n",
       "    </tr>\n",
       "    <tr>\n",
       "      <th>std</th>\n",
       "      <td>0.0</td>\n",
       "      <td>24.362736</td>\n",
       "      <td>23.316690</td>\n",
       "      <td>2406.294046</td>\n",
       "      <td>0.500215</td>\n",
       "      <td>0.500215</td>\n",
       "      <td>0.500364</td>\n",
       "      <td>0.500364</td>\n",
       "      <td>0.281491</td>\n",
       "      <td>0.281491</td>\n",
       "      <td>0.281491</td>\n",
       "      <td>0.281491</td>\n",
       "      <td>0.470269</td>\n",
       "      <td>0.281491</td>\n",
       "      <td>0.493239</td>\n",
       "      <td>0.454737</td>\n",
       "      <td>0.194627</td>\n",
       "      <td>0.434486</td>\n",
       "      <td>0.499246</td>\n",
       "      <td>0.194627</td>\n",
       "      <td>0.494998</td>\n",
       "      <td>0.498902</td>\n",
       "      <td>0.194627</td>\n",
       "      <td>0.494275</td>\n",
       "      <td>0.444757</td>\n",
       "      <td>0.194627</td>\n",
       "      <td>0.422121</td>\n",
       "      <td>0.498514</td>\n",
       "      <td>0.194627</td>\n",
       "      <td>0.500379</td>\n",
       "      <td>0.494522</td>\n",
       "      <td>0.194627</td>\n",
       "      <td>0.499022</td>\n",
       "      <td>0.413825</td>\n",
       "      <td>0.413825</td>\n",
       "      <td>0.458962</td>\n",
       "      <td>0.384096</td>\n",
       "      <td>0.326686</td>\n",
       "      <td>0.427035</td>\n",
       "      <td>0.448733</td>\n",
       "      <td>0.194627</td>\n",
       "      <td>0.406106</td>\n",
       "      <td>0.406106</td>\n",
       "      <td>0.500289</td>\n",
       "      <td>0.262003</td>\n",
       "    </tr>\n",
       "    <tr>\n",
       "      <th>min</th>\n",
       "      <td>1.0</td>\n",
       "      <td>1.000000</td>\n",
       "      <td>19.300000</td>\n",
       "      <td>19.450000</td>\n",
       "      <td>0.000000</td>\n",
       "      <td>0.000000</td>\n",
       "      <td>0.000000</td>\n",
       "      <td>0.000000</td>\n",
       "      <td>0.000000</td>\n",
       "      <td>0.000000</td>\n",
       "      <td>0.000000</td>\n",
       "      <td>0.000000</td>\n",
       "      <td>0.000000</td>\n",
       "      <td>0.000000</td>\n",
       "      <td>0.000000</td>\n",
       "      <td>0.000000</td>\n",
       "      <td>0.000000</td>\n",
       "      <td>0.000000</td>\n",
       "      <td>0.000000</td>\n",
       "      <td>0.000000</td>\n",
       "      <td>0.000000</td>\n",
       "      <td>0.000000</td>\n",
       "      <td>0.000000</td>\n",
       "      <td>0.000000</td>\n",
       "      <td>0.000000</td>\n",
       "      <td>0.000000</td>\n",
       "      <td>0.000000</td>\n",
       "      <td>0.000000</td>\n",
       "      <td>0.000000</td>\n",
       "      <td>0.000000</td>\n",
       "      <td>0.000000</td>\n",
       "      <td>0.000000</td>\n",
       "      <td>0.000000</td>\n",
       "      <td>0.000000</td>\n",
       "      <td>0.000000</td>\n",
       "      <td>0.000000</td>\n",
       "      <td>0.000000</td>\n",
       "      <td>0.000000</td>\n",
       "      <td>0.000000</td>\n",
       "      <td>0.000000</td>\n",
       "      <td>0.000000</td>\n",
       "      <td>0.000000</td>\n",
       "      <td>0.000000</td>\n",
       "      <td>0.000000</td>\n",
       "      <td>0.000000</td>\n",
       "    </tr>\n",
       "    <tr>\n",
       "      <th>25%</th>\n",
       "      <td>1.0</td>\n",
       "      <td>10.000000</td>\n",
       "      <td>70.200000</td>\n",
       "      <td>635.350000</td>\n",
       "      <td>0.000000</td>\n",
       "      <td>0.000000</td>\n",
       "      <td>0.000000</td>\n",
       "      <td>0.000000</td>\n",
       "      <td>1.000000</td>\n",
       "      <td>0.000000</td>\n",
       "      <td>0.000000</td>\n",
       "      <td>1.000000</td>\n",
       "      <td>0.000000</td>\n",
       "      <td>0.000000</td>\n",
       "      <td>0.000000</td>\n",
       "      <td>0.000000</td>\n",
       "      <td>0.000000</td>\n",
       "      <td>0.000000</td>\n",
       "      <td>0.000000</td>\n",
       "      <td>0.000000</td>\n",
       "      <td>0.000000</td>\n",
       "      <td>0.000000</td>\n",
       "      <td>0.000000</td>\n",
       "      <td>0.000000</td>\n",
       "      <td>0.000000</td>\n",
       "      <td>0.000000</td>\n",
       "      <td>0.000000</td>\n",
       "      <td>0.000000</td>\n",
       "      <td>0.000000</td>\n",
       "      <td>0.000000</td>\n",
       "      <td>0.000000</td>\n",
       "      <td>0.000000</td>\n",
       "      <td>0.000000</td>\n",
       "      <td>0.000000</td>\n",
       "      <td>1.000000</td>\n",
       "      <td>0.000000</td>\n",
       "      <td>0.000000</td>\n",
       "      <td>0.000000</td>\n",
       "      <td>0.000000</td>\n",
       "      <td>0.000000</td>\n",
       "      <td>0.000000</td>\n",
       "      <td>0.000000</td>\n",
       "      <td>0.000000</td>\n",
       "      <td>0.000000</td>\n",
       "      <td>0.000000</td>\n",
       "    </tr>\n",
       "    <tr>\n",
       "      <th>50%</th>\n",
       "      <td>1.0</td>\n",
       "      <td>31.000000</td>\n",
       "      <td>84.950000</td>\n",
       "      <td>2401.050000</td>\n",
       "      <td>1.000000</td>\n",
       "      <td>0.000000</td>\n",
       "      <td>0.000000</td>\n",
       "      <td>1.000000</td>\n",
       "      <td>1.000000</td>\n",
       "      <td>0.000000</td>\n",
       "      <td>0.000000</td>\n",
       "      <td>1.000000</td>\n",
       "      <td>0.000000</td>\n",
       "      <td>0.000000</td>\n",
       "      <td>1.000000</td>\n",
       "      <td>1.000000</td>\n",
       "      <td>0.000000</td>\n",
       "      <td>0.000000</td>\n",
       "      <td>1.000000</td>\n",
       "      <td>0.000000</td>\n",
       "      <td>0.000000</td>\n",
       "      <td>1.000000</td>\n",
       "      <td>0.000000</td>\n",
       "      <td>0.000000</td>\n",
       "      <td>1.000000</td>\n",
       "      <td>0.000000</td>\n",
       "      <td>0.000000</td>\n",
       "      <td>0.000000</td>\n",
       "      <td>0.000000</td>\n",
       "      <td>1.000000</td>\n",
       "      <td>0.000000</td>\n",
       "      <td>0.000000</td>\n",
       "      <td>1.000000</td>\n",
       "      <td>0.000000</td>\n",
       "      <td>1.000000</td>\n",
       "      <td>1.000000</td>\n",
       "      <td>0.000000</td>\n",
       "      <td>0.000000</td>\n",
       "      <td>0.000000</td>\n",
       "      <td>1.000000</td>\n",
       "      <td>0.000000</td>\n",
       "      <td>0.000000</td>\n",
       "      <td>0.000000</td>\n",
       "      <td>1.000000</td>\n",
       "      <td>0.000000</td>\n",
       "    </tr>\n",
       "    <tr>\n",
       "      <th>75%</th>\n",
       "      <td>1.0</td>\n",
       "      <td>56.500000</td>\n",
       "      <td>97.875000</td>\n",
       "      <td>4779.575000</td>\n",
       "      <td>1.000000</td>\n",
       "      <td>1.000000</td>\n",
       "      <td>1.000000</td>\n",
       "      <td>1.000000</td>\n",
       "      <td>1.000000</td>\n",
       "      <td>0.000000</td>\n",
       "      <td>0.000000</td>\n",
       "      <td>1.000000</td>\n",
       "      <td>1.000000</td>\n",
       "      <td>0.000000</td>\n",
       "      <td>1.000000</td>\n",
       "      <td>1.000000</td>\n",
       "      <td>0.000000</td>\n",
       "      <td>1.000000</td>\n",
       "      <td>1.000000</td>\n",
       "      <td>0.000000</td>\n",
       "      <td>1.000000</td>\n",
       "      <td>1.000000</td>\n",
       "      <td>0.000000</td>\n",
       "      <td>1.000000</td>\n",
       "      <td>1.000000</td>\n",
       "      <td>0.000000</td>\n",
       "      <td>0.000000</td>\n",
       "      <td>1.000000</td>\n",
       "      <td>0.000000</td>\n",
       "      <td>1.000000</td>\n",
       "      <td>1.000000</td>\n",
       "      <td>0.000000</td>\n",
       "      <td>1.000000</td>\n",
       "      <td>0.000000</td>\n",
       "      <td>1.000000</td>\n",
       "      <td>1.000000</td>\n",
       "      <td>0.000000</td>\n",
       "      <td>0.000000</td>\n",
       "      <td>0.000000</td>\n",
       "      <td>1.000000</td>\n",
       "      <td>0.000000</td>\n",
       "      <td>0.000000</td>\n",
       "      <td>0.000000</td>\n",
       "      <td>1.000000</td>\n",
       "      <td>0.000000</td>\n",
       "    </tr>\n",
       "    <tr>\n",
       "      <th>max</th>\n",
       "      <td>1.0</td>\n",
       "      <td>72.000000</td>\n",
       "      <td>117.450000</td>\n",
       "      <td>8443.700000</td>\n",
       "      <td>1.000000</td>\n",
       "      <td>1.000000</td>\n",
       "      <td>1.000000</td>\n",
       "      <td>1.000000</td>\n",
       "      <td>1.000000</td>\n",
       "      <td>1.000000</td>\n",
       "      <td>1.000000</td>\n",
       "      <td>1.000000</td>\n",
       "      <td>1.000000</td>\n",
       "      <td>1.000000</td>\n",
       "      <td>1.000000</td>\n",
       "      <td>1.000000</td>\n",
       "      <td>1.000000</td>\n",
       "      <td>1.000000</td>\n",
       "      <td>1.000000</td>\n",
       "      <td>1.000000</td>\n",
       "      <td>1.000000</td>\n",
       "      <td>1.000000</td>\n",
       "      <td>1.000000</td>\n",
       "      <td>1.000000</td>\n",
       "      <td>1.000000</td>\n",
       "      <td>1.000000</td>\n",
       "      <td>1.000000</td>\n",
       "      <td>1.000000</td>\n",
       "      <td>1.000000</td>\n",
       "      <td>1.000000</td>\n",
       "      <td>1.000000</td>\n",
       "      <td>1.000000</td>\n",
       "      <td>1.000000</td>\n",
       "      <td>1.000000</td>\n",
       "      <td>1.000000</td>\n",
       "      <td>1.000000</td>\n",
       "      <td>1.000000</td>\n",
       "      <td>1.000000</td>\n",
       "      <td>1.000000</td>\n",
       "      <td>1.000000</td>\n",
       "      <td>1.000000</td>\n",
       "      <td>1.000000</td>\n",
       "      <td>1.000000</td>\n",
       "      <td>1.000000</td>\n",
       "      <td>1.000000</td>\n",
       "    </tr>\n",
       "  </tbody>\n",
       "</table>\n",
       "</div>"
      ],
      "text/plain": [
       "       senior_citizen      tenure  monthly_charges  total_charges  \\\n",
       "count           635.0  635.000000       635.000000     635.000000   \n",
       "mean              1.0   33.470866        80.295591    2873.479685   \n",
       "std               0.0   24.362736        23.316690    2406.294046   \n",
       "min               1.0    1.000000        19.300000      19.450000   \n",
       "25%               1.0   10.000000        70.200000     635.350000   \n",
       "50%               1.0   31.000000        84.950000    2401.050000   \n",
       "75%               1.0   56.500000        97.875000    4779.575000   \n",
       "max               1.0   72.000000       117.450000    8443.700000   \n",
       "\n",
       "       gender_Female  gender_Male  partner_No  partner_Yes  dependents_No  \\\n",
       "count     635.000000   635.000000  635.000000   635.000000     635.000000   \n",
       "mean        0.513386     0.486614    0.494488     0.505512       0.913386   \n",
       "std         0.500215     0.500215    0.500364     0.500364       0.281491   \n",
       "min         0.000000     0.000000    0.000000     0.000000       0.000000   \n",
       "25%         0.000000     0.000000    0.000000     0.000000       1.000000   \n",
       "50%         1.000000     0.000000    0.000000     1.000000       1.000000   \n",
       "75%         1.000000     1.000000    1.000000     1.000000       1.000000   \n",
       "max         1.000000     1.000000    1.000000     1.000000       1.000000   \n",
       "\n",
       "       dependents_Yes  phone_service_No  phone_service_Yes  multiple_lines_No  \\\n",
       "count      635.000000        635.000000         635.000000         635.000000   \n",
       "mean         0.086614          0.086614           0.913386           0.329134   \n",
       "std          0.281491          0.281491           0.281491           0.470269   \n",
       "min          0.000000          0.000000           0.000000           0.000000   \n",
       "25%          0.000000          0.000000           1.000000           0.000000   \n",
       "50%          0.000000          0.000000           1.000000           0.000000   \n",
       "75%          0.000000          0.000000           1.000000           1.000000   \n",
       "max          1.000000          1.000000           1.000000           1.000000   \n",
       "\n",
       "       multiple_lines_No phone service  multiple_lines_Yes  \\\n",
       "count                       635.000000          635.000000   \n",
       "mean                          0.086614            0.584252   \n",
       "std                           0.281491            0.493239   \n",
       "min                           0.000000            0.000000   \n",
       "25%                           0.000000            0.000000   \n",
       "50%                           0.000000            1.000000   \n",
       "75%                           0.000000            1.000000   \n",
       "max                           1.000000            1.000000   \n",
       "\n",
       "       online_security_No  online_security_No internet service  \\\n",
       "count          635.000000                           635.000000   \n",
       "mean             0.708661                             0.039370   \n",
       "std              0.454737                             0.194627   \n",
       "min              0.000000                             0.000000   \n",
       "25%              0.000000                             0.000000   \n",
       "50%              1.000000                             0.000000   \n",
       "75%              1.000000                             0.000000   \n",
       "max              1.000000                             1.000000   \n",
       "\n",
       "       online_security_Yes  online_backup_No  \\\n",
       "count           635.000000        635.000000   \n",
       "mean              0.251969          0.533858   \n",
       "std               0.434486          0.499246   \n",
       "min               0.000000          0.000000   \n",
       "25%               0.000000          0.000000   \n",
       "50%               0.000000          1.000000   \n",
       "75%               1.000000          1.000000   \n",
       "max               1.000000          1.000000   \n",
       "\n",
       "       online_backup_No internet service  online_backup_Yes  \\\n",
       "count                         635.000000         635.000000   \n",
       "mean                            0.039370           0.426772   \n",
       "std                             0.194627           0.494998   \n",
       "min                             0.000000           0.000000   \n",
       "25%                             0.000000           0.000000   \n",
       "50%                             0.000000           0.000000   \n",
       "75%                             0.000000           1.000000   \n",
       "max                             1.000000           1.000000   \n",
       "\n",
       "       device_protection_No  device_protection_No internet service  \\\n",
       "count            635.000000                             635.000000   \n",
       "mean               0.538583                               0.039370   \n",
       "std                0.498902                               0.194627   \n",
       "min                0.000000                               0.000000   \n",
       "25%                0.000000                               0.000000   \n",
       "50%                1.000000                               0.000000   \n",
       "75%                1.000000                               0.000000   \n",
       "max                1.000000                               1.000000   \n",
       "\n",
       "       device_protection_Yes  tech_support_No  \\\n",
       "count             635.000000       635.000000   \n",
       "mean                0.422047         0.729134   \n",
       "std                 0.494275         0.444757   \n",
       "min                 0.000000         0.000000   \n",
       "25%                 0.000000         0.000000   \n",
       "50%                 0.000000         1.000000   \n",
       "75%                 1.000000         1.000000   \n",
       "max                 1.000000         1.000000   \n",
       "\n",
       "       tech_support_No internet service  tech_support_Yes  streaming_tv_No  \\\n",
       "count                        635.000000        635.000000       635.000000   \n",
       "mean                           0.039370          0.231496         0.456693   \n",
       "std                            0.194627          0.422121         0.498514   \n",
       "min                            0.000000          0.000000         0.000000   \n",
       "25%                            0.000000          0.000000         0.000000   \n",
       "50%                            0.000000          0.000000         0.000000   \n",
       "75%                            0.000000          0.000000         1.000000   \n",
       "max                            1.000000          1.000000         1.000000   \n",
       "\n",
       "       streaming_tv_No internet service  streaming_tv_Yes  \\\n",
       "count                        635.000000        635.000000   \n",
       "mean                           0.039370          0.503937   \n",
       "std                            0.194627          0.500379   \n",
       "min                            0.000000          0.000000   \n",
       "25%                            0.000000          0.000000   \n",
       "50%                            0.000000          1.000000   \n",
       "75%                            0.000000          1.000000   \n",
       "max                            1.000000          1.000000   \n",
       "\n",
       "       streaming_movies_No  streaming_movies_No internet service  \\\n",
       "count           635.000000                            635.000000   \n",
       "mean              0.423622                              0.039370   \n",
       "std               0.494522                              0.194627   \n",
       "min               0.000000                              0.000000   \n",
       "25%               0.000000                              0.000000   \n",
       "50%               0.000000                              0.000000   \n",
       "75%               1.000000                              0.000000   \n",
       "max               1.000000                              1.000000   \n",
       "\n",
       "       streaming_movies_Yes  paperless_billing_No  paperless_billing_Yes  \\\n",
       "count            635.000000            635.000000             635.000000   \n",
       "mean               0.537008              0.218898               0.781102   \n",
       "std                0.499022              0.413825               0.413825   \n",
       "min                0.000000              0.000000               0.000000   \n",
       "25%                0.000000              0.000000               1.000000   \n",
       "50%                1.000000              0.000000               1.000000   \n",
       "75%                1.000000              0.000000               1.000000   \n",
       "max                1.000000              1.000000               1.000000   \n",
       "\n",
       "       contract_type_Month-to-month  contract_type_One year  \\\n",
       "count                    635.000000              635.000000   \n",
       "mean                       0.699213                0.179528   \n",
       "std                        0.458962                0.384096   \n",
       "min                        0.000000                0.000000   \n",
       "25%                        0.000000                0.000000   \n",
       "50%                        1.000000                0.000000   \n",
       "75%                        1.000000                0.000000   \n",
       "max                        1.000000                1.000000   \n",
       "\n",
       "       contract_type_Two year  internet_service_type_DSL  \\\n",
       "count              635.000000                 635.000000   \n",
       "mean                 0.121260                   0.239370   \n",
       "std                  0.326686                   0.427035   \n",
       "min                  0.000000                   0.000000   \n",
       "25%                  0.000000                   0.000000   \n",
       "50%                  0.000000                   0.000000   \n",
       "75%                  0.000000                   0.000000   \n",
       "max                  1.000000                   1.000000   \n",
       "\n",
       "       internet_service_type_Fiber optic  internet_service_type_None  \\\n",
       "count                         635.000000                  635.000000   \n",
       "mean                            0.721260                    0.039370   \n",
       "std                             0.448733                    0.194627   \n",
       "min                             0.000000                    0.000000   \n",
       "25%                             0.000000                    0.000000   \n",
       "50%                             1.000000                    0.000000   \n",
       "75%                             1.000000                    0.000000   \n",
       "max                             1.000000                    1.000000   \n",
       "\n",
       "       payment_type_Bank transfer (automatic)  \\\n",
       "count                              635.000000   \n",
       "mean                                 0.207874   \n",
       "std                                  0.406106   \n",
       "min                                  0.000000   \n",
       "25%                                  0.000000   \n",
       "50%                                  0.000000   \n",
       "75%                                  0.000000   \n",
       "max                                  1.000000   \n",
       "\n",
       "       payment_type_Credit card (automatic)  payment_type_Electronic check  \\\n",
       "count                            635.000000                     635.000000   \n",
       "mean                               0.207874                       0.510236   \n",
       "std                                0.406106                       0.500289   \n",
       "min                                0.000000                       0.000000   \n",
       "25%                                0.000000                       0.000000   \n",
       "50%                                0.000000                       1.000000   \n",
       "75%                                0.000000                       1.000000   \n",
       "max                                1.000000                       1.000000   \n",
       "\n",
       "       payment_type_Mailed check  \n",
       "count                 635.000000  \n",
       "mean                    0.074016  \n",
       "std                     0.262003  \n",
       "min                     0.000000  \n",
       "25%                     0.000000  \n",
       "50%                     0.000000  \n",
       "75%                     0.000000  \n",
       "max                     1.000000  "
      ]
     },
     "execution_count": 37,
     "metadata": {},
     "output_type": "execute_result"
    }
   ],
   "source": [
    "sub_issenior.describe()"
   ]
  },
  {
   "cell_type": "code",
   "execution_count": 38,
   "id": "58fcc574",
   "metadata": {},
   "outputs": [
    {
     "data": {
      "text/plain": [
       "No     0.765294\n",
       "Yes    0.234706\n",
       "Name: churn, dtype: float64"
      ]
     },
     "execution_count": 38,
     "metadata": {},
     "output_type": "execute_result"
    }
   ],
   "source": [
    "sub_notsenior.churn.value_counts(normalize= True)"
   ]
  },
  {
   "cell_type": "code",
   "execution_count": 39,
   "id": "a560f0ff",
   "metadata": {
    "scrolled": true
   },
   "outputs": [
    {
     "data": {
      "text/plain": [
       "No     0.765294\n",
       "Yes    0.234706\n",
       "Name: churn, dtype: float64"
      ]
     },
     "execution_count": 39,
     "metadata": {},
     "output_type": "execute_result"
    }
   ],
   "source": [
    "sub_notsenior.churn.value_counts(normalize= True)"
   ]
  },
  {
   "cell_type": "code",
   "execution_count": 40,
   "id": "e1d254d8",
   "metadata": {
    "scrolled": false
   },
   "outputs": [
    {
     "data": {
      "text/plain": [
       "No     0.573228\n",
       "Yes    0.426772\n",
       "Name: churn, dtype: float64"
      ]
     },
     "execution_count": 40,
     "metadata": {},
     "output_type": "execute_result"
    }
   ],
   "source": [
    "sub_issenior.churn.value_counts(normalize = True)"
   ]
  },
  {
   "cell_type": "code",
   "execution_count": 41,
   "id": "be69d729",
   "metadata": {},
   "outputs": [
    {
     "data": {
      "text/plain": [
       "5919    0\n",
       "1915    0\n",
       "5054    0\n",
       "2355    0\n",
       "6279    1\n",
       "       ..\n",
       "394     0\n",
       "3763    0\n",
       "3444    0\n",
       "1002    0\n",
       "4192    0\n",
       "Name: senior_citizen, Length: 3937, dtype: int64"
      ]
     },
     "execution_count": 41,
     "metadata": {},
     "output_type": "execute_result"
    }
   ],
   "source": [
    "train.senior_citizen"
   ]
  },
  {
   "cell_type": "code",
   "execution_count": 88,
   "id": "90344e4f",
   "metadata": {
    "scrolled": false
   },
   "outputs": [
    {
     "data": {
      "image/png": "[encoded data removed]",
      "text/plain": [
       "<Figure size 432x288 with 1 Axes>"
      ]
     },
     "metadata": {},
     "output_type": "display_data"
    }
   ],
   "source": [
    "def senior(train): \n",
    "    senior= train.senior_citizen.map({1:'Yes', 0: 'No'})\n",
    "    sns.histplot(data = train, x= senior, stat=\"percent\", multiple=\"dodge\", shrink=.8, hue='churn')\n",
    "    plt.show()\n",
    "\n",
    "senior(train)"
   ]
  },
  {
   "cell_type": "code",
   "execution_count": 43,
   "id": "ae4fafc7",
   "metadata": {
    "scrolled": true
   },
   "outputs": [
    {
     "data": {
      "text/plain": [
       "5919    0\n",
       "1915    0\n",
       "5054    0\n",
       "2355    0\n",
       "6279    1\n",
       "       ..\n",
       "394     0\n",
       "3763    0\n",
       "3444    0\n",
       "1002    0\n",
       "4192    0\n",
       "Name: senior_citizen, Length: 3937, dtype: int64"
      ]
     },
     "execution_count": 43,
     "metadata": {},
     "output_type": "execute_result"
    }
   ],
   "source": [
    "train.senior_citizen"
   ]
  },
  {
   "cell_type": "code",
   "execution_count": 44,
   "id": "e82cfd8f",
   "metadata": {},
   "outputs": [
    {
     "data": {
      "text/plain": [
       "<AxesSubplot:xlabel='senior_citizen', ylabel='churn'>"
      ]
     },
     "execution_count": 44,
     "metadata": {},
     "output_type": "execute_result"
    },
    {
     "data": {
      "image/png": "[encoded data removed]",
      "text/plain": [
       "<Figure size 432x288 with 1 Axes>"
      ]
     },
     "metadata": {},
     "output_type": "display_data"
    }
   ],
   "source": [
    "sns.barplot(x='senior_citizen', y=\"churn\", hue=\"churn\", \n",
    "                  data=train, ci=None)"
   ]
  },
  {
   "cell_type": "code",
   "execution_count": 45,
   "id": "418f3ef0",
   "metadata": {
    "scrolled": true
   },
   "outputs": [
    {
     "data": {
      "text/plain": [
       "<BarContainer object of 2 artists>"
      ]
     },
     "execution_count": 45,
     "metadata": {},
     "output_type": "execute_result"
    },
    {
     "data": {
      "image/png": "[encoded data removed]",
      "text/plain": [
       "<Figure size 432x288 with 1 Axes>"
      ]
     },
     "metadata": {},
     "output_type": "display_data"
    }
   ],
   "source": [
    "fig, ax = plt.subplots()\n",
    "ax =sns.histplot(data = train, x= 'senior_citizen', stat=\"percent\", multiple=\"dodge\", shrink=.8, hue='churn')\n",
    "ax.bar(['Not Senior Citizen', 'Senior Citizen'],0)\n",
    "\n",
    "\n",
    "# sns.histplot(data = train, x=train.senior_citizen == 0, stat=\"percent\")"
   ]
  },
  {
   "cell_type": "code",
   "execution_count": 46,
   "id": "216496da",
   "metadata": {},
   "outputs": [
    {
     "data": {
      "text/plain": [
       "5919    0\n",
       "1915    0\n",
       "5054    0\n",
       "2355    0\n",
       "6279    1\n",
       "Name: senior_citizen, dtype: int64"
      ]
     },
     "execution_count": 46,
     "metadata": {},
     "output_type": "execute_result"
    }
   ],
   "source": [
    "train.senior_citizen.head()"
   ]
  },
  {
   "cell_type": "code",
   "execution_count": 47,
   "id": "164e9c03",
   "metadata": {},
   "outputs": [
    {
     "data": {
      "text/plain": [
       "<matplotlib.legend.Legend at 0x15cc23ac0>"
      ]
     },
     "execution_count": 47,
     "metadata": {},
     "output_type": "execute_result"
    },
    {
     "data": {
      "image/png": "[encoded data removed]",
      "text/plain": [
       "<Figure size 789.625x360 with 2 Axes>"
      ]
     },
     "metadata": {},
     "output_type": "display_data"
    }
   ],
   "source": [
    "sns.displot(data = train, x='churn', hue ='senior_citizen', col='senior_citizen',palette= 'cubehelix')\n",
    "plt.legend(train.churn)"
   ]
  },
  {
   "cell_type": "code",
   "execution_count": 48,
   "id": "039d7ba2",
   "metadata": {},
   "outputs": [
    {
     "data": {
      "text/plain": [
       "<seaborn.axisgrid.FacetGrid at 0x15bb8d0d0>"
      ]
     },
     "execution_count": 48,
     "metadata": {},
     "output_type": "execute_result"
    },
    {
     "data": {
      "image/png": "[encoded data removed]",
      "text/plain": [
       "<Figure size 360x360 with 1 Axes>"
      ]
     },
     "metadata": {},
     "output_type": "display_data"
    }
   ],
   "source": [
    "sns.displot()"
   ]
  },
  {
   "cell_type": "code",
   "execution_count": 49,
   "id": "5054ae86",
   "metadata": {},
   "outputs": [
    {
     "data": {
      "text/plain": [
       "<BarContainer object of 2 artists>"
      ]
     },
     "execution_count": 49,
     "metadata": {},
     "output_type": "execute_result"
    },
    {
     "data": {
      "image/png": "[encoded data removed]",
      "text/plain": [
       "<Figure size 432x288 with 1 Axes>"
      ]
     },
     "metadata": {},
     "output_type": "display_data"
    }
   ],
   "source": [
    "fig, ax = plt.subplots()\n",
    "ax = sns.histplot(data = train, x= train.senior_citizen,bins=2 , stat=\"percent\", multiple=\"dodge\",  hue='churn')\n",
    "ax.bar(['Not Senior Citizen', 'Senior Citizen'],0)\n",
    "#plt.xticks(np.arange(0,4,1));\n"
   ]
  },
  {
   "cell_type": "code",
   "execution_count": 50,
   "id": "2f3a591a",
   "metadata": {},
   "outputs": [
    {
     "data": {
      "text/plain": [
       "<AxesSubplot:xlabel='senior_citizen', ylabel='Percent'>"
      ]
     },
     "execution_count": 50,
     "metadata": {},
     "output_type": "execute_result"
    },
    {
     "data": {
      "image/png": "[encoded data removed]",
      "text/plain": [
       "<Figure size 432x288 with 1 Axes>"
      ]
     },
     "metadata": {},
     "output_type": "display_data"
    }
   ],
   "source": [
    "sns.histplot(data =train, cbar=True,x='senior_citizen',stat='percent',hue='churn', palette='cubehelix',multiple='dodge')\n"
   ]
  },
  {
   "cell_type": "code",
   "execution_count": 208,
   "id": "31451016",
   "metadata": {
    "scrolled": true
   },
   "outputs": [
    {
     "data": {
      "image/png": "[encoded data removed]",
      "text/plain": [
       "<Figure size 720x360 with 2 Axes>"
      ]
     },
     "metadata": {},
     "output_type": "display_data"
    }
   ],
   "source": [
    "\n",
    "def get_bar_senior(df):\n",
    "  \n",
    "    plt.figure(figsize=(10,5))\n",
    "\n",
    "    \n",
    "    # change encoding of senior citizen to text\n",
    "    senior= df.senior_citizen.map({1:'Yes', 0: 'No'})\n",
    "    \n",
    "    # Set your custom color palette and font size\n",
    "    colors = ['#6BAF8E', '#E6AFC9']\n",
    "    sns.set(font_scale=1.5)    \n",
    "    sns.set_palette(sns.color_palette(colors))\n",
    "    sns.set_style('white')\n",
    "    \n",
    "    plt.subplot(1,2,1)\n",
    "    sns.countplot(x=senior, data=train, hue = 'churn')\n",
    "\n",
    "\n",
    "    plt.subplot(1,2,2)\n",
    "    sns.countplot(x=senior, data=train, hue = 'churn',dodge=False)\n",
    "\n",
    "    # Title\n",
    "    plt.suptitle('Senior Citizens Churn More',fontsize=25,fontweight=100,color='midnightblue')\n",
    "    \n",
    "    plt.show();\n",
    "    \n",
    "get_bar_senior(train)"
   ]
  },
  {
   "cell_type": "markdown",
   "id": "e75722c1",
   "metadata": {},
   "source": [
    "### Stats Test Chi2 test"
   ]
  },
  {
   "cell_type": "markdown",
   "id": "2b47fb33",
   "metadata": {},
   "source": [
    "Do customers who are consider seniors churn more than customers who are not seniors?\n",
    "\n",
    "Variables:\n",
    "\n",
    "    * seniors (discrete)\n",
    "    * churn (discrete)\n",
    "    \n",
    "Test: chi^2\n",
    "\n",
    "$H_0$: There is **no** relationship between a customers with senior status and churn.\n",
    "\n",
    "$H_a$: There is a relationship between a customers senior status and churn."
   ]
  },
  {
   "cell_type": "code",
   "execution_count": 52,
   "id": "72b4122b",
   "metadata": {},
   "outputs": [
    {
     "name": "stdout",
     "output_type": "stream",
     "text": [
      " Chi-Square:99.7192\n",
      " p-value:0.0\n"
     ]
    }
   ],
   "source": [
    "def get_chi2_senior(df):    \n",
    "    # Chi-Square test to compare two categorical variables (senior citizen status, churn)\n",
    "\n",
    "    alpha = 0.05\n",
    "\n",
    "    # Setup a crosstab of observed \n",
    "    observed = pd.crosstab(df.senior_citizen== 1, train.churn)\n",
    "\n",
    "    chi2, p, degf, expected = stats.chi2_contingency(observed)\n",
    "\n",
    "    chi2 = chi2.round(4)\n",
    "    p = p.round(4)\n",
    "    print(f' Chi-Square:{chi2}')\n",
    "    print(f' p-value:{p}')\n",
    "    \n",
    "get_chi2_senior(train)"
   ]
  },
  {
   "cell_type": "code",
   "execution_count": 53,
   "id": "d69d4f8b",
   "metadata": {},
   "outputs": [
    {
     "name": "stdout",
     "output_type": "stream",
     "text": [
      "Reject the null hypothesis\n"
     ]
    },
    {
     "data": {
      "text/plain": [
       "(99.71917005784367, 1.7561315684822695e-23)"
      ]
     },
     "execution_count": 53,
     "metadata": {},
     "output_type": "execute_result"
    }
   ],
   "source": [
    "    # Chi-Square test to compare two categorical variables (senior citizen status, churn)\n",
    "\n",
    "    alpha = 0.05\n",
    "\n",
    "    # Setup a crosstab of observed \n",
    "    observed = pd.crosstab(train.senior_citizen==1, train.churn)\n",
    "\n",
    "    chi2, p, degf, expected = stats.chi2_contingency(observed)\n",
    "\n",
    "    if p < alpha:\n",
    "        print(\"Reject the null hypothesis\")\n",
    "\n",
    "    else:\n",
    "        print(\"Fail to reject the null\")\n",
    "        print(\"Insufficient evidence to reject the null\")\n",
    "    chi2,p"
   ]
  },
  {
   "cell_type": "markdown",
   "id": "904c24b9",
   "metadata": {},
   "source": [
    "### Since we reject the null hypethesis there seems an significant association between customers who are senior citizens and churn."
   ]
  },
  {
   "cell_type": "markdown",
   "id": "80264c65",
   "metadata": {},
   "source": [
    "# Does tenure affect churn?"
   ]
  },
  {
   "cell_type": "code",
   "execution_count": 54,
   "id": "172d24ea",
   "metadata": {
    "scrolled": true
   },
   "outputs": [
    {
     "data": {
      "image/png": "[encoded data removed]",
      "text/plain": [
       "<Figure size 432x288 with 1 Axes>"
      ]
     },
     "metadata": {},
     "output_type": "display_data"
    }
   ],
   "source": [
    "def get_boxplot_tenure(df):    \n",
    "    plt.title('Tenure vs Churn')\n",
    "    sns.boxplot(y=df.tenure, x=df.churn,palette='cubehelix',whis=np.inf);\n",
    "get_boxplot_tenure(train)"
   ]
  },
  {
   "cell_type": "code",
   "execution_count": 55,
   "id": "77c1b2fc",
   "metadata": {},
   "outputs": [
    {
     "data": {
      "text/plain": [
       "<AxesSubplot:title={'center':'Tenure vs Churn'}, xlabel='churn', ylabel='tenure'>"
      ]
     },
     "execution_count": 55,
     "metadata": {},
     "output_type": "execute_result"
    },
    {
     "data": {
      "image/png": "[encoded data removed]",
      "text/plain": [
       "<Figure size 432x288 with 1 Axes>"
      ]
     },
     "metadata": {},
     "output_type": "display_data"
    }
   ],
   "source": [
    "plt.title('Tenure vs Churn')\n",
    "sns.boxplot(y=train.tenure, x=train.churn,saturation=.5,palette='gist_ncar',\n",
    "            whis=np.inf\n",
    "           )"
   ]
  },
  {
   "cell_type": "markdown",
   "id": "f66bef58",
   "metadata": {},
   "source": [
    "### Stats Test T-test"
   ]
  },
  {
   "cell_type": "code",
   "execution_count": 56,
   "id": "1a4908ef",
   "metadata": {},
   "outputs": [
    {
     "name": "stdout",
     "output_type": "stream",
     "text": [
      "inequal variance ==> set equl_var to False\n",
      " t-stat:-25.770004822356352\n",
      " p-value:2.352878533952399e-128\n",
      "we can reject H0 \n",
      "\n",
      "Because the p-value (2.352878533952399e-128) is less than alpha value (0.05), we reject the null hypothesis\n"
     ]
    }
   ],
   "source": [
    "'''\n",
    "Hypothesis \n",
    "Does tenure have a relationship with churn? \n",
    "\n",
    "Variables:\n",
    "* tenure (continuous)\n",
    "* churn(discrete)\n",
    "\n",
    "Test: T-test two tail one sample scipy.stats.ttest_ind\n",
    "\n",
    "$H_0$: Mean tenure of Telco customers who churn == mean tenure of Telco customers who do not churn.\n",
    "\n",
    "$H_a$: Tean tenure of Telco customers who churn != mean tenure of Telco customers who do not churn.\n",
    "'''\n",
    "subset_churn =train[train.churn=='Yes']\n",
    "subset_notchurn = train[train.churn =='No']\n",
    "\n",
    "# # stats Levene test - returns p value. small p-value means unequal variances\n",
    "stats.levene(subset_churn.tenure, subset_notchurn.tenure)\n",
    "\n",
    "# high p-value suggests that the populations have equal variances\n",
    "\n",
    "if pval < 0.05:\n",
    "    print('inequal variance ==> set equl_var to False')\n",
    "else:\n",
    "    print('False')\n",
    "pval\n",
    "\n",
    "alpha = 0.05\n",
    "\n",
    "t_stat, p_val = stats.ttest_ind(subset_churn.tenure, subset_notchurn.tenure, equal_var = False,random_state=123)\n",
    "\n",
    "print(f' t-stat:{t_stat}')\n",
    "print(f' p-value:{p_val}')\n",
    "\n",
    "if pval < 0.05:\n",
    "    print('we can reject H0 ')\n",
    "    \n",
    "print(f'''\n",
    "Because the p-value ({p_val}) is less than alpha value ({alpha}), we reject the null hypothesis''')"
   ]
  },
  {
   "cell_type": "code",
   "execution_count": 209,
   "id": "35283302",
   "metadata": {},
   "outputs": [
    {
     "name": "stdout",
     "output_type": "stream",
     "text": [
      "inequal variance ==> set equl_var to False\n",
      " t-stat:-25.770004822356352\n",
      " p-value:2.352878533952399e-128\n",
      "we can reject H0 \n",
      "\n",
      "Because the p-value (2.352878533952399e-128) is less than alpha value (0.05), we reject the null hypothesis\n"
     ]
    }
   ],
   "source": [
    "# Second Go_______________________\n",
    "'''\n",
    "Hypothesis \n",
    "Do customers who churn have lower tenure?\n",
    "\n",
    "Variables:\n",
    "* tenure (continuous)\n",
    "* churn(discrete)\n",
    "\n",
    "Test: T-test one tail one sample scipy.stats.ttest_ind\n",
    "\n",
    "$H_0$: Mean tenure of Telco customers who churn >= mean tenure of Telco customers who do not churn.\n",
    "\n",
    "$H_a$: Tean tenure of Telco customers who churn < mean tenure of Telco customers who do not churn.\n",
    "'''\n",
    "subset_churn =train[train.churn=='Yes']\n",
    "subset_notchurn = train[train.churn =='No']\n",
    "\n",
    "# # stats Levene test - returns p value. small p-value means unequal variances\n",
    "stats.levene(subset_churn.tenure, subset_notchurn.tenure)\n",
    "\n",
    "# high p-value suggests that the populations have equal variances\n",
    "\n",
    "if pval < 0.05:\n",
    "    print('inequal variance ==> set equl_var to False')\n",
    "else:\n",
    "    print('False')\n",
    "pval\n",
    "\n",
    "alpha = 0.05\n",
    "\n",
    "t_stat, p_val = stats.ttest_ind(subset_churn.tenure, subset_notchurn.tenure, equal_var = False,random_state=123)\n",
    "\n",
    "print(f' t-stat:{t_stat}')\n",
    "print(f' p-value:{p_val}')\n",
    "\n",
    "if pval/2 < 0.05:\n",
    "    print('we can reject H0 ')\n",
    "    \n",
    "print(f'''\n",
    "Because the p-value ({p_val}) is less than alpha value ({alpha}), we reject the null hypothesis''')"
   ]
  },
  {
   "cell_type": "code",
   "execution_count": 57,
   "id": "a2f9d7d8",
   "metadata": {},
   "outputs": [],
   "source": [
    "def get_ttest_tenure(df):\n",
    "    \n",
    "    # create two independent sample group of customers: churn and not churn.\n",
    "    subset_churn =df[df.churn=='Yes']\n",
    "    subset_notchurn = df[df.churn =='No']\n",
    "\n",
    "    # # stats Levene test - returns p value. small p-value means unequal variances\n",
    "    stat, pval =stats.levene(subset_churn.tenure, subset_notchurn.tenure)\n",
    "\n",
    "\n",
    "    # high p-value suggests that the populations have equal variances\n",
    "    if pval < 0.05:\n",
    "        variance = False\n",
    "        print('False')\n",
    "    else:\n",
    "        variance = True\n",
    "        print('True')\n",
    "\n",
    " \n",
    "    alpha = 0.05\n",
    "\n",
    "    t_stat, p_val = stats.ttest_ind(subset_churn.tenure, subset_notchurn.tenure, equal_var = variance,random_state=123)\n",
    "    #t_stat = t_stat.round(4)\n",
    "    #p_val = p_val.round(4)\n",
    "    print(f' t-stat:{t_stat}')\n",
    "    print(f' p-value:{p_val}')\n"
   ]
  },
  {
   "cell_type": "code",
   "execution_count": 58,
   "id": "0b1e1f00",
   "metadata": {
    "scrolled": false
   },
   "outputs": [
    {
     "name": "stdout",
     "output_type": "stream",
     "text": [
      "False\n",
      " t-stat:-25.770004822356352\n",
      " p-value:2.352878533952399e-128\n"
     ]
    }
   ],
   "source": [
    "get_ttest_tenure(train)"
   ]
  },
  {
   "cell_type": "markdown",
   "id": "6290a6f1",
   "metadata": {},
   "source": [
    "### Since we reject the null hypothesis there appears to be a significant difference in the tenure means of customers who churn and those who do not churn"
   ]
  },
  {
   "cell_type": "markdown",
   "id": "f35d7b57",
   "metadata": {},
   "source": [
    "# Does the contract type of customer affect churn?"
   ]
  },
  {
   "cell_type": "code",
   "execution_count": 59,
   "id": "d9f918eb",
   "metadata": {
    "scrolled": false
   },
   "outputs": [
    {
     "data": {
      "image/png": "[encoded data removed]",
      "text/plain": [
       "<Figure size 432x288 with 1 Axes>"
      ]
     },
     "metadata": {},
     "output_type": "display_data"
    }
   ],
   "source": [
    "plt.title('Contract Type vs Churn')\n",
    "sns.countplot(x=train.contract_type, data=train, hue = 'churn',palette='cubehelix');\n"
   ]
  },
  {
   "cell_type": "code",
   "execution_count": 60,
   "id": "9e7318af",
   "metadata": {},
   "outputs": [
    {
     "data": {
      "image/png": "[encoded data removed]",
      "text/plain": [
       "<Figure size 432x288 with 1 Axes>"
      ]
     },
     "metadata": {},
     "output_type": "display_data"
    }
   ],
   "source": [
    "def get_plot_contract(df):\n",
    "    plt.title('Contract Type vs Churn')\n",
    "    sns.countplot(x=train.contract_type, data=train, hue = 'churn',palette='cubehelix');\n",
    "get_plot_contract(train)"
   ]
  },
  {
   "cell_type": "code",
   "execution_count": 61,
   "id": "f4a6d39b",
   "metadata": {
    "scrolled": true
   },
   "outputs": [
    {
     "data": {
      "image/png": "[encoded data removed]",
      "text/plain": [
       "<Figure size 432x288 with 1 Axes>"
      ]
     },
     "metadata": {},
     "output_type": "display_data"
    }
   ],
   "source": [
    "plt.title('Contract Type vs Churn')\n",
    "sns.histplot(data = train, x=train.contract_type, stat=\"percent\", hue = 'churn', multiple = 'dodge');"
   ]
  },
  {
   "cell_type": "code",
   "execution_count": null,
   "id": "4cdb0220",
   "metadata": {},
   "outputs": [],
   "source": []
  },
  {
   "cell_type": "code",
   "execution_count": 62,
   "id": "8415fe17",
   "metadata": {
    "scrolled": false
   },
   "outputs": [
    {
     "data": {
      "text/plain": [
       "Month-to-month    2165\n",
       "Two year           957\n",
       "One year           815\n",
       "Name: contract_type, dtype: int64"
      ]
     },
     "execution_count": 62,
     "metadata": {},
     "output_type": "execute_result"
    }
   ],
   "source": [
    "train.contract_type.value_counts()"
   ]
  },
  {
   "cell_type": "code",
   "execution_count": 63,
   "id": "ab809c82",
   "metadata": {},
   "outputs": [
    {
     "data": {
      "text/html": [
       "<div>\n",
       "<style scoped>\n",
       "    .dataframe tbody tr th:only-of-type {\n",
       "        vertical-align: middle;\n",
       "    }\n",
       "\n",
       "    .dataframe tbody tr th {\n",
       "        vertical-align: top;\n",
       "    }\n",
       "\n",
       "    .dataframe thead th {\n",
       "        text-align: right;\n",
       "    }\n",
       "</style>\n",
       "<table border=\"1\" class=\"dataframe\">\n",
       "  <thead>\n",
       "    <tr style=\"text-align: right;\">\n",
       "      <th>churn</th>\n",
       "      <th>No</th>\n",
       "      <th>Yes</th>\n",
       "    </tr>\n",
       "    <tr>\n",
       "      <th>contract_type</th>\n",
       "      <th></th>\n",
       "      <th></th>\n",
       "    </tr>\n",
       "  </thead>\n",
       "  <tbody>\n",
       "    <tr>\n",
       "      <th>Month-to-month</th>\n",
       "      <td>1238</td>\n",
       "      <td>927</td>\n",
       "    </tr>\n",
       "    <tr>\n",
       "      <th>One year</th>\n",
       "      <td>726</td>\n",
       "      <td>89</td>\n",
       "    </tr>\n",
       "    <tr>\n",
       "      <th>Two year</th>\n",
       "      <td>927</td>\n",
       "      <td>30</td>\n",
       "    </tr>\n",
       "  </tbody>\n",
       "</table>\n",
       "</div>"
      ],
      "text/plain": [
       "churn             No  Yes\n",
       "contract_type            \n",
       "Month-to-month  1238  927\n",
       "One year         726   89\n",
       "Two year         927   30"
      ]
     },
     "execution_count": 63,
     "metadata": {},
     "output_type": "execute_result"
    }
   ],
   "source": [
    "pd.crosstab(train.contract_type, train.churn)"
   ]
  },
  {
   "cell_type": "markdown",
   "id": "88b24304",
   "metadata": {},
   "source": [
    "### Stats TEST Chi2"
   ]
  },
  {
   "cell_type": "code",
   "execution_count": 64,
   "id": "cf935fa7",
   "metadata": {},
   "outputs": [
    {
     "name": "stdout",
     "output_type": "stream",
     "text": [
      "Reject the null hypothesis\n"
     ]
    },
    {
     "data": {
      "text/plain": [
       "(4.693667062132269e-145, 664.6572486352288)"
      ]
     },
     "execution_count": 64,
     "metadata": {},
     "output_type": "execute_result"
    }
   ],
   "source": [
    "# Chi-Square test to compare two categorical variables (Contract type vs Churn)\n",
    "\n",
    "alpha = 0.05\n",
    "\n",
    "# Setup a crosstab of observed \n",
    "observed = pd.crosstab(train.contract_type, train.churn)\n",
    "\n",
    "chi2, p, degf, expected = stats.chi2_contingency(observed)\n",
    "\n",
    "if p < alpha:\n",
    "    print(\"Reject the null hypothesis\")\n",
    "    \n",
    "else:\n",
    "    print(\"Fail to reject the null\")\n",
    "    print(\"Insufficient evidence to reject the null\")\n",
    "p, chi2"
   ]
  },
  {
   "cell_type": "code",
   "execution_count": 65,
   "id": "39fa5747",
   "metadata": {},
   "outputs": [
    {
     "name": "stdout",
     "output_type": "stream",
     "text": [
      " Chi-Square:664.6572\n",
      " p-value:0.0\n"
     ]
    }
   ],
   "source": [
    "def get_chi2_contract(df):    \n",
    "    # Chi-Square test to compare two categorical variables (contract type, churn)\n",
    "    # Set alpha to 0.05\n",
    "    alpha = 0.05\n",
    "\n",
    "    # Setup a crosstab of observed \n",
    "    observed = pd.crosstab(df.contract_type, df.churn)\n",
    "    \n",
    "    # Run chi-square test\n",
    "    chi2, p, degf, expected = stats.chi2_contingency(observed)\n",
    "    \n",
    "    # Round and Print Results\n",
    "    chi2 = chi2.round(4)\n",
    "    p = p.round(4)\n",
    "    print(f' Chi-Square:{chi2}')\n",
    "    print(f' p-value:{p}')\n",
    "    \n",
    "get_chi2_contract(train)"
   ]
  },
  {
   "cell_type": "markdown",
   "id": "d883d646",
   "metadata": {},
   "source": [
    "### There appears to be a significant association between contract type and churn"
   ]
  },
  {
   "cell_type": "markdown",
   "id": "511e7f0a",
   "metadata": {},
   "source": [
    "# Do Senior Citizens pay more monthly charges that non Senior Citizens?"
   ]
  },
  {
   "cell_type": "code",
   "execution_count": 66,
   "id": "9d067b2c",
   "metadata": {
    "scrolled": true
   },
   "outputs": [
    {
     "data": {
      "text/plain": [
       "<AxesSubplot:title={'center':'High monthly charges Drive Senior Citizens to Churn'}, xlabel='senior_citizen', ylabel='monthly_charges'>"
      ]
     },
     "execution_count": 66,
     "metadata": {},
     "output_type": "execute_result"
    },
    {
     "data": {
      "image/png": "[encoded data removed]",
      "text/plain": [
       "<Figure size 432x288 with 1 Axes>"
      ]
     },
     "metadata": {},
     "output_type": "display_data"
    }
   ],
   "source": [
    "plt.title('High monthly charges Drive Senior Citizens to Churn')\n",
    "sns.barplot(data= train, x='senior_citizen', y='monthly_charges', hue = 'churn')"
   ]
  },
  {
   "cell_type": "markdown",
   "id": "80f3ed35",
   "metadata": {},
   "source": [
    "Hypothesis for Senior citizens and Monthly charges\n",
    "Do customers who are consider seniors pay more monthly charges than customers who are not seniors? \n",
    "\n",
    "Variables:\n",
    "* seniors (discrete)\n",
    "* month charges(continuous)\n",
    "\n",
    "Test: two sample, one tail, scipy.stats.ttest_ind\n",
    "\n",
    "$H_0$: The mean monthly charges for senior citizens <= to the mean monthly charges of non senior citizens.\n",
    "\n",
    "$H_a$: The mean monthly charges for senior citizens <= to the mean monthly charges of non senior citizens."
   ]
  },
  {
   "cell_type": "code",
   "execution_count": 67,
   "id": "0f4504b6",
   "metadata": {},
   "outputs": [],
   "source": [
    "total_charges_seniors = train[train.senior_citizen==1].total_charges\n",
    "total_charges_nonseniors = train[train.senior_citizen==0].total_charges"
   ]
  },
  {
   "cell_type": "code",
   "execution_count": 68,
   "id": "82d4e4e7",
   "metadata": {},
   "outputs": [
    {
     "data": {
      "text/plain": [
       "(5790251.037615047, 5042349.88999738)"
      ]
     },
     "execution_count": 68,
     "metadata": {},
     "output_type": "execute_result"
    }
   ],
   "source": [
    "total_charges_seniors.var(),total_charges_nonseniors.var()"
   ]
  },
  {
   "cell_type": "code",
   "execution_count": 69,
   "id": "513d0452",
   "metadata": {},
   "outputs": [
    {
     "name": "stdout",
     "output_type": "stream",
     "text": [
      "inequal variance ==> set equal_var to False\n"
     ]
    },
    {
     "data": {
      "text/plain": [
       "3.1878395780060806e-05"
      ]
     },
     "execution_count": 69,
     "metadata": {},
     "output_type": "execute_result"
    }
   ],
   "source": [
    "# # stats Levene test - returns p value. small p-value means unequal variances\n",
    "stat, pval = stats.levene(total_charges_seniors, total_charges_nonseniors)\n",
    "\n",
    "# high p-value suggests that the populations have equal variances\n",
    "\n",
    "if pval < 0.05:\n",
    "    print('inequal variance ==> set equal_var to False')\n",
    "pval"
   ]
  },
  {
   "cell_type": "code",
   "execution_count": 70,
   "id": "215619bd",
   "metadata": {
    "scrolled": true
   },
   "outputs": [
    {
     "name": "stdout",
     "output_type": "stream",
     "text": [
      " t-stat:17.342703226071816\n",
      " p-value:3.1878395780060806e-05\n",
      "we can reject H0 \n",
      "\n",
      "Because the p-value (2.0722062265570932e-10) is less than alpha value (0.05), we reject the null hypothesis\n"
     ]
    }
   ],
   "source": [
    "alpha = 0.05\n",
    "\n",
    "t_stat, p_val = stats.ttest_ind(total_charges_seniors, total_charges_nonseniors, equal_var = False)\n",
    "print(f' t-stat:{stat}')\n",
    "print(f' p-value:{pval}')\n",
    "\n",
    "if pval/2 < 0.05:\n",
    "    print('we can reject H0 ')\n",
    "    \n",
    "print(f'''\n",
    "Because the p-value ({p_val}) is less than alpha value ({alpha}), we reject the null hypothesis''')"
   ]
  },
  {
   "cell_type": "markdown",
   "id": "318d57c1",
   "metadata": {},
   "source": [
    "### Summary:\n",
    "### Since we reject the null hypothesis, there seems to be significant findings that senior citizens on average do pay more Monthly Charges than non senior citizens.m"
   ]
  },
  {
   "cell_type": "markdown",
   "id": "10003329",
   "metadata": {},
   "source": [
    "# Does gender influence churn?"
   ]
  },
  {
   "cell_type": "code",
   "execution_count": 71,
   "id": "28340217",
   "metadata": {
    "scrolled": true
   },
   "outputs": [
    {
     "data": {
      "image/png": "[encoded data removed]",
      "text/plain": [
       "<Figure size 432x288 with 1 Axes>"
      ]
     },
     "metadata": {},
     "output_type": "display_data"
    }
   ],
   "source": [
    "plt.title('Gender Vs Churn')\n",
    "sns.countplot(x=train.gender, data=train, hue = 'churn', palette='cubehelix')\n",
    "\n",
    "plt.legend()\n",
    "plt.show()"
   ]
  },
  {
   "cell_type": "code",
   "execution_count": 72,
   "id": "9f2148de",
   "metadata": {},
   "outputs": [
    {
     "data": {
      "image/png": "[encoded data removed]",
      "text/plain": [
       "<Figure size 432x288 with 1 Axes>"
      ]
     },
     "metadata": {},
     "output_type": "display_data"
    }
   ],
   "source": [
    "def get_plot_gender(df):   \n",
    "    plt.title('Gender Vs Churn')\n",
    "    sns.countplot(x=df.gender, data=df, hue = 'churn', palette='cubehelix')\n",
    "\n",
    "    plt.legend()\n",
    "    plt.show();\n",
    "get_plot_gender(train)"
   ]
  },
  {
   "cell_type": "markdown",
   "id": "c6069fcd",
   "metadata": {},
   "source": [
    "There does not seem to be a relationhip between churn and gender"
   ]
  },
  {
   "cell_type": "markdown",
   "id": "d4fecec0",
   "metadata": {},
   "source": [
    "### Stats Test Chi2"
   ]
  },
  {
   "cell_type": "code",
   "execution_count": 73,
   "id": "455b0b9b",
   "metadata": {
    "scrolled": true
   },
   "outputs": [
    {
     "name": "stdout",
     "output_type": "stream",
     "text": [
      "churn             No  Yes\n",
      "contract_type            \n",
      "Month-to-month  1238  927\n",
      "One year         726   89\n",
      "Two year         927   30\n",
      "Fail to reject the null\n",
      "Insufficient evidence to reject the null\n"
     ]
    },
    {
     "data": {
      "text/plain": [
       "(1.0, 0.0)"
      ]
     },
     "execution_count": 73,
     "metadata": {},
     "output_type": "execute_result"
    }
   ],
   "source": [
    "'''\n",
    "Hypothesis \n",
    "Gender vs churn\n",
    "\n",
    "Variables:\n",
    "* gender(discrete)\n",
    "* churn(discrete)\n",
    "\n",
    "Test: \n",
    "\n",
    "$H_0$: There is **no** relationship between a customers and tenure.\n",
    "\n",
    "$H_a$: There is a relationship between a customers and tenure.\n",
    "'''\n",
    "    \n",
    "print (pd.crosstab(train.contract_type, train.churn))\n",
    "\n",
    "# Chi-Square test to compare two categorical variables (Sex and Survival)\n",
    "\n",
    "\n",
    "alpha = 0.05\n",
    "\n",
    "# Setup a crosstab of observed survival to pclass\n",
    "observed = pd.crosstab(train.gender, train.churn)\n",
    "\n",
    "chi2, p, degf, expected = stats.chi2_contingency(observed)\n",
    "\n",
    "if p < alpha:\n",
    "    print(\"Reject the null hypothesis\")\n",
    "    \n",
    "else:\n",
    "    print(\"Fail to reject the null\")\n",
    "    print(\"Insufficient evidence to reject the null\")\n",
    "p,chi2"
   ]
  },
  {
   "cell_type": "code",
   "execution_count": 74,
   "id": "75a439fa",
   "metadata": {},
   "outputs": [
    {
     "name": "stdout",
     "output_type": "stream",
     "text": [
      " Chi-Square:0.0\n",
      " p-value:1.0\n"
     ]
    }
   ],
   "source": [
    "def get_chi2_gender(df):    \n",
    "    # Chi-Square test to compare two categorical variables (gender, churn)\n",
    "    # Set alpha to 0.05\n",
    "    alpha = 0.05\n",
    "\n",
    "    # Setup a crosstab of observed \n",
    "    observed = pd.crosstab(df.gender, df.churn)\n",
    "    \n",
    "    # Run chi-square test\n",
    "    chi2, p, degf, expected = stats.chi2_contingency(observed)\n",
    "    \n",
    "    # Round and Print Results\n",
    "    chi2 = chi2.round(4)\n",
    "    p = p.round(4)\n",
    "    print(f' Chi-Square:{chi2}')\n",
    "    print(f' p-value:{p}')\n",
    "    \n",
    "get_chi2_gender(train)"
   ]
  },
  {
   "cell_type": "markdown",
   "id": "a4bfc895",
   "metadata": {},
   "source": [
    "WE fail to reject the null hypothesis so threre is no association between gender and churn"
   ]
  },
  {
   "cell_type": "markdown",
   "id": "f68839de",
   "metadata": {},
   "source": [
    "### It does not appear like gender has and influence on churn"
   ]
  },
  {
   "cell_type": "markdown",
   "id": "12ab3728",
   "metadata": {},
   "source": [
    "# Does partner affect the churn?"
   ]
  },
  {
   "cell_type": "code",
   "execution_count": 75,
   "id": "1c8b68be",
   "metadata": {
    "scrolled": false
   },
   "outputs": [
    {
     "data": {
      "image/png": "[encoded data removed]",
      "text/plain": [
       "<Figure size 432x288 with 1 Axes>"
      ]
     },
     "metadata": {},
     "output_type": "display_data"
    }
   ],
   "source": [
    "plt.title('Partner Vs Churn')\n",
    "sns.countplot(x=train.partner, data=train, hue = 'churn')\n",
    "\n",
    "plt.legend()\n",
    "plt.show()"
   ]
  },
  {
   "cell_type": "code",
   "execution_count": 76,
   "id": "2a0b74dc",
   "metadata": {},
   "outputs": [
    {
     "data": {
      "image/png": "[encoded data removed]",
      "text/plain": [
       "<Figure size 432x288 with 1 Axes>"
      ]
     },
     "metadata": {},
     "output_type": "display_data"
    }
   ],
   "source": [
    "def get_plot_partner(df):    \n",
    "    plt.title('Partner Vs Churn')\n",
    "    sns.countplot(x=df.partner, data=df, hue = 'churn', palette='cubehelix')\n",
    "\n",
    "    plt.legend()\n",
    "    plt.show();\n",
    "    \n",
    "get_plot_partner(train)"
   ]
  },
  {
   "cell_type": "markdown",
   "id": "eabd5a56",
   "metadata": {},
   "source": [
    "### There seems to be a relationship between partner and churn"
   ]
  },
  {
   "cell_type": "markdown",
   "id": "d7bf0211",
   "metadata": {},
   "source": [
    "# Stats Test Chi2"
   ]
  },
  {
   "cell_type": "code",
   "execution_count": 77,
   "id": "37a8db33",
   "metadata": {
    "scrolled": true
   },
   "outputs": [
    {
     "name": "stdout",
     "output_type": "stream",
     "text": [
      "churn      No  Yes\n",
      "partner           \n",
      "No       1364  663\n",
      "Yes      1527  383\n",
      "Reject the null hypothesis\n"
     ]
    },
    {
     "data": {
      "text/plain": [
       "3.578598859815084e-19"
      ]
     },
     "execution_count": 77,
     "metadata": {},
     "output_type": "execute_result"
    }
   ],
   "source": [
    "'''\n",
    "Hypothesis \n",
    "partner vs churn\n",
    "\n",
    "Variables:\n",
    "* partner(discrete)\n",
    "* churn(discrete)\n",
    "\n",
    "Test: \n",
    "\n",
    "$H_0$: There is **no** relationship between a customers and partner\n",
    "\n",
    "$H_a$: There is a relationship between a customers and partner.\n",
    "'''\n",
    "    \n",
    "print (pd.crosstab(train.partner, train.churn))\n",
    "\n",
    "# Chi-Square test to compare two categorical variables (Sex and Survival)\n",
    "\n",
    "\n",
    "alpha = 0.05\n",
    "\n",
    "# Setup a crosstab of observed survival to pclass\n",
    "observed = pd.crosstab(train.partner, train.churn)\n",
    "\n",
    "chi2, p, degf, expected = stats.chi2_contingency(observed)\n",
    "\n",
    "if p < alpha:\n",
    "    print(\"Reject the null hypothesis\")\n",
    "    \n",
    "else:\n",
    "    print(\"Fail to reject the null\")\n",
    "    print(\"Insufficient evidence to reject the null\")\n",
    "p"
   ]
  },
  {
   "cell_type": "code",
   "execution_count": 78,
   "id": "ca4752ea",
   "metadata": {},
   "outputs": [
    {
     "name": "stdout",
     "output_type": "stream",
     "text": [
      " Chi-Square:80.0893\n",
      " p-value:0.0\n"
     ]
    }
   ],
   "source": [
    "def get_chi2_partner(df):    \n",
    "    # Chi-Square test to compare two categorical variables (gender, churn)\n",
    "    # Set alpha to 0.05\n",
    "    alpha = 0.05\n",
    "\n",
    "    # Setup a crosstab of observed \n",
    "    observed = pd.crosstab(df.partner, df.churn)\n",
    "    \n",
    "    # Run chi-square test\n",
    "    chi2, p, degf, expected = stats.chi2_contingency(observed)\n",
    "    \n",
    "    # Round and Print Results\n",
    "    chi2 = chi2.round(4)\n",
    "    p = p.round(4)\n",
    "    print(f' Chi-Square:{chi2}')\n",
    "    print(f' p-value:{p}')\n",
    "    \n",
    "get_chi2_partner(train)"
   ]
  },
  {
   "cell_type": "markdown",
   "id": "62c702d1",
   "metadata": {},
   "source": [
    "### WE reject the null hypothesis so there is an association between partner anc churn"
   ]
  },
  {
   "cell_type": "markdown",
   "id": "7d46c485",
   "metadata": {},
   "source": [
    "# Exploration Summary\n",
    "* Monthly Charges is a driver of churn\n",
    "* Senior Citizen status is a driver of churn\n",
    "* Tenure is a driver of churn\n",
    "* Contract type is a driver of churn\n",
    "* Partner is a driver of churn\n",
    "* Gender is not a driver of churn\n",
    "\n"
   ]
  },
  {
   "cell_type": "markdown",
   "id": "3cbe9570",
   "metadata": {},
   "source": [
    "# Features that will be included in my model"
   ]
  },
  {
   "cell_type": "markdown",
   "id": "ee5f55ae",
   "metadata": {},
   "source": [
    "* Monthly charges  has a significant statistical relationship to churn\n",
    "* Senior Citizen  has a significant statistical relationship to churn\n",
    "* Tenure  has a significant statistical relationship to churn\n",
    "* Contract type has a significan statistical relationship to churn\n",
    "* Partner  has a significant statistical relationship to churn"
   ]
  },
  {
   "cell_type": "markdown",
   "id": "8c46556c",
   "metadata": {},
   "source": [
    "# Features that will not be included in my model"
   ]
  },
  {
   "cell_type": "markdown",
   "id": "437d2258",
   "metadata": {},
   "source": [
    "* Gender did not have a statistical significant relationship to churn.\n",
    "* Other features have unknow significance to churn at the moment\n",
    "    * given more time to I would determined significance to churn."
   ]
  },
  {
   "cell_type": "markdown",
   "id": "dcef8831",
   "metadata": {},
   "source": [
    "# Modeling"
   ]
  },
  {
   "cell_type": "markdown",
   "id": "e9949577",
   "metadata": {},
   "source": [
    "* Accuracy is the metric use in the models\n",
    "* Churn customers makeup 26.5% of the data \n",
    "* by guessing non-churn for every customer one could achieve an accuracy of 73.5%\n",
    "* 73.5% will be the baseline accuracy I use for this project \n",
    "\n",
    "* I will be evaluating models developed using four different model types and various hyperparameter configurations\n",
    "\n",
    "* Models will be evaluated on train and validate data\n",
    "\n",
    "* The model that performs the best will then be evaluated on test data"
   ]
  },
  {
   "cell_type": "code",
   "execution_count": 79,
   "id": "403b146d",
   "metadata": {},
   "outputs": [
    {
     "data": {
      "text/plain": [
       "['customer_id',\n",
       " 'gender',\n",
       " 'senior_citizen',\n",
       " 'partner',\n",
       " 'dependents',\n",
       " 'tenure',\n",
       " 'phone_service',\n",
       " 'multiple_lines',\n",
       " 'online_security',\n",
       " 'online_backup',\n",
       " 'device_protection',\n",
       " 'tech_support',\n",
       " 'streaming_tv',\n",
       " 'streaming_movies',\n",
       " 'paperless_billing',\n",
       " 'monthly_charges',\n",
       " 'total_charges',\n",
       " 'churn',\n",
       " 'contract_type',\n",
       " 'internet_service_type',\n",
       " 'payment_type',\n",
       " 'gender_Female',\n",
       " 'gender_Male',\n",
       " 'partner_No',\n",
       " 'partner_Yes',\n",
       " 'dependents_No',\n",
       " 'dependents_Yes',\n",
       " 'phone_service_No',\n",
       " 'phone_service_Yes',\n",
       " 'multiple_lines_No',\n",
       " 'multiple_lines_No phone service',\n",
       " 'multiple_lines_Yes',\n",
       " 'online_security_No',\n",
       " 'online_security_No internet service',\n",
       " 'online_security_Yes',\n",
       " 'online_backup_No',\n",
       " 'online_backup_No internet service',\n",
       " 'online_backup_Yes',\n",
       " 'device_protection_No',\n",
       " 'device_protection_No internet service',\n",
       " 'device_protection_Yes',\n",
       " 'tech_support_No',\n",
       " 'tech_support_No internet service',\n",
       " 'tech_support_Yes',\n",
       " 'streaming_tv_No',\n",
       " 'streaming_tv_No internet service',\n",
       " 'streaming_tv_Yes',\n",
       " 'streaming_movies_No',\n",
       " 'streaming_movies_No internet service',\n",
       " 'streaming_movies_Yes',\n",
       " 'paperless_billing_No',\n",
       " 'paperless_billing_Yes',\n",
       " 'contract_type_Month-to-month',\n",
       " 'contract_type_One year',\n",
       " 'contract_type_Two year',\n",
       " 'internet_service_type_DSL',\n",
       " 'internet_service_type_Fiber optic',\n",
       " 'internet_service_type_None',\n",
       " 'payment_type_Bank transfer (automatic)',\n",
       " 'payment_type_Credit card (automatic)',\n",
       " 'payment_type_Electronic check',\n",
       " 'payment_type_Mailed check']"
      ]
     },
     "execution_count": 79,
     "metadata": {},
     "output_type": "execute_result"
    }
   ],
   "source": [
    "train.columns.to_list()"
   ]
  },
  {
   "cell_type": "code",
   "execution_count": 80,
   "id": "7a07c034",
   "metadata": {},
   "outputs": [],
   "source": [
    "def model_prep(train,validate,test):\n",
    "    \n",
    "        # drop unused columns \n",
    "        features = ['monthly_charges','senior_citizen','tenure','partner_No','partner_Yes','churn','contract_type_Month-to-month','contract_type_One year','contract_type_Two year']\n",
    "\n",
    "        train = train[features]\n",
    "        validate = validate[features]\n",
    "        test = test[features]\n",
    "        \n",
    "       \n",
    "\n",
    "        \n",
    "        #seperate target\n",
    "        \n",
    "         \n",
    "        x_train = train.drop(columns=['churn'])\n",
    "        y_train = train.churn\n",
    "\n",
    "        x_validate = validate.drop(columns=['churn'])\n",
    "        y_validate = validate.churn\n",
    "\n",
    "        x_test = test.drop(columns=['churn'])\n",
    "        y_test = test.churn\n",
    "        \n",
    "        # Convert binary categorical targer variable to numeric\n",
    "        y_train.churn= train.churn.map({'Yes': 1, 'No': 0})\n",
    "        y_validate.churn = validate.churn.map({'Yes': 1, 'No': 0})\n",
    "        y_test.churn = test.churn.map({'Yes': 1, 'No': 0})\n",
    "        \n",
    "       \n",
    "\n",
    "        return x_train,y_train,x_validate,y_validate, x_test, y_test"
   ]
  },
  {
   "cell_type": "code",
   "execution_count": 81,
   "id": "7594d414",
   "metadata": {
    "scrolled": true
   },
   "outputs": [],
   "source": [
    "# prep data for modeling\n",
    "x_train,y_train,x_validate,y_validate, x_test, y_test = model_prep(train,validate,test)"
   ]
  },
  {
   "cell_type": "code",
   "execution_count": 82,
   "id": "eadf7a4c",
   "metadata": {
    "scrolled": true
   },
   "outputs": [
    {
     "data": {
      "text/plain": [
       "((3937, 8), (1688, 8), (1407, 8))"
      ]
     },
     "execution_count": 82,
     "metadata": {},
     "output_type": "execute_result"
    }
   ],
   "source": [
    "x_train.shape, x_validate.shape, x_test.shape"
   ]
  },
  {
   "cell_type": "markdown",
   "id": "1b72e06c",
   "metadata": {},
   "source": [
    "# Decision Tree"
   ]
  },
  {
   "cell_type": "code",
   "execution_count": 83,
   "id": "685872be",
   "metadata": {},
   "outputs": [],
   "source": [
    "DecisionTreeClassifier?\n"
   ]
  },
  {
   "cell_type": "code",
   "execution_count": 84,
   "id": "17cb0843",
   "metadata": {
    "scrolled": false
   },
   "outputs": [
    {
     "data": {
      "text/html": [
       "<div>\n",
       "<style scoped>\n",
       "    .dataframe tbody tr th:only-of-type {\n",
       "        vertical-align: middle;\n",
       "    }\n",
       "\n",
       "    .dataframe tbody tr th {\n",
       "        vertical-align: top;\n",
       "    }\n",
       "\n",
       "    .dataframe thead th {\n",
       "        text-align: right;\n",
       "    }\n",
       "</style>\n",
       "<table border=\"1\" class=\"dataframe\">\n",
       "  <thead>\n",
       "    <tr style=\"text-align: right;\">\n",
       "      <th></th>\n",
       "      <th>i</th>\n",
       "      <th>train_accuracy</th>\n",
       "      <th>validate_accuracy</th>\n",
       "      <th>difference</th>\n",
       "    </tr>\n",
       "  </thead>\n",
       "  <tbody>\n",
       "    <tr>\n",
       "      <th>0</th>\n",
       "      <td>1</td>\n",
       "      <td>0.734315</td>\n",
       "      <td>0.734005</td>\n",
       "      <td>0.000311</td>\n",
       "    </tr>\n",
       "    <tr>\n",
       "      <th>1</th>\n",
       "      <td>2</td>\n",
       "      <td>0.759462</td>\n",
       "      <td>0.735782</td>\n",
       "      <td>0.023680</td>\n",
       "    </tr>\n",
       "    <tr>\n",
       "      <th>2</th>\n",
       "      <td>3</td>\n",
       "      <td>0.789942</td>\n",
       "      <td>0.776659</td>\n",
       "      <td>0.013283</td>\n",
       "    </tr>\n",
       "    <tr>\n",
       "      <th>3</th>\n",
       "      <td>4</td>\n",
       "      <td>0.792482</td>\n",
       "      <td>0.776066</td>\n",
       "      <td>0.016415</td>\n",
       "    </tr>\n",
       "    <tr>\n",
       "      <th>4</th>\n",
       "      <td>5</td>\n",
       "      <td>0.796546</td>\n",
       "      <td>0.777251</td>\n",
       "      <td>0.019294</td>\n",
       "    </tr>\n",
       "    <tr>\n",
       "      <th>5</th>\n",
       "      <td>6</td>\n",
       "      <td>0.806706</td>\n",
       "      <td>0.778436</td>\n",
       "      <td>0.028270</td>\n",
       "    </tr>\n",
       "    <tr>\n",
       "      <th>6</th>\n",
       "      <td>7</td>\n",
       "      <td>0.818136</td>\n",
       "      <td>0.767773</td>\n",
       "      <td>0.050363</td>\n",
       "    </tr>\n",
       "    <tr>\n",
       "      <th>7</th>\n",
       "      <td>8</td>\n",
       "      <td>0.826264</td>\n",
       "      <td>0.764218</td>\n",
       "      <td>0.062046</td>\n",
       "    </tr>\n",
       "    <tr>\n",
       "      <th>8</th>\n",
       "      <td>9</td>\n",
       "      <td>0.842012</td>\n",
       "      <td>0.755924</td>\n",
       "      <td>0.086088</td>\n",
       "    </tr>\n",
       "    <tr>\n",
       "      <th>9</th>\n",
       "      <td>10</td>\n",
       "      <td>0.857760</td>\n",
       "      <td>0.751777</td>\n",
       "      <td>0.105982</td>\n",
       "    </tr>\n",
       "    <tr>\n",
       "      <th>10</th>\n",
       "      <td>11</td>\n",
       "      <td>0.876556</td>\n",
       "      <td>0.735782</td>\n",
       "      <td>0.140774</td>\n",
       "    </tr>\n",
       "    <tr>\n",
       "      <th>11</th>\n",
       "      <td>12</td>\n",
       "      <td>0.896368</td>\n",
       "      <td>0.739929</td>\n",
       "      <td>0.156439</td>\n",
       "    </tr>\n",
       "    <tr>\n",
       "      <th>12</th>\n",
       "      <td>13</td>\n",
       "      <td>0.911862</td>\n",
       "      <td>0.728673</td>\n",
       "      <td>0.183189</td>\n",
       "    </tr>\n",
       "    <tr>\n",
       "      <th>13</th>\n",
       "      <td>14</td>\n",
       "      <td>0.929896</td>\n",
       "      <td>0.726303</td>\n",
       "      <td>0.203593</td>\n",
       "    </tr>\n",
       "    <tr>\n",
       "      <th>14</th>\n",
       "      <td>15</td>\n",
       "      <td>0.943358</td>\n",
       "      <td>0.712085</td>\n",
       "      <td>0.231273</td>\n",
       "    </tr>\n",
       "    <tr>\n",
       "      <th>15</th>\n",
       "      <td>16</td>\n",
       "      <td>0.956312</td>\n",
       "      <td>0.720379</td>\n",
       "      <td>0.235933</td>\n",
       "    </tr>\n",
       "    <tr>\n",
       "      <th>16</th>\n",
       "      <td>17</td>\n",
       "      <td>0.964694</td>\n",
       "      <td>0.719194</td>\n",
       "      <td>0.245500</td>\n",
       "    </tr>\n",
       "    <tr>\n",
       "      <th>17</th>\n",
       "      <td>18</td>\n",
       "      <td>0.971552</td>\n",
       "      <td>0.715047</td>\n",
       "      <td>0.256505</td>\n",
       "    </tr>\n",
       "    <tr>\n",
       "      <th>18</th>\n",
       "      <td>19</td>\n",
       "      <td>0.975108</td>\n",
       "      <td>0.716232</td>\n",
       "      <td>0.258876</td>\n",
       "    </tr>\n",
       "    <tr>\n",
       "      <th>19</th>\n",
       "      <td>20</td>\n",
       "      <td>0.979172</td>\n",
       "      <td>0.714455</td>\n",
       "      <td>0.264717</td>\n",
       "    </tr>\n",
       "    <tr>\n",
       "      <th>20</th>\n",
       "      <td>21</td>\n",
       "      <td>0.981712</td>\n",
       "      <td>0.712678</td>\n",
       "      <td>0.269034</td>\n",
       "    </tr>\n",
       "    <tr>\n",
       "      <th>21</th>\n",
       "      <td>22</td>\n",
       "      <td>0.983490</td>\n",
       "      <td>0.709716</td>\n",
       "      <td>0.273774</td>\n",
       "    </tr>\n",
       "    <tr>\n",
       "      <th>22</th>\n",
       "      <td>23</td>\n",
       "      <td>0.985522</td>\n",
       "      <td>0.707346</td>\n",
       "      <td>0.278176</td>\n",
       "    </tr>\n",
       "    <tr>\n",
       "      <th>23</th>\n",
       "      <td>24</td>\n",
       "      <td>0.986792</td>\n",
       "      <td>0.709123</td>\n",
       "      <td>0.277669</td>\n",
       "    </tr>\n",
       "  </tbody>\n",
       "</table>\n",
       "</div>"
      ],
      "text/plain": [
       "     i  train_accuracy  validate_accuracy  difference\n",
       "0    1        0.734315           0.734005    0.000311\n",
       "1    2        0.759462           0.735782    0.023680\n",
       "2    3        0.789942           0.776659    0.013283\n",
       "3    4        0.792482           0.776066    0.016415\n",
       "4    5        0.796546           0.777251    0.019294\n",
       "5    6        0.806706           0.778436    0.028270\n",
       "6    7        0.818136           0.767773    0.050363\n",
       "7    8        0.826264           0.764218    0.062046\n",
       "8    9        0.842012           0.755924    0.086088\n",
       "9   10        0.857760           0.751777    0.105982\n",
       "10  11        0.876556           0.735782    0.140774\n",
       "11  12        0.896368           0.739929    0.156439\n",
       "12  13        0.911862           0.728673    0.183189\n",
       "13  14        0.929896           0.726303    0.203593\n",
       "14  15        0.943358           0.712085    0.231273\n",
       "15  16        0.956312           0.720379    0.235933\n",
       "16  17        0.964694           0.719194    0.245500\n",
       "17  18        0.971552           0.715047    0.256505\n",
       "18  19        0.975108           0.716232    0.258876\n",
       "19  20        0.979172           0.714455    0.264717\n",
       "20  21        0.981712           0.712678    0.269034\n",
       "21  22        0.983490           0.709716    0.273774\n",
       "22  23        0.985522           0.707346    0.278176\n",
       "23  24        0.986792           0.709123    0.277669"
      ]
     },
     "execution_count": 84,
     "metadata": {},
     "output_type": "execute_result"
    }
   ],
   "source": [
    "\n",
    "metrics = []\n",
    "\n",
    "for i in range(1, 25):\n",
    "    # Make the model\n",
    "    tree = DecisionTreeClassifier(max_depth=i, random_state=123)\n",
    "\n",
    "    # Fit the model (on train and only train)\n",
    "    tree = tree.fit(x_train, y_train)\n",
    "\n",
    "    # Use the model\n",
    "    # We'll evaluate the model's performance on train, first\n",
    "    in_sample_accuracy = tree.score(x_train, y_train)\n",
    "    \n",
    "    out_of_sample_accuracy = tree.score(x_validate, y_validate)\n",
    "\n",
    "    output = {\n",
    "        \"i\": i,\n",
    "        \"train_accuracy\": in_sample_accuracy,\n",
    "        \"validate_accuracy\": out_of_sample_accuracy\n",
    "    }\n",
    "    \n",
    "    metrics.append(output)\n",
    "    \n",
    "df_2 = pd.DataFrame(metrics)\n",
    "df_2[\"difference\"] = df_2.train_accuracy - df_2.validate_accuracy\n",
    "df_2"
   ]
  },
  {
   "cell_type": "code",
   "execution_count": 85,
   "id": "e4cd00b6",
   "metadata": {
    "scrolled": true
   },
   "outputs": [
    {
     "data": {
      "text/html": [
       "<div>\n",
       "<style scoped>\n",
       "    .dataframe tbody tr th:only-of-type {\n",
       "        vertical-align: middle;\n",
       "    }\n",
       "\n",
       "    .dataframe tbody tr th {\n",
       "        vertical-align: top;\n",
       "    }\n",
       "\n",
       "    .dataframe thead th {\n",
       "        text-align: right;\n",
       "    }\n",
       "</style>\n",
       "<table border=\"1\" class=\"dataframe\">\n",
       "  <thead>\n",
       "    <tr style=\"text-align: right;\">\n",
       "      <th></th>\n",
       "      <th>i</th>\n",
       "      <th>train_accuracy</th>\n",
       "      <th>validate_accuracy</th>\n",
       "      <th>difference</th>\n",
       "    </tr>\n",
       "  </thead>\n",
       "  <tbody>\n",
       "    <tr>\n",
       "      <th>2</th>\n",
       "      <td>3</td>\n",
       "      <td>0.789942</td>\n",
       "      <td>0.776659</td>\n",
       "      <td>0.013283</td>\n",
       "    </tr>\n",
       "    <tr>\n",
       "      <th>3</th>\n",
       "      <td>4</td>\n",
       "      <td>0.792482</td>\n",
       "      <td>0.776066</td>\n",
       "      <td>0.016415</td>\n",
       "    </tr>\n",
       "    <tr>\n",
       "      <th>4</th>\n",
       "      <td>5</td>\n",
       "      <td>0.796546</td>\n",
       "      <td>0.777251</td>\n",
       "      <td>0.019294</td>\n",
       "    </tr>\n",
       "    <tr>\n",
       "      <th>5</th>\n",
       "      <td>6</td>\n",
       "      <td>0.806706</td>\n",
       "      <td>0.778436</td>\n",
       "      <td>0.028270</td>\n",
       "    </tr>\n",
       "    <tr>\n",
       "      <th>6</th>\n",
       "      <td>7</td>\n",
       "      <td>0.818136</td>\n",
       "      <td>0.767773</td>\n",
       "      <td>0.050363</td>\n",
       "    </tr>\n",
       "    <tr>\n",
       "      <th>7</th>\n",
       "      <td>8</td>\n",
       "      <td>0.826264</td>\n",
       "      <td>0.764218</td>\n",
       "      <td>0.062046</td>\n",
       "    </tr>\n",
       "    <tr>\n",
       "      <th>8</th>\n",
       "      <td>9</td>\n",
       "      <td>0.842012</td>\n",
       "      <td>0.755924</td>\n",
       "      <td>0.086088</td>\n",
       "    </tr>\n",
       "    <tr>\n",
       "      <th>9</th>\n",
       "      <td>10</td>\n",
       "      <td>0.857760</td>\n",
       "      <td>0.751777</td>\n",
       "      <td>0.105982</td>\n",
       "    </tr>\n",
       "    <tr>\n",
       "      <th>10</th>\n",
       "      <td>11</td>\n",
       "      <td>0.876556</td>\n",
       "      <td>0.735782</td>\n",
       "      <td>0.140774</td>\n",
       "    </tr>\n",
       "    <tr>\n",
       "      <th>11</th>\n",
       "      <td>12</td>\n",
       "      <td>0.896368</td>\n",
       "      <td>0.739929</td>\n",
       "      <td>0.156439</td>\n",
       "    </tr>\n",
       "    <tr>\n",
       "      <th>12</th>\n",
       "      <td>13</td>\n",
       "      <td>0.911862</td>\n",
       "      <td>0.728673</td>\n",
       "      <td>0.183189</td>\n",
       "    </tr>\n",
       "    <tr>\n",
       "      <th>13</th>\n",
       "      <td>14</td>\n",
       "      <td>0.929896</td>\n",
       "      <td>0.726303</td>\n",
       "      <td>0.203593</td>\n",
       "    </tr>\n",
       "    <tr>\n",
       "      <th>14</th>\n",
       "      <td>15</td>\n",
       "      <td>0.943358</td>\n",
       "      <td>0.712085</td>\n",
       "      <td>0.231273</td>\n",
       "    </tr>\n",
       "    <tr>\n",
       "      <th>15</th>\n",
       "      <td>16</td>\n",
       "      <td>0.956312</td>\n",
       "      <td>0.720379</td>\n",
       "      <td>0.235933</td>\n",
       "    </tr>\n",
       "    <tr>\n",
       "      <th>16</th>\n",
       "      <td>17</td>\n",
       "      <td>0.964694</td>\n",
       "      <td>0.719194</td>\n",
       "      <td>0.245500</td>\n",
       "    </tr>\n",
       "    <tr>\n",
       "      <th>17</th>\n",
       "      <td>18</td>\n",
       "      <td>0.971552</td>\n",
       "      <td>0.715047</td>\n",
       "      <td>0.256505</td>\n",
       "    </tr>\n",
       "    <tr>\n",
       "      <th>18</th>\n",
       "      <td>19</td>\n",
       "      <td>0.975108</td>\n",
       "      <td>0.716232</td>\n",
       "      <td>0.258876</td>\n",
       "    </tr>\n",
       "    <tr>\n",
       "      <th>19</th>\n",
       "      <td>20</td>\n",
       "      <td>0.979172</td>\n",
       "      <td>0.714455</td>\n",
       "      <td>0.264717</td>\n",
       "    </tr>\n",
       "    <tr>\n",
       "      <th>20</th>\n",
       "      <td>21</td>\n",
       "      <td>0.981712</td>\n",
       "      <td>0.712678</td>\n",
       "      <td>0.269034</td>\n",
       "    </tr>\n",
       "    <tr>\n",
       "      <th>21</th>\n",
       "      <td>22</td>\n",
       "      <td>0.983490</td>\n",
       "      <td>0.709716</td>\n",
       "      <td>0.273774</td>\n",
       "    </tr>\n",
       "    <tr>\n",
       "      <th>22</th>\n",
       "      <td>23</td>\n",
       "      <td>0.985522</td>\n",
       "      <td>0.707346</td>\n",
       "      <td>0.278176</td>\n",
       "    </tr>\n",
       "    <tr>\n",
       "      <th>23</th>\n",
       "      <td>24</td>\n",
       "      <td>0.986792</td>\n",
       "      <td>0.709123</td>\n",
       "      <td>0.277669</td>\n",
       "    </tr>\n",
       "  </tbody>\n",
       "</table>\n",
       "</div>"
      ],
      "text/plain": [
       "     i  train_accuracy  validate_accuracy  difference\n",
       "2    3        0.789942           0.776659    0.013283\n",
       "3    4        0.792482           0.776066    0.016415\n",
       "4    5        0.796546           0.777251    0.019294\n",
       "5    6        0.806706           0.778436    0.028270\n",
       "6    7        0.818136           0.767773    0.050363\n",
       "7    8        0.826264           0.764218    0.062046\n",
       "8    9        0.842012           0.755924    0.086088\n",
       "9   10        0.857760           0.751777    0.105982\n",
       "10  11        0.876556           0.735782    0.140774\n",
       "11  12        0.896368           0.739929    0.156439\n",
       "12  13        0.911862           0.728673    0.183189\n",
       "13  14        0.929896           0.726303    0.203593\n",
       "14  15        0.943358           0.712085    0.231273\n",
       "15  16        0.956312           0.720379    0.235933\n",
       "16  17        0.964694           0.719194    0.245500\n",
       "17  18        0.971552           0.715047    0.256505\n",
       "18  19        0.975108           0.716232    0.258876\n",
       "19  20        0.979172           0.714455    0.264717\n",
       "20  21        0.981712           0.712678    0.269034\n",
       "21  22        0.983490           0.709716    0.273774\n",
       "22  23        0.985522           0.707346    0.278176\n",
       "23  24        0.986792           0.709123    0.277669"
      ]
     },
     "execution_count": 85,
     "metadata": {},
     "output_type": "execute_result"
    }
   ],
   "source": [
    "df_2[df_2.train_accuracy > .77]"
   ]
  },
  {
   "cell_type": "markdown",
   "id": "2bd0e09f",
   "metadata": {},
   "source": [
    "### Decision Tree Best Model"
   ]
  },
  {
   "cell_type": "code",
   "execution_count": 86,
   "id": "f8a65e58",
   "metadata": {},
   "outputs": [],
   "source": [
    "# for decision tree the best model has  max_depth of 3.\n",
    "# 3\t0.789942\t0.776659\t0.01328\n",
    "tree = DecisionTreeClassifier(max_depth=3, random_state=123)\n",
    "\n",
    "# Fit the model (on train and only train)\n",
    "tree = tree.fit(x_train, y_train)"
   ]
  },
  {
   "cell_type": "code",
   "execution_count": 87,
   "id": "c48d505c",
   "metadata": {},
   "outputs": [
    {
     "ename": "SyntaxError",
     "evalue": "invalid syntax (1641063432.py, line 1)",
     "output_type": "error",
     "traceback": [
      "\u001b[0;36m  Input \u001b[0;32mIn [87]\u001b[0;36m\u001b[0m\n\u001b[0;31m    Accuracy of Decision Tree on train data is 0.789942\u001b[0m\n\u001b[0m             ^\u001b[0m\n\u001b[0;31mSyntaxError\u001b[0m\u001b[0;31m:\u001b[0m invalid syntax\n"
     ]
    }
   ],
   "source": [
    "Accuracy of Decision Tree on train data is 0.789942\n",
    "Accuracy of Decision Tree on validate data is 0.776659"
   ]
  },
  {
   "cell_type": "code",
   "execution_count": null,
   "id": "7d47cc29",
   "metadata": {},
   "outputs": [],
   "source": [
    "Decision Tree accuracy is about "
   ]
  },
  {
   "cell_type": "code",
   "execution_count": null,
   "id": "7276dff4",
   "metadata": {},
   "outputs": [],
   "source": [
    "def get_tree_model(x_train,y_train,x_validate,y_validate):\n",
    "    ''' This function takes in train data and validate data and returns models accuracy score.\n",
    "        Train data  is used tofit Decision Tree Model. Both train and validate data is used\n",
    "        to return the accuracy score of the Decision Tree Model\n",
    "    '''\n",
    "    \n",
    "    tree = DecisionTreeClassifier(max_depth=3, random_state=123)\n",
    "    tree = tree.fit(x_train, y_train)\n",
    "    print(f\"Accuracy of Decision Tree on train data is {tree.score(x_train, y_train)}\")\n",
    "    print(f\"Accuracy of Decision Tree on validate data is {tree.score(x_validate, y_validate)}\")\n",
    "\n",
    "get_tree_model(x_train,y_train,x_validate,y_validate)"
   ]
  },
  {
   "cell_type": "code",
   "execution_count": null,
   "id": "e637399c",
   "metadata": {},
   "outputs": [],
   "source": []
  },
  {
   "cell_type": "markdown",
   "id": "8e9cd768",
   "metadata": {},
   "source": [
    "# Random Forest"
   ]
  },
  {
   "cell_type": "code",
   "execution_count": null,
   "id": "aa2c1849",
   "metadata": {
    "scrolled": false
   },
   "outputs": [],
   "source": [
    "metrics=[]\n",
    "for h in range(10,0,-1):\n",
    "   \n",
    "    print(f'max depth {h}')\n",
    "    \n",
    "    for i in range(1, 21):\n",
    "  \n",
    "    # Make the model\n",
    "        random_forest = RandomForestClassifier(max_depth=h, min_samples_leaf = i , random_state=123)\n",
    "    \n",
    "    # Fit the model (on train and only train)\n",
    "        random_forest.fit(x_train, y_train)\n",
    "        \n",
    "         # Use the model\n",
    "    # We'll evaluate the model's performance on train, first\n",
    "        in_sample_accuracy = random_forest.score(x_train, y_train)\n",
    "\n",
    "    # Use the model\n",
    "    # We'll evaluate the model's performance on train, first\n",
    "        y_pred = random_forest.predict(x_train)\n",
    "        \n",
    "        output = {\n",
    "        \"max_depth\": h,\n",
    "        \"min_samples_leaf\": i,\n",
    "        \"train_accuracy\": in_sample_accuracy,\n",
    "        #\"validate_accuracy\": y_pred\n",
    "    }\n",
    "\n",
    "        metrics.append(output)\n",
    "        \n",
    "        df = pd.DataFrame(metrics)\n",
    "df\n",
    "  \n",
    " "
   ]
  },
  {
   "cell_type": "code",
   "execution_count": null,
   "id": "41c1c956",
   "metadata": {},
   "outputs": [],
   "source": [
    "df[df.train_accuracy >.85]"
   ]
  },
  {
   "cell_type": "code",
   "execution_count": null,
   "id": "1069bd1e",
   "metadata": {
    "scrolled": true
   },
   "outputs": [],
   "source": [
    "metrics=[]\n",
    "for h in range(10,0,-1):\n",
    "   \n",
    "    print(f'max depth {h}')\n",
    "    \n",
    "    for i in range(1, 21):\n",
    "  \n",
    "    # Make the model\n",
    "        random_forest = RandomForestClassifier(max_depth=h, min_samples_leaf = i , random_state=123)\n",
    "    \n",
    "    # Fit the model (on train and only train)\n",
    "        random_forest = random_forest.fit(x_train, y_train)\n",
    "        \n",
    "         # Use the model\n",
    "    # We'll evaluate the model's performance on train, first\n",
    "        in_sample_accuracy = random_forest.score(x_train, y_train)\n",
    "        \n",
    "    \n",
    "        out_of_sample_accuracy = random_forest.score(x_validate, y_validate)\n",
    "\n",
    "\n",
    "    # Use the model\n",
    "    # We'll evaluate the model's performance on train, first\n",
    "        y_pred = random_forest.predict(x_train)\n",
    "        \n",
    "        output = {\n",
    "        \"max_depth\": h,\n",
    "        \"min_samples_leaf\": i,\n",
    "        \"train_accuracy\": in_sample_accuracy,\n",
    "         \"validate_accuracy\": out_of_sample_accuracy   \n",
    "      \n",
    "    }\n",
    "\n",
    "        metrics.append(output)\n",
    "        \n",
    "        df_2 = pd.DataFrame(metrics)\n",
    "\n",
    "\n",
    "\n",
    "        df_2[\"difference\"] = df_2.train_accuracy - df_2.validate_accuracy\n",
    "df_2"
   ]
  },
  {
   "cell_type": "code",
   "execution_count": null,
   "id": "ff27a052",
   "metadata": {},
   "outputs": [],
   "source": [
    "df_2[df_2.difference<.01]"
   ]
  },
  {
   "cell_type": "code",
   "execution_count": null,
   "id": "d8beedc9",
   "metadata": {
    "scrolled": true
   },
   "outputs": [],
   "source": [
    "df_2[df_2.validate_accuracy>.784]"
   ]
  },
  {
   "cell_type": "markdown",
   "id": "60a50375",
   "metadata": {},
   "source": [
    "### Best Model Random Forest"
   ]
  },
  {
   "cell_type": "code",
   "execution_count": null,
   "id": "62b43d84",
   "metadata": {},
   "outputs": [],
   "source": [
    "#Random Forest best model validate on Accuracy data0.020737\n",
    "# Make the model 8\t9\t0.821438\t0.784360\t0.037077\n",
    "random_forest = RandomForestClassifier(max_depth=8, min_samples_leaf = 9 , random_state=123)\n",
    "    \n",
    "# Fit the model (on train and only train)\n",
    "random_forest = random_forest.fit(x_train, y_train)"
   ]
  },
  {
   "cell_type": "code",
   "execution_count": null,
   "id": "f40bb51e",
   "metadata": {},
   "outputs": [],
   "source": [
    "def get_random_forest_model(x_train,y_train,x_validate,y_validate):\n",
    "    ''' This function takes in train data and validate data and returns models accuracy score.\n",
    "        Train data  is used to fit Random Forest Model. Both train and validate data is used\n",
    "        to return the accuracy score of the Random Forest Model\n",
    "    '''\n",
    "    \n",
    "    # Set Random Forest Model parameters\n",
    "    random_forest = RandomForestClassifier(max_depth=9, min_samples_leaf = 1 , random_state=123)\n",
    "   \n",
    "    # Use train data to fit Random Forest model\n",
    "    random_forest = random_forest.fit(x_train, y_train)\n",
    "    \n",
    "    print(f\"Accuracy of Decision Tree on train data is {random_forest.score(x_train, y_train)}\")\n",
    "    print(f\"Accuracy of Decision Tree on validate data is {random_forest.score(x_validate, y_validate)}\")\n",
    "\n",
    "get_random_forest_model(x_train,y_train,x_validate,y_validate)"
   ]
  },
  {
   "cell_type": "markdown",
   "id": "411f971f",
   "metadata": {},
   "source": [
    "# KNN"
   ]
  },
  {
   "cell_type": "code",
   "execution_count": null,
   "id": "d313e0a5",
   "metadata": {
    "scrolled": true
   },
   "outputs": [],
   "source": [
    "\n",
    "metrics = []\n",
    "\n",
    "for i in range(1,30):\n",
    "    KNN = KNeighborsClassifier(n_neighbors=i, algorithm='brute')\n",
    "    KNN.fit(x_train, y_train)\n",
    "    \n",
    "    model_accuracies = {\n",
    "        'neighbor': i,\n",
    "        'train_score': KNN.score(x_train, y_train),\n",
    "        'validate_score': KNN.score(x_validate, y_validate)}\n",
    "    \n",
    "    metrics.append(model_accuracies)\n",
    "    df = pd.DataFrame(metrics)\n",
    "\n",
    "\n",
    "df"
   ]
  },
  {
   "cell_type": "code",
   "execution_count": null,
   "id": "99566951",
   "metadata": {
    "scrolled": true
   },
   "outputs": [],
   "source": [
    "df.train_score-df.validate_score"
   ]
  },
  {
   "cell_type": "markdown",
   "id": "6ed7d58e",
   "metadata": {},
   "source": [
    "# Best Model KNN"
   ]
  },
  {
   "cell_type": "code",
   "execution_count": null,
   "id": "3edb9205",
   "metadata": {},
   "outputs": [],
   "source": [
    "#6\t0.82\t0.77 validate accuracy\n",
    "#10 \t11\t0.813056\t0.773697\n",
    "\n",
    "KNN = KNeighborsClassifier(n_neighbors=11)\n",
    "KNN.fit(x_train, y_train)\n",
    "\n",
    "# 24\t25\t0.801626\t0.780213\n",
    "KNN = KNeighborsClassifier(n_neighbors=25, algorithm='brute')\n",
    "KNN.fit(x_train, y_train)\n"
   ]
  },
  {
   "cell_type": "code",
   "execution_count": null,
   "id": "52e79402",
   "metadata": {},
   "outputs": [],
   "source": [
    "def get_knn_model(x_train,y_train,x_validate,y_validate):\n",
    "    ''' This function takes in train data and validate data and returns the models accuracy score.\n",
    "        Train data  is used to fit the KNN Model. Both train and validate data is used\n",
    "        to return the accuracy score of for the KNN Model\n",
    "    '''\n",
    "    \n",
    "    # Set Random Forest Model parameters\n",
    "    KNN = KNeighborsClassifier(n_neighbors=25, algorithm='brute')\n",
    "   \n",
    "    # Use train data to fit Random Forest model\n",
    "    KNN.fit(x_train, y_train)\n",
    "    \n",
    "    print(f'Accuracy of Decision Tree on train data is {KNN.score(x_train, y_train)} about {round(KNN.score(x_train, y_train)*100,2)}%')\n",
    "    print(f'Accuracy of Decision Tree on validate data is {KNN.score(x_validate, y_validate)} about {round(KNN.score(x_validate, y_validate)*100,2)}%')\n",
    "\n",
    "get_knn_model(x_train,y_train,x_validate,y_validate)"
   ]
  },
  {
   "cell_type": "code",
   "execution_count": null,
   "id": "806ff869",
   "metadata": {},
   "outputs": [],
   "source": []
  },
  {
   "cell_type": "markdown",
   "id": "369c5b38",
   "metadata": {},
   "source": [
    "* "
   ]
  },
  {
   "cell_type": "markdown",
   "id": "1467d716",
   "metadata": {},
   "source": [
    "# Logistic Regression"
   ]
  },
  {
   "cell_type": "code",
   "execution_count": null,
   "id": "1d58f3d1",
   "metadata": {},
   "outputs": [],
   "source": [
    "# Define the logistic regression model\n",
    "logit = LogisticRegression(C=1, random_state=123)"
   ]
  },
  {
   "cell_type": "code",
   "execution_count": null,
   "id": "0fb26b9b",
   "metadata": {},
   "outputs": [],
   "source": [
    "#  fit the model on train data \n",
    "logit.fit(x_train, y_train)"
   ]
  },
  {
   "cell_type": "code",
   "execution_count": null,
   "id": "e7f740a9",
   "metadata": {},
   "outputs": [],
   "source": [
    "y_pred = logit.predict(x_train)\n",
    "\n",
    "# classification report for Model 2 using train data\n",
    "print(classification_report(y_train, y_pred))\n"
   ]
  },
  {
   "cell_type": "code",
   "execution_count": null,
   "id": "fb941c88",
   "metadata": {},
   "outputs": [],
   "source": [
    "y_p = logit.predict(x_validate)\n",
    "\n",
    "# classification report for Model 2 using train data\n",
    "print(classification_report(y_validate, y_p))"
   ]
  },
  {
   "cell_type": "code",
   "execution_count": null,
   "id": "bf315736",
   "metadata": {},
   "outputs": [],
   "source": [
    "# best model .78  on validate,\n",
    "logit = LogisticRegression(C=1, random_state=123)"
   ]
  },
  {
   "cell_type": "code",
   "execution_count": null,
   "id": "4e9a53f2",
   "metadata": {},
   "outputs": [],
   "source": [
    "def get_logit_model(x_train,y_train,x_validate,y_validate):\n",
    "    ''' This function takes in train data and validate data and returns the models accuracy score.\n",
    "        Train data  is used to fit the Logistic Regression Model. Both train and validate data is used\n",
    "        to return the accuracy score of for the Logistic Regression Model\n",
    "    '''\n",
    "    \n",
    "    # Define the logistic regression model\n",
    "    logit = LogisticRegression(C=1,random_state=123)\n",
    "   \n",
    "   \n",
    "    # Use train data to fit Logistic Regression model\n",
    "    logit.fit(x_train, y_train)\n",
    "    \n",
    "    diff = logit.score(x_train, y_train)-logit.score(x_validate, y_validate)\n",
    "    \n",
    "    print(f'Accuracy of Decision Tree on train data is {logit.score(x_train, y_train)} about {round(logit.score(x_train, y_train)*100,2)}%')\n",
    "    print(f'Accuracy of Decision Tree on validate data is {logit.score(x_validate, y_validate)} about {round(logit.score(x_validate, y_validate)*100,2)}%')\n",
    "    print(f'Difference: {round(diff,4)}')\n",
    "    \n",
    "get_logit_model(x_train,y_train,x_validate,y_validate)"
   ]
  },
  {
   "cell_type": "code",
   "execution_count": null,
   "id": "9a2faadc",
   "metadata": {},
   "outputs": [],
   "source": [
    "# Define the logistic regression model\n",
    "logit = LogisticRegression(C=1, solver='s',random_state=123)\n",
    "#  fit the model on train data usingfeatures \n",
    "logit.fit(x_train, y_train)\n",
    "\n",
    "y_pred = logit.predict(x_train)\n",
    "\n",
    "# classification report for Model 2 using train data\n",
    "print(classification_report(y_train, y_pred))\n",
    "\n",
    "y_p = logit.predict(x_validate)\n",
    "\n",
    "# classification report for Model 2 using train data\n",
    "print(classification_report(y_validate, y_p))"
   ]
  },
  {
   "cell_type": "code",
   "execution_count": null,
   "id": "08a72540",
   "metadata": {},
   "outputs": [],
   "source": []
  },
  {
   "cell_type": "code",
   "execution_count": null,
   "id": "f7a5ffd7",
   "metadata": {},
   "outputs": [],
   "source": []
  }
 ],
 "metadata": {
  "kernelspec": {
   "display_name": "Python 3 (ipykernel)",
   "language": "python",
   "name": "python3"
  },
  "language_info": {
   "codemirror_mode": {
    "name": "ipython",
    "version": 3
   },
   "file_extension": ".py",
   "mimetype": "text/x-python",
   "name": "python",
   "nbconvert_exporter": "python",
   "pygments_lexer": "ipython3",
   "version": "3.9.12"
  }
 },
 "nbformat": 4,
 "nbformat_minor": 5
}
